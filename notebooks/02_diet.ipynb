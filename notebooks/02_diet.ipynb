{
 "cells": [
  {
   "cell_type": "markdown",
   "source": [
    "# The diet problem"
   ],
   "metadata": {}
  },
  {
   "cell_type": "markdown",
   "source": [
    "The purpose of this tutorial is to demonstrate how to incorporate DataFrames\n",
    "into a JuMP model. As an example, we use classic [Stigler diet problem](https://en.wikipedia.org/wiki/Stigler_diet)."
   ],
   "metadata": {}
  },
  {
   "cell_type": "markdown",
   "source": [
    "## Required packages"
   ],
   "metadata": {}
  },
  {
   "cell_type": "markdown",
   "source": [
    "This tutorial requires the following packages:"
   ],
   "metadata": {}
  },
  {
   "outputs": [],
   "cell_type": "code",
   "source": [
    "using JuMP\n",
    "import CSV\n",
    "import DataFrames\n",
    "import HiGHS\n",
    "import Test  #hide"
   ],
   "metadata": {},
   "execution_count": null
  },
  {
   "cell_type": "markdown",
   "source": [
    "## Formulation"
   ],
   "metadata": {}
  },
  {
   "cell_type": "markdown",
   "source": [
    "We wish to cook a nutritionally balanced meal by choosing the quantity of each\n",
    "food $f$ to eat from a set of foods $F$ in our kitchen."
   ],
   "metadata": {}
  },
  {
   "cell_type": "markdown",
   "source": [
    "Each food $f$ has a cost, $c_f$, as well as a macro-nutrient profile\n",
    "$a_{m,f}$ for each macro-nutrient $m \\in M$."
   ],
   "metadata": {}
  },
  {
   "cell_type": "markdown",
   "source": [
    "Because we care about a nutritionally balanced meal, we set some minimum and\n",
    "maximum limits for each nutrient, which we denote $l_m$ and $u_m$\n",
    "respectively."
   ],
   "metadata": {}
  },
  {
   "cell_type": "markdown",
   "source": [
    "Furthermore, because we are optimizers, we seek the minimum cost solution."
   ],
   "metadata": {}
  },
  {
   "cell_type": "markdown",
   "source": [
    "With a little effort, we can formulate our dinner problem as the following\n",
    "linear program:\n",
    "$$\n",
    "\\begin{aligned}\n",
    "\\min & \\sum\\limits_{f \\in F} c_f x_f \\\\\n",
    "\\text{s.t.}\\ \\ & l_m \\le \\sum\\limits_{f \\in F} a_{m,f} x_f \\le u_m, && \\forall m \\in M \\\\\n",
    "& x_f \\ge 0, && \\forall f \\in F.\n",
    "\\end{aligned}\n",
    "$$"
   ],
   "metadata": {}
  },
  {
   "cell_type": "markdown",
   "source": [
    "In the rest of this tutorial, we will create and solve this problem in JuMP,\n",
    "and learn what we should cook for dinner."
   ],
   "metadata": {}
  },
  {
   "cell_type": "markdown",
   "source": [
    "## Data"
   ],
   "metadata": {}
  },
  {
   "cell_type": "markdown",
   "source": [
    "First, we need some data for the problem. For this tutorial, we'll write CSV\n",
    "files to a temporary directory from Julia. If you have existing files, you\n",
    "could change the filenames to point to them instead."
   ],
   "metadata": {}
  },
  {
   "outputs": [],
   "cell_type": "code",
   "source": [
    "dir = mktempdir()"
   ],
   "metadata": {},
   "execution_count": null
  },
  {
   "cell_type": "markdown",
   "source": [
    "The first file is a list of foods with their macro-nutrient profile:"
   ],
   "metadata": {}
  },
  {
   "outputs": [],
   "cell_type": "code",
   "source": [
    "food_csv_filename = joinpath(dir, \"diet_foods.csv\")\n",
    "open(food_csv_filename, \"w\") do io\n",
    "    write(\n",
    "        io,\n",
    "        \"\"\"\n",
    "        name,cost,calories,protein,fat,sodium\n",
    "        hamburger,2.49,410,24,26,730\n",
    "        chicken,2.89,420,32,10,1190\n",
    "        hot dog,1.50,560,20,32,1800\n",
    "        fries,1.89,380,4,19,270\n",
    "        macaroni,2.09,320,12,10,930\n",
    "        pizza,1.99,320,15,12,820\n",
    "        salad,2.49,320,31,12,1230\n",
    "        milk,0.89,100,8,2.5,125\n",
    "        ice cream,1.59,330,8,10,180\n",
    "        \"\"\",\n",
    "    )\n",
    "    return\n",
    "end\n",
    "foods = CSV.read(food_csv_filename, DataFrames.DataFrame)"
   ],
   "metadata": {},
   "execution_count": null
  },
  {
   "cell_type": "markdown",
   "source": [
    "Here, $F$ is `foods.name` and $c_f$ is `foods.cost`. (We're also playing\n",
    "a bit loose the term \"macro-nutrient\" by including calories and sodium.)"
   ],
   "metadata": {}
  },
  {
   "cell_type": "markdown",
   "source": [
    "We also need our minimum and maximum limits:"
   ],
   "metadata": {}
  },
  {
   "outputs": [],
   "cell_type": "code",
   "source": [
    "nutrient_csv_filename = joinpath(dir, \"diet_nutrient.csv\")\n",
    "open(nutrient_csv_filename, \"w\") do io\n",
    "    write(\n",
    "        io,\n",
    "        \"\"\"\n",
    "        nutrient,min,max\n",
    "        calories,1800,2200\n",
    "        protein,91,\n",
    "        fat,0,65\n",
    "        sodium,0,1779\n",
    "        \"\"\",\n",
    "    )\n",
    "    return\n",
    "end\n",
    "limits = CSV.read(nutrient_csv_filename, DataFrames.DataFrame)"
   ],
   "metadata": {},
   "execution_count": null
  },
  {
   "cell_type": "markdown",
   "source": [
    "Protein is missing data for the maximum. Let's fix that using `coalesce`:"
   ],
   "metadata": {}
  },
  {
   "outputs": [],
   "cell_type": "code",
   "source": [
    "limits.max = coalesce.(limits.max, Inf)\n",
    "limits"
   ],
   "metadata": {},
   "execution_count": null
  },
  {
   "cell_type": "markdown",
   "source": [
    "## JuMP formulation"
   ],
   "metadata": {}
  },
  {
   "cell_type": "markdown",
   "source": [
    "Now we're ready to convert our mathematical formulation into a JuMP model."
   ],
   "metadata": {}
  },
  {
   "cell_type": "markdown",
   "source": [
    "First, create a new JuMP model. Since we have a linear program, we'll use\n",
    "HiGHS as our optimizer:"
   ],
   "metadata": {}
  },
  {
   "outputs": [],
   "cell_type": "code",
   "source": [
    "model = Model(HiGHS.Optimizer)\n",
    "set_silent(model)"
   ],
   "metadata": {},
   "execution_count": null
  },
  {
   "cell_type": "markdown",
   "source": [
    "Next, we create a set of decision variables `x`, with one element for each row\n",
    "in the DataFrame, and each `x` has a lower bound of `0`:"
   ],
   "metadata": {}
  },
  {
   "outputs": [],
   "cell_type": "code",
   "source": [
    "@variable(model, x[foods.name] >= 0)"
   ],
   "metadata": {},
   "execution_count": null
  },
  {
   "cell_type": "markdown",
   "source": [
    "To simplify things later on, we store the vector as a new column `x` in the\n",
    "DataFrame `foods`. Since `x` is a `DenseAxisArray`, we first need to convert\n",
    "it to an `Array`:"
   ],
   "metadata": {}
  },
  {
   "outputs": [],
   "cell_type": "code",
   "source": [
    "foods.x = Array(x)"
   ],
   "metadata": {},
   "execution_count": null
  },
  {
   "cell_type": "markdown",
   "source": [
    "Our objective is to minimize the total cost of purchasing food:"
   ],
   "metadata": {}
  },
  {
   "outputs": [],
   "cell_type": "code",
   "source": [
    "@objective(model, Min, sum(foods.cost .* foods.x));"
   ],
   "metadata": {},
   "execution_count": null
  },
  {
   "cell_type": "markdown",
   "source": [
    "For the next component, we need to add a constraint that our total intake of\n",
    "each component is within the limits contained in the `limits` DataFrame:"
   ],
   "metadata": {}
  },
  {
   "outputs": [],
   "cell_type": "code",
   "source": [
    "@constraint(\n",
    "    model,\n",
    "    [row in eachrow(limits)],\n",
    "    row.min <= sum(foods[!, row.nutrient] .* foods.x) <= row.max,\n",
    ");"
   ],
   "metadata": {},
   "execution_count": null
  },
  {
   "cell_type": "markdown",
   "source": [
    "What does our model look like?"
   ],
   "metadata": {}
  },
  {
   "outputs": [],
   "cell_type": "code",
   "source": [
    "print(model)"
   ],
   "metadata": {},
   "execution_count": null
  },
  {
   "cell_type": "markdown",
   "source": [
    "## Solution"
   ],
   "metadata": {}
  },
  {
   "cell_type": "markdown",
   "source": [
    "Let's optimize and take a look at the solution:"
   ],
   "metadata": {}
  },
  {
   "outputs": [],
   "cell_type": "code",
   "source": [
    "optimize!(model)\n",
    "Test.@test primal_status(model) == FEASIBLE_POINT        #hide\n",
    "Test.@test objective_value(model) ≈ 11.8288 atol = 1e-4  #hide\n",
    "solution_summary(model)"
   ],
   "metadata": {},
   "execution_count": null
  },
  {
   "cell_type": "markdown",
   "source": [
    "We found an optimal solution. Let's see what the optimal solution is:"
   ],
   "metadata": {}
  },
  {
   "outputs": [],
   "cell_type": "code",
   "source": [
    "for row in eachrow(foods)\n",
    "    println(row.name, \" = \", value(row.x))\n",
    "end"
   ],
   "metadata": {},
   "execution_count": null
  },
  {
   "cell_type": "markdown",
   "source": [
    "That's a lot of milk and ice cream, and sadly, we only get `0.6` of a\n",
    "hamburger."
   ],
   "metadata": {}
  },
  {
   "cell_type": "markdown",
   "source": [
    "We can also use the function `Containers.rowtable` to easily convert\n",
    "the result into a DataFrame:"
   ],
   "metadata": {}
  },
  {
   "outputs": [],
   "cell_type": "code",
   "source": [
    "table = Containers.rowtable(value, x; header = [:food, :quantity])\n",
    "solution = DataFrames.DataFrame(table)"
   ],
   "metadata": {},
   "execution_count": null
  },
  {
   "cell_type": "markdown",
   "source": [
    "This makes it easy to perform analyses our solution:"
   ],
   "metadata": {}
  },
  {
   "outputs": [],
   "cell_type": "code",
   "source": [
    "filter!(row -> row.quantity > 0.0, solution)"
   ],
   "metadata": {},
   "execution_count": null
  },
  {
   "cell_type": "markdown",
   "source": [
    "## Problem modification"
   ],
   "metadata": {}
  },
  {
   "cell_type": "markdown",
   "source": [
    "JuMP makes it easy to take an existing model and modify it by adding extra\n",
    "constraints. Let's see what happens if we add a constraint that we can buy at\n",
    "most 6 units of milk or ice cream combined."
   ],
   "metadata": {}
  },
  {
   "outputs": [],
   "cell_type": "code",
   "source": [
    "dairy_foods = [\"milk\", \"ice cream\"]\n",
    "is_dairy = map(name -> name in dairy_foods, foods.name)\n",
    "dairy_constraint = @constraint(model, sum(foods[is_dairy, :x]) <= 6)\n",
    "optimize!(model)\n",
    "Test.@test termination_status(model) == INFEASIBLE  #hide\n",
    "Test.@test primal_status(model) == NO_SOLUTION      #hide\n",
    "solution_summary(model)"
   ],
   "metadata": {},
   "execution_count": null
  },
  {
   "cell_type": "markdown",
   "source": [
    "There exists no feasible solution to our problem. Looks like we're stuck\n",
    "eating ice cream for dinner."
   ],
   "metadata": {}
  },
  {
   "cell_type": "markdown",
   "source": [
    "## Next steps"
   ],
   "metadata": {}
  },
  {
   "cell_type": "markdown",
   "source": [
    "* You can delete a constraint using `delete(model, dairy_constraint)`. Can you\n",
    "  add a different constraint to provide a diet with less dairy?\n",
    "* Some food items (like hamburgers) are discrete. You can use `set_integer`\n",
    "  to force a variable to take integer values. What happens to the solution if\n",
    "  you do?"
   ],
   "metadata": {}
  }
 ],
 "nbformat_minor": 3,
 "metadata": {
  "language_info": {
   "file_extension": ".jl",
   "mimetype": "application/julia",
   "name": "julia",
   "version": "1.9.3"
  },
  "kernelspec": {
   "name": "julia-1.9",
   "display_name": "Julia 1.9.3",
   "language": "julia"
  }
 },
 "nbformat": 4
}
