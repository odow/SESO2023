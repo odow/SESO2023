{
 "cells": [
  {
   "cell_type": "markdown",
   "source": [
    "# Multi-objective knapsack"
   ],
   "metadata": {}
  },
  {
   "cell_type": "markdown",
   "source": [
    "The purpose of this tutorial is to demonstrate how to create and solve a\n",
    "multi-objective linear program. In addition, it demonstrates how to work with\n",
    "solvers which return multiple solutions."
   ],
   "metadata": {}
  },
  {
   "cell_type": "markdown",
   "source": [
    "## Required packages"
   ],
   "metadata": {}
  },
  {
   "cell_type": "markdown",
   "source": [
    "This tutorial requires the following packages:"
   ],
   "metadata": {}
  },
  {
   "outputs": [],
   "cell_type": "code",
   "source": [
    "using JuMP\n",
    "import HiGHS\n",
    "import MultiObjectiveAlgorithms as MOA\n",
    "import Plots\n",
    "import Test  #hide"
   ],
   "metadata": {},
   "execution_count": null
  },
  {
   "cell_type": "markdown",
   "source": [
    "MultiObjectiveAlgorithms.jl is a package which implements a variety of\n",
    "algorithms for solving multi-objective optimization problems. Because it is a\n",
    "long package name, we import it instead as `MOA`."
   ],
   "metadata": {}
  },
  {
   "cell_type": "markdown",
   "source": [
    "## Formulation"
   ],
   "metadata": {}
  },
  {
   "cell_type": "markdown",
   "source": [
    "The [knapsack problem](https://en.wikipedia.org/wiki/Knapsack_problem) is a\n",
    "classic problem in mixed-integer programming. Given a collection of items\n",
    "$i \\in I$, each of which has an associated weight, $w_i$, and profit,\n",
    "$p_i$, the knapsack problem determines which profit-maximizing subset of\n",
    "items to pack into a knapsack such that the total weight is less than a\n",
    "capacity $c$. The mathematical formulation is:"
   ],
   "metadata": {}
  },
  {
   "cell_type": "markdown",
   "source": [
    "$$\n",
    "\\begin{aligned}\n",
    "\\max & \\sum\\limits_{i \\in I} p_i x_i \\\\\n",
    "\\text{s.t.}\\ \\ & \\sum\\limits_{i \\in I} w_i x_i \\le c\\\\\n",
    "& x_i \\in \\{0, 1\\} && \\forall i \\in I\n",
    "\\end{aligned}\n",
    "$$\n",
    "where $x_i$ is $1$ if we pack item $i$ into the knapsack and $0$\n",
    "otherwise."
   ],
   "metadata": {}
  },
  {
   "cell_type": "markdown",
   "source": [
    "For this tutorial, we extend the single-objective knapsack problem by adding\n",
    "another objective: given a desirability rating, $r_i$, we wish to maximize\n",
    "the total desirability of the items in our knapsack. Thus, our mathematical\n",
    "formulation is now:"
   ],
   "metadata": {}
  },
  {
   "cell_type": "markdown",
   "source": [
    "$$\n",
    "\\begin{aligned}\n",
    "\\max & \\sum\\limits_{i \\in I} p_i x_i \\\\\n",
    "     & \\sum\\limits_{i \\in I} r_i x_i \\\\\n",
    "\\text{s.t.}\\ \\ & \\sum\\limits_{i \\in I} w_i x_i \\le c\\\\\n",
    "& x_i \\in \\{0, 1\\} && \\forall i \\in I\n",
    "\\end{aligned}\n",
    "$$"
   ],
   "metadata": {}
  },
  {
   "cell_type": "markdown",
   "source": [
    "## Data"
   ],
   "metadata": {}
  },
  {
   "cell_type": "markdown",
   "source": [
    "The data for this example was taken from [vOptGeneric](https://github.com/vOptSolver/vOptGeneric.jl),\n",
    "and the original author was [@xgandibleux](https://github.com/xgandibleux)."
   ],
   "metadata": {}
  },
  {
   "outputs": [],
   "cell_type": "code",
   "source": [
    "profit = [77, 94, 71, 63, 96, 82, 85, 75, 72, 91, 99, 63, 84, 87, 79, 94, 90]\n",
    "desire = [65, 90, 90, 77, 95, 84, 70, 94, 66, 92, 74, 97, 60, 60, 65, 97, 93]\n",
    "weight = [80, 87, 68, 72, 66, 77, 99, 85, 70, 93, 98, 72, 100, 89, 67, 86, 91]\n",
    "capacity = 900\n",
    "N = length(profit)"
   ],
   "metadata": {},
   "execution_count": null
  },
  {
   "cell_type": "markdown",
   "source": [
    "Comparing the capacity to the total weight of all the items:"
   ],
   "metadata": {}
  },
  {
   "outputs": [],
   "cell_type": "code",
   "source": [
    "capacity / sum(weight)"
   ],
   "metadata": {},
   "execution_count": null
  },
  {
   "cell_type": "markdown",
   "source": [
    "shows that we can take approximately 64% of the items."
   ],
   "metadata": {}
  },
  {
   "cell_type": "markdown",
   "source": [
    "Plotting the items, we see that there are a range of items with different\n",
    "profits and desirability. Some items have a high profit and a high\n",
    "desirability, others have a low profit and a high desirability (and vice\n",
    "versa)."
   ],
   "metadata": {}
  },
  {
   "outputs": [],
   "cell_type": "code",
   "source": [
    "Plots.scatter(\n",
    "    profit,\n",
    "    desire;\n",
    "    xlabel = \"Profit\",\n",
    "    ylabel = \"Desire\",\n",
    "    legend = false,\n",
    ")"
   ],
   "metadata": {},
   "execution_count": null
  },
  {
   "cell_type": "markdown",
   "source": [
    "The goal of the bi-objective knapsack problem is to choose a subset which\n",
    "maximizes both objectives."
   ],
   "metadata": {}
  },
  {
   "cell_type": "markdown",
   "source": [
    "## JuMP formulation"
   ],
   "metadata": {}
  },
  {
   "cell_type": "markdown",
   "source": [
    "Our JuMP formulation is a direct translation of the mathematical formulation:"
   ],
   "metadata": {}
  },
  {
   "outputs": [],
   "cell_type": "code",
   "source": [
    "model = Model()\n",
    "@variable(model, x[1:N], Bin)\n",
    "@constraint(model, sum(weight[i] * x[i] for i in 1:N) <= capacity)\n",
    "@expression(model, profit_expr, sum(profit[i] * x[i] for i in 1:N))\n",
    "@expression(model, desire_expr, sum(desire[i] * x[i] for i in 1:N))\n",
    "@objective(model, Max, [profit_expr, desire_expr])"
   ],
   "metadata": {},
   "execution_count": null
  },
  {
   "cell_type": "markdown",
   "source": [
    "Note how we form a multi-objective program by passing a vector of scalar\n",
    "objective functions."
   ],
   "metadata": {}
  },
  {
   "cell_type": "markdown",
   "source": [
    "## Solution"
   ],
   "metadata": {}
  },
  {
   "cell_type": "markdown",
   "source": [
    "To solve our model, we need an optimizer which supports multi-objective linear\n",
    "programs. One option is to use the MultiObjectiveAlgorithms.jl\n",
    "package."
   ],
   "metadata": {}
  },
  {
   "outputs": [],
   "cell_type": "code",
   "source": [
    "set_optimizer(model, () -> MOA.Optimizer(HiGHS.Optimizer))\n",
    "set_silent(model)"
   ],
   "metadata": {},
   "execution_count": null
  },
  {
   "cell_type": "markdown",
   "source": [
    "MultiObjectiveAlgorithms.jl supports many different algorithms for solving\n",
    "multiobjective optimization problems. One option is the epsilon-constraint\n",
    "method:"
   ],
   "metadata": {}
  },
  {
   "outputs": [],
   "cell_type": "code",
   "source": [
    "set_attribute(model, MOA.Algorithm(), MOA.EpsilonConstraint())"
   ],
   "metadata": {},
   "execution_count": null
  },
  {
   "cell_type": "markdown",
   "source": [
    "Let's solve the problem and see the solution"
   ],
   "metadata": {}
  },
  {
   "outputs": [],
   "cell_type": "code",
   "source": [
    "optimize!(model)\n",
    "solution_summary(model)"
   ],
   "metadata": {},
   "execution_count": null
  },
  {
   "cell_type": "markdown",
   "source": [
    "There are 9 solutions available. We can also use `result_count` to see\n",
    "how many solutions are available:"
   ],
   "metadata": {}
  },
  {
   "outputs": [],
   "cell_type": "code",
   "source": [
    "result_count(model)"
   ],
   "metadata": {},
   "execution_count": null
  },
  {
   "cell_type": "markdown",
   "source": [
    "## Accessing multiple solutions"
   ],
   "metadata": {}
  },
  {
   "cell_type": "markdown",
   "source": [
    "Access the nine different solutions in the model using the `result` keyword to\n",
    "`solution_summary`, `value`, and `objective_value`:"
   ],
   "metadata": {}
  },
  {
   "outputs": [],
   "cell_type": "code",
   "source": [
    "solution_summary(model; result = 5)"
   ],
   "metadata": {},
   "execution_count": null
  },
  {
   "outputs": [],
   "cell_type": "code",
   "source": [
    "objective_value(model; result = 5)"
   ],
   "metadata": {},
   "execution_count": null
  },
  {
   "cell_type": "markdown",
   "source": [
    "Note that because we set a vector of two objective functions, the objective\n",
    "value is a vector with two elements. We can also query the value of each\n",
    "objective separately:"
   ],
   "metadata": {}
  },
  {
   "outputs": [],
   "cell_type": "code",
   "source": [
    "value(profit_expr; result = 5)"
   ],
   "metadata": {},
   "execution_count": null
  },
  {
   "cell_type": "markdown",
   "source": [
    "## Visualizing objective space"
   ],
   "metadata": {}
  },
  {
   "cell_type": "markdown",
   "source": [
    "Unlike single-objective optimization problems, multi-objective optimization\n",
    "problems do not have a single optimal solution. Instead, the solutions\n",
    "returned represent possible trade-offs that the decision maker can choose\n",
    "between the two objectives. A common way to visualize this is by plotting\n",
    "the objective values of each of the solutions:"
   ],
   "metadata": {}
  },
  {
   "outputs": [],
   "cell_type": "code",
   "source": [
    "plot = Plots.scatter(\n",
    "    [value(profit_expr; result = i) for i in 1:result_count(model)],\n",
    "    [value(desire_expr; result = i) for i in 1:result_count(model)];\n",
    "    xlabel = \"Profit\",\n",
    "    ylabel = \"Desire\",\n",
    "    title = \"Objective space\",\n",
    "    label = \"\",\n",
    "    xlims = (915, 960),\n",
    ")\n",
    "for i in 1:result_count(model)\n",
    "    y = objective_value(model; result = i)\n",
    "    Plots.annotate!(y[1] - 1, y[2], (i, 10))\n",
    "end\n",
    "ideal_point = objective_bound(model)\n",
    "Plots.scatter!([ideal_point[1]], [ideal_point[2]]; label = \"Ideal point\")"
   ],
   "metadata": {},
   "execution_count": null
  },
  {
   "cell_type": "markdown",
   "source": [
    "Visualizing the objective space lets the decision maker choose a solution that\n",
    "suits their personal preferences. For example, result `#7` is close to the\n",
    "maximum value of profit, but offers significantly higher desirability compared\n",
    "with solutions `#8` and `#9`."
   ],
   "metadata": {}
  },
  {
   "cell_type": "markdown",
   "source": [
    "The set of items that are chosen in solution `#7` are:"
   ],
   "metadata": {}
  },
  {
   "outputs": [],
   "cell_type": "code",
   "source": [
    "items_chosen = [i for i in 1:N if value(x[i]; result = 7) > 0.9]"
   ],
   "metadata": {},
   "execution_count": null
  },
  {
   "cell_type": "markdown",
   "source": [
    "## Next steps"
   ],
   "metadata": {}
  },
  {
   "cell_type": "markdown",
   "source": [
    "MultiObjectiveAlgorithms.jl implements a number of different\n",
    "algorithms. Try solving the same problem using `MOA.Dichotomy()`. Does it find\n",
    "the same solution?"
   ],
   "metadata": {}
  }
 ],
 "nbformat_minor": 3,
 "metadata": {
  "language_info": {
   "file_extension": ".jl",
   "mimetype": "application/julia",
   "name": "julia",
   "version": "1.9.3"
  },
  "kernelspec": {
   "name": "julia-1.9",
   "display_name": "Julia 1.9.3",
   "language": "julia"
  }
 },
 "nbformat": 4
}
