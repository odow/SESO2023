{
 "cells": [
  {
   "cell_type": "markdown",
   "source": [
    "# Design patterns for larger models"
   ],
   "metadata": {}
  },
  {
   "cell_type": "markdown",
   "source": [
    "JuMP makes it easy to build and solve optimization models. However, once you\n",
    "start to construct larger models, and especially ones that interact with\n",
    "external data sources or have customizable sets of variables and constraints\n",
    "based on client choices, you may find that your scripts become unwieldy. This\n",
    "tutorial demonstrates a variety of ways in which you can structure larger JuMP\n",
    "models to improve their readability and maintainability."
   ],
   "metadata": {}
  },
  {
   "cell_type": "markdown",
   "source": [
    "**Tip**\n",
    "    This tutorial is more advanced than the other \"Getting started\" tutorials.\n",
    "    It's in the \"Getting started\" section to give you an early preview of how\n",
    "    JuMP makes it easy to structure larger models. However, if you are new to\n",
    "    JuMP you may want to briefly skim the tutorial, and come back to it once\n",
    "    you have written a few JuMP models."
   ],
   "metadata": {}
  },
  {
   "cell_type": "markdown",
   "source": [
    "## Overview"
   ],
   "metadata": {}
  },
  {
   "cell_type": "markdown",
   "source": [
    "This tutorial uses explanation-by-example. We're going to start with a simple\n",
    "[knapsack model](https://en.wikipedia.org/wiki/Knapsack_problem), and then\n",
    "expand it to add various features and structure."
   ],
   "metadata": {}
  },
  {
   "cell_type": "markdown",
   "source": [
    "## A simple script"
   ],
   "metadata": {}
  },
  {
   "cell_type": "markdown",
   "source": [
    "Your first prototype of a JuMP model is probably a script that uses a small\n",
    "set of hard-coded data."
   ],
   "metadata": {}
  },
  {
   "outputs": [],
   "cell_type": "code",
   "source": [
    "using JuMP, HiGHS\n",
    "profit = [5, 3, 2, 7, 4]\n",
    "weight = [2, 8, 4, 2, 5]\n",
    "capacity = 10\n",
    "N = 5\n",
    "model = Model(HiGHS.Optimizer)\n",
    "@variable(model, x[1:N], Bin)\n",
    "@objective(model, Max, sum(profit[i] * x[i] for i in 1:N))\n",
    "@constraint(model, sum(weight[i] * x[i] for i in 1:N) <= capacity)\n",
    "optimize!(model)\n",
    "value.(x)"
   ],
   "metadata": {},
   "execution_count": null
  },
  {
   "cell_type": "markdown",
   "source": [
    "The benefits of this approach are:\n",
    " * it is quick to code\n",
    " * it is quick to make changes."
   ],
   "metadata": {}
  },
  {
   "cell_type": "markdown",
   "source": [
    "The downsides include:\n",
    " * all variables are global (read [Performance tips](https://docs.julialang.org/en/v1/manual/performance-tips/))\n",
    " * it is easy to introduce errors, for example, having `profit` and `weight` be\n",
    "   vectors of different lengths, or not match `N`\n",
    " * the solution, `x[i]`, is hard to interpret without knowing the order in\n",
    "   which we provided the data."
   ],
   "metadata": {}
  },
  {
   "cell_type": "markdown",
   "source": [
    "## Wrap the model in a function"
   ],
   "metadata": {}
  },
  {
   "cell_type": "markdown",
   "source": [
    "A good next step is to wrap your model in a function. This is useful for a few\n",
    "reasons:\n",
    " * it removes global variables\n",
    " * it encapsulates the JuMP model and forces you to clarify your inputs and\n",
    "   outputs\n",
    " * we can add some error checking."
   ],
   "metadata": {}
  },
  {
   "outputs": [],
   "cell_type": "code",
   "source": [
    "function solve_knapsack_1(profit::Vector, weight::Vector, capacity::Real)\n",
    "    if length(profit) != length(weight)\n",
    "        throw(DimensionMismatch(\"profit and weight are different sizes\"))\n",
    "    end\n",
    "    N = length(weight)\n",
    "    model = Model(HiGHS.Optimizer)\n",
    "    @variable(model, x[1:N], Bin)\n",
    "    @objective(model, Max, sum(profit[i] * x[i] for i in 1:N))\n",
    "    @constraint(model, sum(weight[i] * x[i] for i in 1:N) <= capacity)\n",
    "    optimize!(model)\n",
    "    return value.(x)\n",
    "end\n",
    "\n",
    "solve_knapsack_1([5, 3, 2, 7, 4], [2, 8, 4, 2, 5], 10)"
   ],
   "metadata": {},
   "execution_count": null
  },
  {
   "cell_type": "markdown",
   "source": [
    "## Create better data structures"
   ],
   "metadata": {}
  },
  {
   "cell_type": "markdown",
   "source": [
    "Although we can check for errors like mis-matched vector lengths, if you start\n",
    "to develop models with a lot of data, keeping track of vectors and lengths and\n",
    "indices is fragile and a common source of bugs. A good solution is to use\n",
    "Julia's type system to create an abstraction over your data."
   ],
   "metadata": {}
  },
  {
   "cell_type": "markdown",
   "source": [
    "For example, we can create a `struct` that represents a single object, with a\n",
    "constructor that lets us validate assumptions on the input data:"
   ],
   "metadata": {}
  },
  {
   "outputs": [],
   "cell_type": "code",
   "source": [
    "struct KnapsackObject\n",
    "    profit::Float64\n",
    "    weight::Float64\n",
    "    function KnapsackObject(profit::Float64, weight::Float64)\n",
    "        if weight < 0\n",
    "            throw(DomainError(\"Weight of object cannot be negative\"))\n",
    "        end\n",
    "        return new(profit, weight)\n",
    "    end\n",
    "end"
   ],
   "metadata": {},
   "execution_count": null
  },
  {
   "cell_type": "markdown",
   "source": [
    "as well as a `struct` that holds a dictionary of objects and the knapsack's\n",
    "capacity:"
   ],
   "metadata": {}
  },
  {
   "outputs": [],
   "cell_type": "code",
   "source": [
    "struct KnapsackData\n",
    "    objects::Dict{String,KnapsackObject}\n",
    "    capacity::Float64\n",
    "end"
   ],
   "metadata": {},
   "execution_count": null
  },
  {
   "cell_type": "markdown",
   "source": [
    "Here's what our data might look like now:"
   ],
   "metadata": {}
  },
  {
   "outputs": [],
   "cell_type": "code",
   "source": [
    "objects = Dict(\n",
    "    \"apple\" => KnapsackObject(5.0, 2.0),\n",
    "    \"banana\" => KnapsackObject(3.0, 8.0),\n",
    "    \"cherry\" => KnapsackObject(2.0, 4.0),\n",
    "    \"date\" => KnapsackObject(7.0, 2.0),\n",
    "    \"eggplant\" => KnapsackObject(4.0, 5.0),\n",
    ")\n",
    "data = KnapsackData(objects, 10.0)"
   ],
   "metadata": {},
   "execution_count": null
  },
  {
   "cell_type": "markdown",
   "source": [
    "If you want, you can add custom printing to make it easier to visualize:"
   ],
   "metadata": {}
  },
  {
   "outputs": [],
   "cell_type": "code",
   "source": [
    "function Base.show(io::IO, data::KnapsackData)\n",
    "    println(io, \"A knapsack with capacity $(data.capacity) and possible items:\")\n",
    "    for (k, v) in data.objects\n",
    "        println(\n",
    "            io,\n",
    "            \"  $(rpad(k, 8)) : profit = $(v.profit), weight = $(v.weight)\",\n",
    "        )\n",
    "    end\n",
    "    return\n",
    "end\n",
    "\n",
    "data"
   ],
   "metadata": {},
   "execution_count": null
  },
  {
   "cell_type": "markdown",
   "source": [
    "Then, we can re-write our `solve_knapsack` function to take our `KnapsackData`\n",
    "as input:"
   ],
   "metadata": {}
  },
  {
   "outputs": [],
   "cell_type": "code",
   "source": [
    "function solve_knapsack_2(data::KnapsackData)\n",
    "    model = Model(HiGHS.Optimizer)\n",
    "    @variable(model, x[keys(data.objects)], Bin)\n",
    "    @objective(model, Max, sum(v.profit * x[k] for (k, v) in data.objects))\n",
    "    @constraint(\n",
    "        model,\n",
    "        sum(v.weight * x[k] for (k, v) in data.objects) <= data.capacity,\n",
    "    )\n",
    "    optimize!(model)\n",
    "    return value.(x)\n",
    "end\n",
    "\n",
    "solve_knapsack_2(data)"
   ],
   "metadata": {},
   "execution_count": null
  },
  {
   "cell_type": "markdown",
   "source": [
    "## Read in data from files"
   ],
   "metadata": {}
  },
  {
   "cell_type": "markdown",
   "source": [
    "Having a data structure is a good step. But it is still annoying that we have\n",
    "to hard-code the data into Julia. A good next step is to separate the data\n",
    "into an external file format; JSON is a common choice."
   ],
   "metadata": {}
  },
  {
   "outputs": [],
   "cell_type": "code",
   "source": [
    "json_data = \"\"\"\n",
    "{\n",
    "    \"objects\": {\n",
    "        \"apple\": {\"profit\": 5.0, \"weight\": 2.0},\n",
    "        \"banana\": {\"profit\": 3.0, \"weight\": 8.0},\n",
    "        \"cherry\": {\"profit\": 2.0, \"weight\": 4.0},\n",
    "        \"date\": {\"profit\": 7.0, \"weight\": 2.0},\n",
    "        \"eggplant\": {\"profit\": 4.0, \"weight\": 5.0}\n",
    "    },\n",
    "    \"capacity\": 10.0\n",
    "}\n",
    "\"\"\"\n",
    "temp_dir = mktempdir()\n",
    "knapsack_json_filename = joinpath(temp_dir, \"knapsack.json\")\n",
    "# Instead of writing a new file here you could replace `knapsack_json_filename`\n",
    "# with the path to a local file.\n",
    "write(knapsack_json_filename, json_data);"
   ],
   "metadata": {},
   "execution_count": null
  },
  {
   "cell_type": "markdown",
   "source": [
    "Now let's write a function that reads this file and builds a `KnapsackData`\n",
    "object:"
   ],
   "metadata": {}
  },
  {
   "outputs": [],
   "cell_type": "code",
   "source": [
    "import JSON\n",
    "\n",
    "function read_data(filename)\n",
    "    d = JSON.parsefile(filename)\n",
    "    return KnapsackData(\n",
    "        Dict(\n",
    "            k => KnapsackObject(v[\"profit\"], v[\"weight\"]) for\n",
    "            (k, v) in d[\"objects\"]\n",
    "        ),\n",
    "        d[\"capacity\"],\n",
    "    )\n",
    "end\n",
    "\n",
    "data = read_data(knapsack_json_filename)"
   ],
   "metadata": {},
   "execution_count": null
  },
  {
   "cell_type": "markdown",
   "source": [
    "## Add options via if-else"
   ],
   "metadata": {}
  },
  {
   "cell_type": "markdown",
   "source": [
    "At this point, we have data in a file format which we can load and solve a\n",
    "single problem. For many users, this might be sufficient. However, at some\n",
    "point you may be asked to add features like \"but what if we want to take more\n",
    "than one of a particular item?\""
   ],
   "metadata": {}
  },
  {
   "cell_type": "markdown",
   "source": [
    "If this is the first time that you've been asked to add a feature, adding\n",
    "options via `if-else` statements is a good approach. For example, we might\n",
    "write:"
   ],
   "metadata": {}
  },
  {
   "outputs": [],
   "cell_type": "code",
   "source": [
    "function solve_knapsack_3(data::KnapsackData; binary_knapsack::Bool)\n",
    "    model = Model(HiGHS.Optimizer)\n",
    "    if binary_knapsack\n",
    "        @variable(model, x[keys(data.objects)], Bin)\n",
    "    else\n",
    "        @variable(model, x[keys(data.objects)] >= 0, Int)\n",
    "    end\n",
    "    @objective(model, Max, sum(v.profit * x[k] for (k, v) in data.objects))\n",
    "    @constraint(\n",
    "        model,\n",
    "        sum(v.weight * x[k] for (k, v) in data.objects) <= data.capacity,\n",
    "    )\n",
    "    optimize!(model)\n",
    "    return value.(x)\n",
    "end"
   ],
   "metadata": {},
   "execution_count": null
  },
  {
   "cell_type": "markdown",
   "source": [
    "Now we can solve the binary knapsack:"
   ],
   "metadata": {}
  },
  {
   "outputs": [],
   "cell_type": "code",
   "source": [
    "solve_knapsack_3(data; binary_knapsack = true)"
   ],
   "metadata": {},
   "execution_count": null
  },
  {
   "cell_type": "markdown",
   "source": [
    "And an integer knapsack where we can take more than one copy of each item:"
   ],
   "metadata": {}
  },
  {
   "outputs": [],
   "cell_type": "code",
   "source": [
    "solve_knapsack_3(data; binary_knapsack = false)"
   ],
   "metadata": {},
   "execution_count": null
  },
  {
   "cell_type": "markdown",
   "source": [
    "## Add configuration options via dispatch"
   ],
   "metadata": {}
  },
  {
   "cell_type": "markdown",
   "source": [
    "If you get repeated requests to add different options, you'll quickly find\n",
    "yourself in a mess of different flags and `if-else` statements. It's hard to\n",
    "write, hard to read, and hard to ensure you haven't introduced any bugs.\n",
    "A good solution is to use Julia's type dispatch to control the configuration\n",
    "of the model. The easiest way to explain this is by example."
   ],
   "metadata": {}
  },
  {
   "cell_type": "markdown",
   "source": [
    "First, start by defining a new abstract type, as well as new subtypes for each\n",
    "of our options. These types are going to control the configuration of the\n",
    "knapsack model."
   ],
   "metadata": {}
  },
  {
   "outputs": [],
   "cell_type": "code",
   "source": [
    "abstract type AbstractConfiguration end\n",
    "\n",
    "struct BinaryKnapsackConfig <: AbstractConfiguration end\n",
    "\n",
    "struct IntegerKnapsackConfig <: AbstractConfiguration end"
   ],
   "metadata": {},
   "execution_count": null
  },
  {
   "cell_type": "markdown",
   "source": [
    "Then, we rewrite our `solve_knapsack` function to take a `config` argument,\n",
    "and we introduce an `add_knapsack_variables` function to abstract the creation\n",
    "of our variables."
   ],
   "metadata": {}
  },
  {
   "outputs": [],
   "cell_type": "code",
   "source": [
    "function solve_knapsack_4(data::KnapsackData, config::AbstractConfiguration)\n",
    "    model = Model(HiGHS.Optimizer)\n",
    "    x = add_knapsack_variables(model, data, config)\n",
    "    @objective(model, Max, sum(v.profit * x[k] for (k, v) in data.objects))\n",
    "    @constraint(\n",
    "        model,\n",
    "        sum(v.weight * x[k] for (k, v) in data.objects) <= data.capacity,\n",
    "    )\n",
    "    optimize!(model)\n",
    "    return value.(x)\n",
    "end"
   ],
   "metadata": {},
   "execution_count": null
  },
  {
   "cell_type": "markdown",
   "source": [
    "For the binary knapsack problem, `add_knapsack_variables` looks like this:"
   ],
   "metadata": {}
  },
  {
   "outputs": [],
   "cell_type": "code",
   "source": [
    "function add_knapsack_variables(\n",
    "    model::Model,\n",
    "    data::KnapsackData,\n",
    "    ::BinaryKnapsackConfig,\n",
    ")\n",
    "    return @variable(model, x[keys(data.objects)], Bin)\n",
    "end"
   ],
   "metadata": {},
   "execution_count": null
  },
  {
   "cell_type": "markdown",
   "source": [
    "For the integer knapsack problem, `add_knapsack_variables` looks like this:"
   ],
   "metadata": {}
  },
  {
   "outputs": [],
   "cell_type": "code",
   "source": [
    "function add_knapsack_variables(\n",
    "    model::Model,\n",
    "    data::KnapsackData,\n",
    "    ::IntegerKnapsackConfig,\n",
    ")\n",
    "    return @variable(model, x[keys(data.objects)] >= 0, Int)\n",
    "end"
   ],
   "metadata": {},
   "execution_count": null
  },
  {
   "cell_type": "markdown",
   "source": [
    "Now we can solve the binary knapsack:"
   ],
   "metadata": {}
  },
  {
   "outputs": [],
   "cell_type": "code",
   "source": [
    "solve_knapsack_4(data, BinaryKnapsackConfig())"
   ],
   "metadata": {},
   "execution_count": null
  },
  {
   "cell_type": "markdown",
   "source": [
    "and the integer knapsack problem:"
   ],
   "metadata": {}
  },
  {
   "outputs": [],
   "cell_type": "code",
   "source": [
    "solve_knapsack_4(data, IntegerKnapsackConfig())"
   ],
   "metadata": {},
   "execution_count": null
  },
  {
   "cell_type": "markdown",
   "source": [
    "The main benefit of the dispatch approach is that you can quickly add new\n",
    "options without needing to modify the existing code. For example:"
   ],
   "metadata": {}
  },
  {
   "outputs": [],
   "cell_type": "code",
   "source": [
    "struct UpperBoundedKnapsackConfig <: AbstractConfiguration\n",
    "    limit::Int\n",
    "end\n",
    "\n",
    "function add_knapsack_variables(\n",
    "    model::Model,\n",
    "    data::KnapsackData,\n",
    "    config::UpperBoundedKnapsackConfig,\n",
    ")\n",
    "    return @variable(model, 0 <= x[keys(data.objects)] <= config.limit, Int)\n",
    "end\n",
    "\n",
    "solve_knapsack_4(data, UpperBoundedKnapsackConfig(3))"
   ],
   "metadata": {},
   "execution_count": null
  },
  {
   "cell_type": "markdown",
   "source": [
    "## Generalize constraints and objectives"
   ],
   "metadata": {}
  },
  {
   "cell_type": "markdown",
   "source": [
    "It's easy to extend the dispatch approach to constraints and objectives as\n",
    "well. The key points to notice in the next two functions are that:\n",
    " * we can access registered variables via `model[:x]`\n",
    " * we can define generic functions which accept any `AbstractConfiguration` as a\n",
    "   configuration argument. That means we can implement a single method and\n",
    "   have it apply to multiple configuration types."
   ],
   "metadata": {}
  },
  {
   "outputs": [],
   "cell_type": "code",
   "source": [
    "function add_knapsack_constraints(\n",
    "    model::Model,\n",
    "    data::KnapsackData,\n",
    "    ::AbstractConfiguration,\n",
    ")\n",
    "    x = model[:x]\n",
    "    @constraint(\n",
    "        model,\n",
    "        capacity_constraint,\n",
    "        sum(v.weight * x[k] for (k, v) in data.objects) <= data.capacity,\n",
    "    )\n",
    "    return\n",
    "end\n",
    "\n",
    "function add_knapsack_objective(\n",
    "    model::Model,\n",
    "    data::KnapsackData,\n",
    "    ::AbstractConfiguration,\n",
    ")\n",
    "    x = model[:x]\n",
    "    @objective(model, Max, sum(v.profit * x[k] for (k, v) in data.objects))\n",
    "    return\n",
    "end\n",
    "\n",
    "function solve_knapsack_5(data::KnapsackData, config::AbstractConfiguration)\n",
    "    model = Model(HiGHS.Optimizer)\n",
    "    add_knapsack_variables(model, data, config)\n",
    "    add_knapsack_constraints(model, data, config)\n",
    "    add_knapsack_objective(model, data, config)\n",
    "    optimize!(model)\n",
    "    return value.(model[:x])\n",
    "end\n",
    "\n",
    "solve_knapsack_5(data, BinaryKnapsackConfig())"
   ],
   "metadata": {},
   "execution_count": null
  },
  {
   "cell_type": "markdown",
   "source": [
    "## Remove solver dependence, add error checks"
   ],
   "metadata": {}
  },
  {
   "cell_type": "markdown",
   "source": [
    "Compared to where we started, our knapsack model is now significantly\n",
    "different. We've wrapped it in a function, defined some data types, and\n",
    "introduced configuration options to control the variables and constraints that\n",
    "get added. There are a few other steps we can do to further improve things:\n",
    " * remove the dependence on `HiGHS`\n",
    " * add checks that we found an optimal solution\n",
    " * add a helper function to avoid the need to explicitly construct the data."
   ],
   "metadata": {}
  },
  {
   "outputs": [],
   "cell_type": "code",
   "source": [
    "function solve_knapsack_6(\n",
    "    optimizer,\n",
    "    data::KnapsackData,\n",
    "    config::AbstractConfiguration,\n",
    ")\n",
    "    model = Model(optimizer)\n",
    "    add_knapsack_variables(model, data, config)\n",
    "    add_knapsack_constraints(model, data, config)\n",
    "    add_knapsack_objective(model, data, config)\n",
    "    optimize!(model)\n",
    "    if termination_status(model) != OPTIMAL\n",
    "        @warn(\"Model not solved to optimality\")\n",
    "        return nothing\n",
    "    end\n",
    "    return value.(model[:x])\n",
    "end\n",
    "\n",
    "function solve_knapsack_6(\n",
    "    optimizer,\n",
    "    data::String,\n",
    "    config::AbstractConfiguration,\n",
    ")\n",
    "    return solve_knapsack_6(optimizer, read_data(data), config)\n",
    "end\n",
    "\n",
    "solution = solve_knapsack_6(\n",
    "    HiGHS.Optimizer,\n",
    "    knapsack_json_filename,\n",
    "    BinaryKnapsackConfig(),\n",
    ")"
   ],
   "metadata": {},
   "execution_count": null
  },
  {
   "cell_type": "markdown",
   "source": [
    "## Create a module"
   ],
   "metadata": {}
  },
  {
   "cell_type": "markdown",
   "source": [
    "Now we're ready to expose our model to the wider world. That might be as part\n",
    "of a larger Julia project that we're contributing to, or as a stand-alone\n",
    "script that we can run on-demand. In either case, it's good practice to wrap\n",
    "everything in a module. This further encapsulates our code into a single\n",
    "namespace, and we can add documentation in the form of\n",
    "[docstrings](https://docs.julialang.org/en/v1/manual/documentation/)."
   ],
   "metadata": {}
  },
  {
   "cell_type": "markdown",
   "source": [
    "Some good rules to follow when creating a module are:\n",
    "* use `import` in a module instead of `using` to make it clear which functions\n",
    "  are from which packages\n",
    "* use `_` to start function and type names that are considered private\n",
    "* add docstrings to all public variables and functions."
   ],
   "metadata": {}
  },
  {
   "outputs": [],
   "cell_type": "code",
   "source": [
    "module KnapsackModel\n",
    "\n",
    "import JuMP\n",
    "import JSON\n",
    "\n",
    "struct _KnapsackObject\n",
    "    profit::Float64\n",
    "    weight::Float64\n",
    "    function _KnapsackObject(profit::Float64, weight::Float64)\n",
    "        if weight < 0\n",
    "            throw(DomainError(\"Weight of object cannot be negative\"))\n",
    "        end\n",
    "        return new(profit, weight)\n",
    "    end\n",
    "end\n",
    "\n",
    "struct _KnapsackData\n",
    "    objects::Dict{String,_KnapsackObject}\n",
    "    capacity::Float64\n",
    "end\n",
    "\n",
    "function _read_data(filename)\n",
    "    d = JSON.parsefile(filename)\n",
    "    return _KnapsackData(\n",
    "        Dict(\n",
    "            k => _KnapsackObject(v[\"profit\"], v[\"weight\"]) for\n",
    "            (k, v) in d[\"objects\"]\n",
    "        ),\n",
    "        d[\"capacity\"],\n",
    "    )\n",
    "end\n",
    "\n",
    "abstract type _AbstractConfiguration end\n",
    "\n",
    "\"\"\"\n",
    "    BinaryKnapsackConfig()\n",
    "\n",
    "Create a binary knapsack problem where each object can be taken 0 or 1 times.\n",
    "\"\"\"\n",
    "struct BinaryKnapsackConfig <: _AbstractConfiguration end\n",
    "\n",
    "\"\"\"\n",
    "    IntegerKnapsackConfig()\n",
    "\n",
    "Create an integer knapsack problem where each object can be taken any number of\n",
    "times.\n",
    "\"\"\"\n",
    "struct IntegerKnapsackConfig <: _AbstractConfiguration end\n",
    "\n",
    "function _add_knapsack_variables(\n",
    "    model::JuMP.Model,\n",
    "    data::_KnapsackData,\n",
    "    ::BinaryKnapsackConfig,\n",
    ")\n",
    "    return JuMP.@variable(model, x[keys(data.objects)], Bin)\n",
    "end\n",
    "\n",
    "function _add_knapsack_variables(\n",
    "    model::JuMP.Model,\n",
    "    data::_KnapsackData,\n",
    "    ::IntegerKnapsackConfig,\n",
    ")\n",
    "    return JuMP.@variable(model, x[keys(data.objects)] >= 0, Int)\n",
    "end\n",
    "\n",
    "function _add_knapsack_constraints(\n",
    "    model::JuMP.Model,\n",
    "    data::_KnapsackData,\n",
    "    ::_AbstractConfiguration,\n",
    ")\n",
    "    x = model[:x]\n",
    "    JuMP.@constraint(\n",
    "        model,\n",
    "        capacity_constraint,\n",
    "        sum(v.weight * x[k] for (k, v) in data.objects) <= data.capacity,\n",
    "    )\n",
    "    return\n",
    "end\n",
    "\n",
    "function _add_knapsack_objective(\n",
    "    model::JuMP.Model,\n",
    "    data::_KnapsackData,\n",
    "    ::_AbstractConfiguration,\n",
    ")\n",
    "    x = model[:x]\n",
    "    JuMP.@objective(model, Max, sum(v.profit * x[k] for (k, v) in data.objects))\n",
    "    return\n",
    "end\n",
    "\n",
    "function _solve_knapsack(\n",
    "    optimizer,\n",
    "    data::_KnapsackData,\n",
    "    config::_AbstractConfiguration,\n",
    ")\n",
    "    model = JuMP.Model(optimizer)\n",
    "    _add_knapsack_variables(model, data, config)\n",
    "    _add_knapsack_constraints(model, data, config)\n",
    "    _add_knapsack_objective(model, data, config)\n",
    "    JuMP.optimize!(model)\n",
    "    if JuMP.termination_status(model) != JuMP.OPTIMAL\n",
    "        @warn(\"Model not solved to optimality\")\n",
    "        return nothing\n",
    "    end\n",
    "    return JuMP.value.(model[:x])\n",
    "end\n",
    "\n",
    "\"\"\"\n",
    "    solve_knapsack(\n",
    "        optimizer,\n",
    "        knapsack_json_filename::String,\n",
    "        config::_AbstractConfiguration,\n",
    "    )\n",
    "\n",
    "Solve the knapsack problem and return the optimal primal solution\n",
    "\n",
    "# Arguments\n",
    "\n",
    " * `optimizer` : an object that can be passed to `JuMP.Model` to construct a new\n",
    "   JuMP model.\n",
    " * `knapsack_json_filename` : the filename of a JSON file containing the data for the\n",
    "   problem.\n",
    " * `config` : an object to control the type of knapsack model constructed.\n",
    "   Valid options are:\n",
    "    * `BinaryKnapsackConfig()`\n",
    "    * `IntegerKnapsackConfig()`\n",
    "\n",
    "# Returns\n",
    "\n",
    " * If an optimal solution exists: a `JuMP.DenseAxisArray` that maps the `String`\n",
    "   name of each object to the number of objects to pack into the knapsack.\n",
    " * Otherwise, `nothing`, indicating that the problem does not have an optimal\n",
    "   solution.\n",
    "\n",
    "# Examples\n",
    "\n",
    "```julia\n",
    "solution = solve_knapsack(\n",
    "    HiGHS.Optimizer,\n",
    "    \"path/to/data.json\",\n",
    "    BinaryKnapsackConfig(),\n",
    ")\n",
    "```\n",
    "\n",
    "```julia\n",
    "solution = solve_knapsack(\n",
    "    MOI.OptimizerWithAttributes(HiGHS.Optimizer, \"output_flag\" => false),\n",
    "    \"path/to/data.json\",\n",
    "    IntegerKnapsackConfig(),\n",
    ")\n",
    "```\n",
    "\"\"\"\n",
    "function solve_knapsack(\n",
    "    optimizer,\n",
    "    knapsack_json_filename::String,\n",
    "    config::_AbstractConfiguration,\n",
    ")\n",
    "    data = _read_data(knapsack_json_filename)\n",
    "    return _solve_knapsack(optimizer, data, config)\n",
    "end\n",
    "\n",
    "end"
   ],
   "metadata": {},
   "execution_count": null
  },
  {
   "cell_type": "markdown",
   "source": [
    "Finally, you can call your model:"
   ],
   "metadata": {}
  },
  {
   "outputs": [],
   "cell_type": "code",
   "source": [
    "import .KnapsackModel\n",
    "\n",
    "KnapsackModel.solve_knapsack(\n",
    "    HiGHS.Optimizer,\n",
    "    knapsack_json_filename,\n",
    "    KnapsackModel.BinaryKnapsackConfig(),\n",
    ")"
   ],
   "metadata": {},
   "execution_count": null
  },
  {
   "cell_type": "markdown",
   "source": [
    "**Note**\n",
    "    The `.` in `.KnapsackModel` denotes that it is a submodule and not a\n",
    "    separate package that we installed with `Pkg.add`. If you put the\n",
    "    `KnapsackModel` in a separate file, load it with:\n",
    "    ```julia\n",
    "    include(\"path/to/KnapsackModel.jl\")\n",
    "    import .KnapsackModel\n",
    "    ```"
   ],
   "metadata": {}
  },
  {
   "cell_type": "markdown",
   "source": [
    "## Add tests"
   ],
   "metadata": {}
  },
  {
   "cell_type": "markdown",
   "source": [
    "As a final step, you should add tests for your model. This often means testing\n",
    "on a small problem for which you can work out the optimal solution by hand.\n",
    "The Julia standard library `Test` has good unit-testing functionality."
   ],
   "metadata": {}
  },
  {
   "outputs": [],
   "cell_type": "code",
   "source": [
    "import .KnapsackModel\n",
    "using Test\n",
    "\n",
    "@testset \"KnapsackModel\" begin\n",
    "    @testset \"feasible_binary_knapsack\" begin\n",
    "        x = KnapsackModel.solve_knapsack(\n",
    "            HiGHS.Optimizer,\n",
    "            knapsack_json_filename,\n",
    "            KnapsackModel.BinaryKnapsackConfig(),\n",
    "        )\n",
    "        @test isapprox(x[\"apple\"], 1, atol = 1e-5)\n",
    "        @test isapprox(x[\"banana\"], 0, atol = 1e-5)\n",
    "        @test isapprox(x[\"cherry\"], 0, atol = 1e-5)\n",
    "        @test isapprox(x[\"date\"], 1, atol = 1e-5)\n",
    "        @test isapprox(x[\"eggplant\"], 1, atol = 1e-5)\n",
    "    end\n",
    "    @testset \"feasible_integer_knapsack\" begin\n",
    "        x = KnapsackModel.solve_knapsack(\n",
    "            HiGHS.Optimizer,\n",
    "            knapsack_json_filename,\n",
    "            KnapsackModel.IntegerKnapsackConfig(),\n",
    "        )\n",
    "        @test isapprox(x[\"apple\"], 0, atol = 1e-5)\n",
    "        @test isapprox(x[\"banana\"], 0, atol = 1e-5)\n",
    "        @test isapprox(x[\"cherry\"], 0, atol = 1e-5)\n",
    "        @test isapprox(x[\"date\"], 5, atol = 1e-5)\n",
    "        @test isapprox(x[\"eggplant\"], 0, atol = 1e-5)\n",
    "    end\n",
    "    @testset \"infeasible_binary_knapsack\" begin\n",
    "        dir = mktempdir()\n",
    "        infeasible_filename = joinpath(dir, \"infeasible.json\")\n",
    "        write(\n",
    "            infeasible_filename,\n",
    "            \"\"\"{\n",
    "                \"objects\": {\n",
    "                    \"apple\": {\"profit\": 5.0, \"weight\": 2.0},\n",
    "                    \"banana\": {\"profit\": 3.0, \"weight\": 8.0},\n",
    "                    \"cherry\": {\"profit\": 2.0, \"weight\": 4.0},\n",
    "                    \"date\": {\"profit\": 7.0, \"weight\": 2.0},\n",
    "                    \"eggplant\": {\"profit\": 4.0, \"weight\": 5.0}\n",
    "                },\n",
    "                \"capacity\": -10.0\n",
    "            }\"\"\",\n",
    "        )\n",
    "        x = KnapsackModel.solve_knapsack(\n",
    "            HiGHS.Optimizer,\n",
    "            infeasible_filename,\n",
    "            KnapsackModel.BinaryKnapsackConfig(),\n",
    "        )\n",
    "        @test x === nothing\n",
    "    end\n",
    "end"
   ],
   "metadata": {},
   "execution_count": null
  },
  {
   "cell_type": "markdown",
   "source": [
    "**Tip**\n",
    "    Place these tests in a separate file `test_knapsack_model.jl` so that you\n",
    "    can run the tests by adding `include(\"test_knapsack_model.jl\")` to any\n",
    "    file where needed."
   ],
   "metadata": {}
  },
  {
   "cell_type": "markdown",
   "source": [
    "## Next steps"
   ],
   "metadata": {}
  },
  {
   "cell_type": "markdown",
   "source": [
    "We've only briefly scratched the surface of ways to create and structure large\n",
    "JuMP models, so consider this tutorial a starting point, rather than a\n",
    "comprehensive list of all the possible ways to structure JuMP models.  If you\n",
    "are embarking on a large project that uses JuMP, a good next step is to\n",
    "look at ways people have written large JuMP projects \"in the wild.\""
   ],
   "metadata": {}
  },
  {
   "cell_type": "markdown",
   "source": [
    "Here are some good examples (all co-incidentally related to energy):\n",
    "* AnyMOD.jl\n",
    "  * [JuMP-dev 2021 talk](https://www.youtube.com/watch?v=QE_tNDER0F4)\n",
    "  * [source code](https://github.com/leonardgoeke/AnyMOD.jl)\n",
    "* PowerModels.jl\n",
    "  * [JuMP-dev 2021 talk](https://www.youtube.com/watch?v=POOt1FCA8LI)\n",
    "  * [source code](https://github.com/lanl-ansi/PowerModels.jl)\n",
    "* PowerSimulations.jl\n",
    "   * [JuliaCon 2021 talk](https://www.youtube.com/watch?v=-ZoO3npjwYU)\n",
    "   * [source code](https://github.com/NREL-SIIP/PowerSimulations.jl)\n",
    "* UnitCommitment.jl\n",
    "  * [JuMP-dev 2021 talk](https://www.youtube.com/watch?v=rYUZK9kYeIY)\n",
    "  * [source code](https://github.com/ANL-CEEESA/UnitCommitment.jl)"
   ],
   "metadata": {}
  }
 ],
 "nbformat_minor": 3,
 "metadata": {
  "language_info": {
   "file_extension": ".jl",
   "mimetype": "application/julia",
   "name": "julia",
   "version": "1.9.3"
  },
  "kernelspec": {
   "name": "julia-1.9",
   "display_name": "Julia 1.9.3",
   "language": "julia"
  }
 },
 "nbformat": 4
}
