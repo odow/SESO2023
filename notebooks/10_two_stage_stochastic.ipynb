{
 "cells": [
  {
   "cell_type": "markdown",
   "source": [
    "# Two-stage stochastic programs"
   ],
   "metadata": {}
  },
  {
   "cell_type": "markdown",
   "source": [
    "The purpose of this tutorial is to demonstrate how to model and solve a\n",
    "two-stage stochastic program."
   ],
   "metadata": {}
  },
  {
   "cell_type": "markdown",
   "source": [
    "This tutorial uses the following packages"
   ],
   "metadata": {}
  },
  {
   "outputs": [],
   "cell_type": "code",
   "source": [
    "using JuMP\n",
    "import Distributions\n",
    "import HiGHS\n",
    "import Plots\n",
    "import StatsPlots\n",
    "import Statistics"
   ],
   "metadata": {},
   "execution_count": null
  },
  {
   "cell_type": "markdown",
   "source": [
    "## Background"
   ],
   "metadata": {}
  },
  {
   "cell_type": "markdown",
   "source": [
    "During the week, you are a busy practitioner of Operations Research. To escape\n",
    "the drudgery of mathematics, you decide to open a side business selling creamy\n",
    "mushroom pies with puff pastry. After a few weeks, it quickly becomes apparent\n",
    "that operating a food business is not so easy."
   ],
   "metadata": {}
  },
  {
   "cell_type": "markdown",
   "source": [
    "The pies must be prepared in the morning, _before_ you open for the day and\n",
    "can gauge the level of demand. If you bake too many, the unsold pies at the\n",
    "end of the day must be discarded and you have wasted time and money on their\n",
    "production. But if you bake too few, then there may be un-served customers and\n",
    "you could have made more money by baking more pies."
   ],
   "metadata": {}
  },
  {
   "cell_type": "markdown",
   "source": [
    "After a few weeks of poor decision making, you decide to put your knowledge of\n",
    "Operations Research to good use, starting with some data collection."
   ],
   "metadata": {}
  },
  {
   "cell_type": "markdown",
   "source": [
    "Each pie costs you \\\\$2 to make, and you sell them at \\\\$5 each. Disposal of an\n",
    "unsold pie costs \\\\$0.10. Based on three weeks of data collected, in which you\n",
    "made 200 pies each week, you sold 150, 190, and 200 pies. Thus, as a guess,\n",
    "you assume a triangular distribution of demand with a minimum of 150, a median\n",
    "of 200, and a maximum of 250."
   ],
   "metadata": {}
  },
  {
   "cell_type": "markdown",
   "source": [
    "We can model this problem by a two-stage stochastic program. In the first\n",
    "stage, we decide a quantity of pies to make $x$. We make this decision\n",
    "before we observe the demand $d_\\omega$. In the second stage, we sell\n",
    "$y_\\omega$ pies, and incur any costs for unsold pies."
   ],
   "metadata": {}
  },
  {
   "cell_type": "markdown",
   "source": [
    "We can formulate this problem as follows:\n",
    "$$\n",
    "\\begin{aligned}\n",
    "\\max\\limits_{x,y_\\omega} \\;\\; & -2x + \\mathbb{E}_\\omega[5y_\\omega - 0.1(x - y_\\omega)] \\\\\n",
    "  & y_\\omega \\le x              & \\quad \\forall \\omega \\in \\Omega \\\\\n",
    "  & 0 \\le y_\\omega \\le d_\\omega & \\quad \\forall \\omega \\in \\Omega \\\\\n",
    "  & x \\ge 0.\n",
    "\\end{aligned}\n",
    "$$"
   ],
   "metadata": {}
  },
  {
   "cell_type": "markdown",
   "source": [
    "## Sample Average approximation"
   ],
   "metadata": {}
  },
  {
   "cell_type": "markdown",
   "source": [
    "If the distribution of demand is continuous, then our problem has an infinite\n",
    "number of variables and constraints. To form a computationally tractable\n",
    "problem, we instead use a finite set of samples drawn from the distribution.\n",
    "This is called sample average approximation (SAA)."
   ],
   "metadata": {}
  },
  {
   "outputs": [],
   "cell_type": "code",
   "source": [
    "D = Distributions.TriangularDist(150.0, 250.0, 200.0)\n",
    "N = 100\n",
    "d = sort!(rand(D, N));\n",
    "Ω = 1:N\n",
    "P = fill(1 / N, N);\n",
    "StatsPlots.histogram(d; bins = 20, label = \"\", xlabel = \"Demand\")"
   ],
   "metadata": {},
   "execution_count": null
  },
  {
   "cell_type": "markdown",
   "source": [
    "## JuMP model"
   ],
   "metadata": {}
  },
  {
   "cell_type": "markdown",
   "source": [
    "The implementation of our two-stage stochastic program in JuMP is:"
   ],
   "metadata": {}
  },
  {
   "outputs": [],
   "cell_type": "code",
   "source": [
    "model = Model(HiGHS.Optimizer)\n",
    "set_silent(model)\n",
    "@variable(model, x >= 0)\n",
    "@variable(model, 0 <= y[ω in Ω] <= d[ω])\n",
    "@constraint(model, [ω in Ω], y[ω] <= x)\n",
    "@expression(model, z[ω in Ω], 5y[ω] - 0.1 * (x - y[ω]))\n",
    "@objective(model, Max, -2x + sum(P[ω] * z[ω] for ω in Ω))\n",
    "optimize!(model)\n",
    "solution_summary(model)"
   ],
   "metadata": {},
   "execution_count": null
  },
  {
   "cell_type": "markdown",
   "source": [
    "The optimal number of pies to make is:"
   ],
   "metadata": {}
  },
  {
   "outputs": [],
   "cell_type": "code",
   "source": [
    "value(x)"
   ],
   "metadata": {},
   "execution_count": null
  },
  {
   "cell_type": "markdown",
   "source": [
    "The distribution of total profit is:"
   ],
   "metadata": {}
  },
  {
   "outputs": [],
   "cell_type": "code",
   "source": [
    "total_profit = [-2 * value(x) + value(z[ω]) for ω in Ω]"
   ],
   "metadata": {},
   "execution_count": null
  },
  {
   "cell_type": "markdown",
   "source": [
    "Let's plot it:"
   ],
   "metadata": {}
  },
  {
   "outputs": [],
   "cell_type": "code",
   "source": [
    "\"\"\"\n",
    "    bin_distribution(x::Vector{Float64}, N::Int)\n",
    "\n",
    "A helper function that discretizes `x` into bins of width `N`.\n",
    "\"\"\"\n",
    "bin_distribution(x, N) = N * (floor(minimum(x) / N):ceil(maximum(x) / N))\n",
    "\n",
    "plot = StatsPlots.histogram(\n",
    "    total_profit;\n",
    "    bins = bin_distribution(total_profit, 25),\n",
    "    label = \"\",\n",
    "    xlabel = \"Profit [\\$]\",\n",
    "    ylabel = \"Number of outcomes\",\n",
    ")\n",
    "μ = Statistics.mean(total_profit)\n",
    "Plots.vline!(\n",
    "    plot,\n",
    "    [μ];\n",
    "    label = \"Expected profit (\\$$(round(Int, μ)))\",\n",
    "    linewidth = 3,\n",
    ")\n",
    "plot"
   ],
   "metadata": {},
   "execution_count": null
  },
  {
   "cell_type": "markdown",
   "source": [
    "## Risk measures"
   ],
   "metadata": {}
  },
  {
   "cell_type": "markdown",
   "source": [
    "A risk measure is a function which maps a random variable to a real number.\n",
    "Common risk measures include the mean (expectation), median, mode, and\n",
    "maximum. We need a risk measure to convert the distribution of second stage\n",
    "costs into a single number that can be optimized."
   ],
   "metadata": {}
  },
  {
   "cell_type": "markdown",
   "source": [
    "Our model currently uses the expectation risk measure, but others are possible\n",
    "too. One popular risk measure is the conditional value at risk (CVaR)."
   ],
   "metadata": {}
  },
  {
   "cell_type": "markdown",
   "source": [
    "CVaR has a parameter $\\gamma$, and it computes the expectation of the worst\n",
    "$\\gamma$ fraction of outcomes."
   ],
   "metadata": {}
  },
  {
   "cell_type": "markdown",
   "source": [
    "If we are maximizing, so that small outcomes are bad, the definition of CVaR\n",
    "is:\n",
    "$$\n",
    "CVaR_{\\gamma}[Z] = \\max\\limits_{\\xi} \\;\\; \\xi - \\frac{1}{\\gamma}\\mathbb{E}_\\omega\\left[(\\xi - Z)_+\\right]\n",
    "$$\n",
    "which can be formulated as the linear program:\n",
    "$$\n",
    "\\begin{aligned}\n",
    "CVaR_{\\gamma}[Z] = \\max\\limits_{\\xi, z_\\omega} \\;\\; & \\xi - \\frac{1}{\\gamma}\\sum P_\\omega z_\\omega\\\\\n",
    " & z_\\omega \\ge \\xi - Z_\\omega & \\quad \\forall \\omega \\\\\n",
    " & z_\\omega \\ge 0 & \\quad \\forall \\omega.\n",
    "\\end{aligned}\n",
    "$$"
   ],
   "metadata": {}
  },
  {
   "outputs": [],
   "cell_type": "code",
   "source": [
    "function CVaR(Z::Vector{Float64}, P::Vector{Float64}; γ::Float64)\n",
    "    @assert 0 < γ <= 1\n",
    "    N = length(Z)\n",
    "    model = Model(HiGHS.Optimizer)\n",
    "    set_silent(model)\n",
    "    @variable(model, ξ)\n",
    "    @variable(model, z[1:N] >= 0)\n",
    "    @constraint(model, [i in 1:N], z[i] >= ξ - Z[i])\n",
    "    @objective(model, Max, ξ - 1 / γ * sum(P[i] * z[i] for i in 1:N))\n",
    "    optimize!(model)\n",
    "    return objective_value(model)\n",
    "end"
   ],
   "metadata": {},
   "execution_count": null
  },
  {
   "cell_type": "markdown",
   "source": [
    "When `γ` is `1.0`, we compute the mean of the profit:"
   ],
   "metadata": {}
  },
  {
   "outputs": [],
   "cell_type": "code",
   "source": [
    "cvar_10 = CVaR(total_profit, P; γ = 1.0)"
   ],
   "metadata": {},
   "execution_count": null
  },
  {
   "outputs": [],
   "cell_type": "code",
   "source": [
    "Statistics.mean(total_profit)"
   ],
   "metadata": {},
   "execution_count": null
  },
  {
   "cell_type": "markdown",
   "source": [
    "As `γ` approaches `0.0`, we compute the worst-case (minimum) profit:"
   ],
   "metadata": {}
  },
  {
   "outputs": [],
   "cell_type": "code",
   "source": [
    "cvar_00 = CVaR(total_profit, P; γ = 0.0001)"
   ],
   "metadata": {},
   "execution_count": null
  },
  {
   "outputs": [],
   "cell_type": "code",
   "source": [
    "minimum(total_profit)"
   ],
   "metadata": {},
   "execution_count": null
  },
  {
   "cell_type": "markdown",
   "source": [
    "By varying `γ` between `0` and `1` we can compute some trade-off of these two\n",
    "extremes:"
   ],
   "metadata": {}
  },
  {
   "outputs": [],
   "cell_type": "code",
   "source": [
    "cvar_05 = CVaR(total_profit, P; γ = 0.5)"
   ],
   "metadata": {},
   "execution_count": null
  },
  {
   "cell_type": "markdown",
   "source": [
    "Let's plot these outcomes on our distribution:"
   ],
   "metadata": {}
  },
  {
   "outputs": [],
   "cell_type": "code",
   "source": [
    "plot = StatsPlots.histogram(\n",
    "    total_profit;\n",
    "    bins = bin_distribution(total_profit, 25),\n",
    "    label = \"\",\n",
    "    xlabel = \"Profit [\\$]\",\n",
    "    ylabel = \"Number of outcomes\",\n",
    ")\n",
    "Plots.vline!(\n",
    "    plot,\n",
    "    [cvar_10 cvar_05 cvar_00];\n",
    "    label = [\"γ = 1.0\" \"γ = 0.5\" \"γ = 0.0\"],\n",
    "    linewidth = 3,\n",
    ")\n",
    "plot"
   ],
   "metadata": {},
   "execution_count": null
  },
  {
   "cell_type": "markdown",
   "source": [
    "## Risk averse sample average approximation"
   ],
   "metadata": {}
  },
  {
   "cell_type": "markdown",
   "source": [
    "Because CVaR can be formulated as a linear program, we can form a risk averse\n",
    "sample average approximation model by combining the two formulations:"
   ],
   "metadata": {}
  },
  {
   "outputs": [],
   "cell_type": "code",
   "source": [
    "γ = 0.4\n",
    "model = Model(HiGHS.Optimizer)\n",
    "set_silent(model)\n",
    "@variable(model, x >= 0)\n",
    "@variable(model, 0 <= y[ω in Ω] <= d[ω])\n",
    "@constraint(model, [ω in Ω], y[ω] <= x)\n",
    "@expression(model, Z[ω in Ω], 5 * y[ω] - 0.1(x - y[ω]))\n",
    "@variable(model, ξ)\n",
    "@variable(model, z[ω in Ω] >= 0)\n",
    "@constraint(model, [ω in Ω], z[ω] >= ξ - Z[ω])\n",
    "@objective(model, Max, -2x + ξ - 1 / γ * sum(P[ω] * z[ω] for ω in Ω))\n",
    "optimize!(model)"
   ],
   "metadata": {},
   "execution_count": null
  },
  {
   "cell_type": "markdown",
   "source": [
    "When $\\gamma = 0.4$, the optimal number of pies to bake is:"
   ],
   "metadata": {}
  },
  {
   "outputs": [],
   "cell_type": "code",
   "source": [
    "value(x)"
   ],
   "metadata": {},
   "execution_count": null
  },
  {
   "cell_type": "markdown",
   "source": [
    "The distribution of total profit is:"
   ],
   "metadata": {}
  },
  {
   "outputs": [],
   "cell_type": "code",
   "source": [
    "risk_averse_total_profit = [value(-2x + Z[ω]) for ω in Ω]\n",
    "bins = bin_distribution([total_profit; risk_averse_total_profit], 25)\n",
    "plot = StatsPlots.histogram(total_profit; label = \"Expectation\", bins = bins)\n",
    "StatsPlots.histogram!(\n",
    "    plot,\n",
    "    risk_averse_total_profit;\n",
    "    label = \"CV@R\",\n",
    "    bins = bins,\n",
    "    alpha = 0.5,\n",
    ")\n",
    "plot"
   ],
   "metadata": {},
   "execution_count": null
  },
  {
   "cell_type": "markdown",
   "source": [
    "## Next steps\n",
    "\n",
    " * Try solving this problem for different numbers of samples and different\n",
    "   distributions.\n",
    " * Refactor the example to avoid hard-coding the costs. What happens to the\n",
    "   solution if the cost of disposing unsold pies increases?\n",
    " * Plot the optimal number of pies to make for different values of the risk\n",
    "   aversion parameter $\\gamma$. What is the relationship?"
   ],
   "metadata": {}
  }
 ],
 "nbformat_minor": 3,
 "metadata": {
  "language_info": {
   "file_extension": ".jl",
   "mimetype": "application/julia",
   "name": "julia",
   "version": "1.9.3"
  },
  "kernelspec": {
   "name": "julia-1.9",
   "display_name": "Julia 1.9.3",
   "language": "julia"
  }
 },
 "nbformat": 4
}
