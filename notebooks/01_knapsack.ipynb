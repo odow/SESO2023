{
 "cells": [
  {
   "cell_type": "markdown",
   "source": [
    "# The knapsack problem example"
   ],
   "metadata": {}
  },
  {
   "cell_type": "markdown",
   "source": [
    "The purpose of this tutorial is to demonstrate how to formulate and solve a\n",
    "simple optimization problem."
   ],
   "metadata": {}
  },
  {
   "cell_type": "markdown",
   "source": [
    "## Required packages"
   ],
   "metadata": {}
  },
  {
   "cell_type": "markdown",
   "source": [
    "This tutorial requires the following packages:"
   ],
   "metadata": {}
  },
  {
   "outputs": [],
   "cell_type": "code",
   "source": [
    "using JuMP\n",
    "import HiGHS"
   ],
   "metadata": {},
   "execution_count": null
  },
  {
   "cell_type": "markdown",
   "source": [
    "## Formulation"
   ],
   "metadata": {}
  },
  {
   "cell_type": "markdown",
   "source": [
    "The [knapsack problem](https://en.wikipedia.org/wiki/Knapsack_problem)\n",
    "is a classical optimization problem: given a set of items and a container with\n",
    "a fixed capacity, choose a subset of items having the greatest combined\n",
    "value that will fit within the container without exceeding the capacity."
   ],
   "metadata": {}
  },
  {
   "cell_type": "markdown",
   "source": [
    "The name of the problem suggests its analogy to packing for a trip,\n",
    "where the baggage weight limit is the capacity and the goal is to pack the\n",
    "most profitable combination of belongings."
   ],
   "metadata": {}
  },
  {
   "cell_type": "markdown",
   "source": [
    "We can formulate the knapsack problem as the integer linear program:\n",
    "$$\n",
    "\\begin{aligned}\n",
    "\\max \\; & \\sum_{i=1}^n c_i x_i      \\\\\n",
    "s.t. \\; & \\sum_{i=1}^n w_i x_i \\le C, \\\\\n",
    "        & x_i \\in \\{0,1\\},\\quad \\forall i=1,\\ldots,n,\n",
    "\\end{aligned}\n",
    "$$\n",
    "where $C$ is the capacity, and there is a choice between $n$ items, with\n",
    "item $i$ having weight $w_i$, profit $c_i$. Decision variable $x_i$ is\n",
    "equal to 1 if the item is chosen and 0 if not."
   ],
   "metadata": {}
  },
  {
   "cell_type": "markdown",
   "source": [
    "This formulation can be written more compactly as:\n",
    "$$\n",
    "\\begin{aligned}\n",
    "\\max \\; & c^\\top x       \\\\\n",
    "s.t. \\; & w^\\top x \\le C \\\\\n",
    "        & x \\text{ binary }.\n",
    "\\end{aligned}\n",
    "$$"
   ],
   "metadata": {}
  },
  {
   "cell_type": "markdown",
   "source": [
    "## Data"
   ],
   "metadata": {}
  },
  {
   "cell_type": "markdown",
   "source": [
    "The data for the problem consists of two vectors (one for the profits and one\n",
    "for the weights) along with a capacity."
   ],
   "metadata": {}
  },
  {
   "cell_type": "markdown",
   "source": [
    "There are five objects:"
   ],
   "metadata": {}
  },
  {
   "outputs": [],
   "cell_type": "code",
   "source": [
    "n = 5;"
   ],
   "metadata": {},
   "execution_count": null
  },
  {
   "cell_type": "markdown",
   "source": [
    "For our example, we use a capacity of 10 units:"
   ],
   "metadata": {}
  },
  {
   "outputs": [],
   "cell_type": "code",
   "source": [
    "capacity = 10.0;"
   ],
   "metadata": {},
   "execution_count": null
  },
  {
   "cell_type": "markdown",
   "source": [
    "and the profit and cost data:"
   ],
   "metadata": {}
  },
  {
   "outputs": [],
   "cell_type": "code",
   "source": [
    "profit = [5.0, 3.0, 2.0, 7.0, 4.0];\n",
    "weight = [2.0, 8.0, 4.0, 2.0, 5.0];"
   ],
   "metadata": {},
   "execution_count": null
  },
  {
   "cell_type": "markdown",
   "source": [
    "## JuMP formulation"
   ],
   "metadata": {}
  },
  {
   "cell_type": "markdown",
   "source": [
    "Let's begin constructing the JuMP model for our knapsack problem."
   ],
   "metadata": {}
  },
  {
   "cell_type": "markdown",
   "source": [
    "First, we'll create a `Model` object for holding model elements as we\n",
    "construct each part. We'll also set the solver that will ultimately be called\n",
    "to solve the model, once it's constructed."
   ],
   "metadata": {}
  },
  {
   "outputs": [],
   "cell_type": "code",
   "source": [
    "model = Model(HiGHS.Optimizer)"
   ],
   "metadata": {},
   "execution_count": null
  },
  {
   "cell_type": "markdown",
   "source": [
    "Next we need the decision variables representing which items are chosen:"
   ],
   "metadata": {}
  },
  {
   "outputs": [],
   "cell_type": "code",
   "source": [
    "@variable(model, x[1:n], Bin)"
   ],
   "metadata": {},
   "execution_count": null
  },
  {
   "cell_type": "markdown",
   "source": [
    "We now want to constrain those variables so that their combined\n",
    "weight is less than or equal to the given capacity:"
   ],
   "metadata": {}
  },
  {
   "outputs": [],
   "cell_type": "code",
   "source": [
    "@constraint(model, sum(weight[i] * x[i] for i in 1:n) <= capacity)"
   ],
   "metadata": {},
   "execution_count": null
  },
  {
   "cell_type": "markdown",
   "source": [
    "Finally, our objective is to maximize the combined profit of the chosen items:"
   ],
   "metadata": {}
  },
  {
   "outputs": [],
   "cell_type": "code",
   "source": [
    "@objective(model, Max, sum(profit[i] * x[i] for i in 1:n))"
   ],
   "metadata": {},
   "execution_count": null
  },
  {
   "cell_type": "markdown",
   "source": [
    "Let's print a human-readable description of the model and check that the model\n",
    "looks as expected:"
   ],
   "metadata": {}
  },
  {
   "outputs": [],
   "cell_type": "code",
   "source": [
    "print(model)"
   ],
   "metadata": {},
   "execution_count": null
  },
  {
   "cell_type": "markdown",
   "source": [
    "We can now solve the optimization problem and inspect the results."
   ],
   "metadata": {}
  },
  {
   "outputs": [],
   "cell_type": "code",
   "source": [
    "optimize!(model)\n",
    "solution_summary(model)"
   ],
   "metadata": {},
   "execution_count": null
  },
  {
   "cell_type": "markdown",
   "source": [
    "The items chosen are"
   ],
   "metadata": {}
  },
  {
   "outputs": [],
   "cell_type": "code",
   "source": [
    "items_chosen = [i for i in 1:n if value(x[i]) > 0.5]"
   ],
   "metadata": {},
   "execution_count": null
  },
  {
   "cell_type": "markdown",
   "source": [
    "## Writing a function"
   ],
   "metadata": {}
  },
  {
   "cell_type": "markdown",
   "source": [
    "After working interactively, it is good practice to implement your model in a\n",
    "function."
   ],
   "metadata": {}
  },
  {
   "cell_type": "markdown",
   "source": [
    "The function can be used to ensure that the model is given well-defined input\n",
    "data with validation checks, and that the solution process went as expected."
   ],
   "metadata": {}
  },
  {
   "outputs": [],
   "cell_type": "code",
   "source": [
    "function solve_knapsack_problem(;\n",
    "    profit::Vector{Float64},\n",
    "    weight::Vector{Float64},\n",
    "    capacity::Float64,\n",
    ")\n",
    "    n = length(weight)\n",
    "    # The profit and weight vectors must be of equal length.\n",
    "    @assert length(profit) == n\n",
    "    model = Model(HiGHS.Optimizer)\n",
    "    set_silent(model)\n",
    "    @variable(model, x[1:n], Bin)\n",
    "    @objective(model, Max, profit' * x)\n",
    "    @constraint(model, weight' * x <= capacity)\n",
    "    optimize!(model)\n",
    "    @assert termination_status(model) == OPTIMAL\n",
    "    @assert primal_status(model) == FEASIBLE_POINT\n",
    "    println(\"Objective is: \", objective_value(model))\n",
    "    println(\"Solution is:\")\n",
    "    for i in 1:n\n",
    "        print(\"x[$i] = \", round(Int, value(x[i])))\n",
    "        println(\", c[$i] / w[$i] = \", profit[i] / weight[i])\n",
    "    end\n",
    "    chosen_items = [i for i in 1:n if value(x[i]) > 0.5]\n",
    "    return return chosen_items\n",
    "end\n",
    "\n",
    "solve_knapsack_problem(; profit = profit, weight = weight, capacity = capacity)"
   ],
   "metadata": {},
   "execution_count": null
  },
  {
   "cell_type": "markdown",
   "source": [
    "We observe that the chosen items (1, 4, and 5) have the best\n",
    "profit to weight ratio in this particular example."
   ],
   "metadata": {}
  },
  {
   "cell_type": "markdown",
   "source": [
    "## Next steps"
   ],
   "metadata": {}
  },
  {
   "cell_type": "markdown",
   "source": [
    "Here are some things to try next:\n",
    "\n",
    "* Call the function with different data. What happens as the capacity\n",
    "  increases?\n",
    "* What happens if the profit and weight vectors are different lengths?\n",
    "* Instead of creating a binary variable with `Bin`, we could have written\n",
    "  `@variable(model, 0 <= x[1:n] <= 1, Int)`. Verify that this formulation\n",
    "  finds the same solution. What happens if we are allowed to take more than\n",
    "  one of each item?"
   ],
   "metadata": {}
  }
 ],
 "nbformat_minor": 3,
 "metadata": {
  "language_info": {
   "file_extension": ".jl",
   "mimetype": "application/julia",
   "name": "julia",
   "version": "1.9.3"
  },
  "kernelspec": {
   "name": "julia-1.9",
   "display_name": "Julia 1.9.3",
   "language": "julia"
  }
 },
 "nbformat": 4
}
