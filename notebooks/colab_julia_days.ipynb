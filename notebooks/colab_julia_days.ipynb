{
 "cells": [
  {
   "cell_type": "markdown",
   "source": [
    "Run this cell once"
   ],
   "metadata": {}
  },
  {
   "outputs": [],
   "cell_type": "code",
   "source": [
    "%%shell\n",
    "set -e\n",
    "wget -nv https://raw.githubusercontent.com/odow/SESO2023/main/install_colab.sh -O /tmp/install_colab.sh\n",
    "bash /tmp/install_colab.sh  # Takes ~ 2 minutes"
   ],
   "metadata": {},
   "execution_count": null
  },
  {
   "cell_type": "markdown",
   "source": [
    "Then refresh the page... and run this cell once"
   ],
   "metadata": {}
  },
  {
   "outputs": [],
   "cell_type": "code",
   "source": [
    "import Downloads, Pkg\n",
    "Downloads.download(\"https://raw.githubusercontent.com/odow/SESO2023/main/Project.toml\", \"/tmp/Project.toml\")\n",
    "Pkg.activate(\"/tmp/Project.toml\")\n",
    "Pkg.instantiate()  # Can take ~ 7 minutes"
   ],
   "metadata": {},
   "execution_count": null
  },
  {
   "cell_type": "markdown",
   "source": [
    "# The knapsack problem example"
   ],
   "metadata": {}
  },
  {
   "cell_type": "markdown",
   "source": [
    "The purpose of this tutorial is to demonstrate how to formulate and solve a\n",
    "simple optimization problem."
   ],
   "metadata": {}
  },
  {
   "cell_type": "markdown",
   "source": [
    "## Required packages"
   ],
   "metadata": {}
  },
  {
   "cell_type": "markdown",
   "source": [
    "This tutorial requires the following packages:"
   ],
   "metadata": {}
  },
  {
   "outputs": [],
   "cell_type": "code",
   "source": [
    "using JuMP\n",
    "import HiGHS"
   ],
   "metadata": {},
   "execution_count": null
  },
  {
   "cell_type": "markdown",
   "source": [
    "## Formulation"
   ],
   "metadata": {}
  },
  {
   "cell_type": "markdown",
   "source": [
    "The [knapsack problem](https://en.wikipedia.org/wiki/Knapsack_problem)\n",
    "is a classical optimization problem: given a set of items and a container with\n",
    "a fixed capacity, choose a subset of items having the greatest combined\n",
    "value that will fit within the container without exceeding the capacity."
   ],
   "metadata": {}
  },
  {
   "cell_type": "markdown",
   "source": [
    "The name of the problem suggests its analogy to packing for a trip,\n",
    "where the baggage weight limit is the capacity and the goal is to pack the\n",
    "most profitable combination of belongings."
   ],
   "metadata": {}
  },
  {
   "cell_type": "markdown",
   "source": [
    "We can formulate the knapsack problem as the integer linear program:\n",
    "$$\n",
    "\\begin{aligned}\n",
    "\\max \\; & \\sum_{i=1}^n c_i x_i      \\\\\n",
    "s.t. \\; & \\sum_{i=1}^n w_i x_i \\le C, \\\\\n",
    "        & x_i \\in \\{0,1\\},\\quad \\forall i=1,\\ldots,n,\n",
    "\\end{aligned}\n",
    "$$\n",
    "where $C$ is the capacity, and there is a choice between $n$ items, with\n",
    "item $i$ having weight $w_i$, profit $c_i$. Decision variable $x_i$ is\n",
    "equal to 1 if the item is chosen and 0 if not."
   ],
   "metadata": {}
  },
  {
   "cell_type": "markdown",
   "source": [
    "This formulation can be written more compactly as:\n",
    "$$\n",
    "\\begin{aligned}\n",
    "\\max \\; & c^\\top x       \\\\\n",
    "s.t. \\; & w^\\top x \\le C \\\\\n",
    "        & x \\text{ binary }.\n",
    "\\end{aligned}\n",
    "$$"
   ],
   "metadata": {}
  },
  {
   "cell_type": "markdown",
   "source": [
    "## Data"
   ],
   "metadata": {}
  },
  {
   "cell_type": "markdown",
   "source": [
    "The data for the problem consists of two vectors (one for the profits and one\n",
    "for the weights) along with a capacity."
   ],
   "metadata": {}
  },
  {
   "cell_type": "markdown",
   "source": [
    "There are five objects:"
   ],
   "metadata": {}
  },
  {
   "outputs": [],
   "cell_type": "code",
   "source": [
    "n = 5;"
   ],
   "metadata": {},
   "execution_count": null
  },
  {
   "cell_type": "markdown",
   "source": [
    "For our example, we use a capacity of 10 units:"
   ],
   "metadata": {}
  },
  {
   "outputs": [],
   "cell_type": "code",
   "source": [
    "capacity = 10.0;"
   ],
   "metadata": {},
   "execution_count": null
  },
  {
   "cell_type": "markdown",
   "source": [
    "and the profit and cost data:"
   ],
   "metadata": {}
  },
  {
   "outputs": [],
   "cell_type": "code",
   "source": [
    "profit = [5.0, 3.0, 2.0, 7.0, 4.0];\n",
    "weight = [2.0, 8.0, 4.0, 2.0, 5.0];"
   ],
   "metadata": {},
   "execution_count": null
  },
  {
   "cell_type": "markdown",
   "source": [
    "## JuMP formulation"
   ],
   "metadata": {}
  },
  {
   "cell_type": "markdown",
   "source": [
    "Let's begin constructing the JuMP model for our knapsack problem."
   ],
   "metadata": {}
  },
  {
   "cell_type": "markdown",
   "source": [
    "First, we'll create a `Model` object for holding model elements as we\n",
    "construct each part. We'll also set the solver that will ultimately be called\n",
    "to solve the model, once it's constructed."
   ],
   "metadata": {}
  },
  {
   "outputs": [],
   "cell_type": "code",
   "source": [
    "model = Model(HiGHS.Optimizer)"
   ],
   "metadata": {},
   "execution_count": null
  },
  {
   "cell_type": "markdown",
   "source": [
    "Next we need the decision variables representing which items are chosen:"
   ],
   "metadata": {}
  },
  {
   "outputs": [],
   "cell_type": "code",
   "source": [
    "@variable(model, x[1:n], Bin)"
   ],
   "metadata": {},
   "execution_count": null
  },
  {
   "cell_type": "markdown",
   "source": [
    "We now want to constrain those variables so that their combined\n",
    "weight is less than or equal to the given capacity:"
   ],
   "metadata": {}
  },
  {
   "outputs": [],
   "cell_type": "code",
   "source": [
    "@constraint(model, sum(weight[i] * x[i] for i in 1:n) <= capacity)"
   ],
   "metadata": {},
   "execution_count": null
  },
  {
   "cell_type": "markdown",
   "source": [
    "Finally, our objective is to maximize the combined profit of the chosen items:"
   ],
   "metadata": {}
  },
  {
   "outputs": [],
   "cell_type": "code",
   "source": [
    "@objective(model, Max, sum(profit[i] * x[i] for i in 1:n))"
   ],
   "metadata": {},
   "execution_count": null
  },
  {
   "cell_type": "markdown",
   "source": [
    "Let's print a human-readable description of the model and check that the model\n",
    "looks as expected:"
   ],
   "metadata": {}
  },
  {
   "outputs": [],
   "cell_type": "code",
   "source": [
    "print(model)"
   ],
   "metadata": {},
   "execution_count": null
  },
  {
   "cell_type": "markdown",
   "source": [
    "We can now solve the optimization problem and inspect the results."
   ],
   "metadata": {}
  },
  {
   "outputs": [],
   "cell_type": "code",
   "source": [
    "optimize!(model)\n",
    "solution_summary(model)"
   ],
   "metadata": {},
   "execution_count": null
  },
  {
   "cell_type": "markdown",
   "source": [
    "The items chosen are"
   ],
   "metadata": {}
  },
  {
   "outputs": [],
   "cell_type": "code",
   "source": [
    "items_chosen = [i for i in 1:n if value(x[i]) > 0.5]"
   ],
   "metadata": {},
   "execution_count": null
  },
  {
   "cell_type": "markdown",
   "source": [
    "## Writing a function"
   ],
   "metadata": {}
  },
  {
   "cell_type": "markdown",
   "source": [
    "After working interactively, it is good practice to implement your model in a\n",
    "function."
   ],
   "metadata": {}
  },
  {
   "cell_type": "markdown",
   "source": [
    "The function can be used to ensure that the model is given well-defined input\n",
    "data with validation checks, and that the solution process went as expected."
   ],
   "metadata": {}
  },
  {
   "outputs": [],
   "cell_type": "code",
   "source": [
    "function solve_knapsack_problem(;\n",
    "    profit::Vector{Float64},\n",
    "    weight::Vector{Float64},\n",
    "    capacity::Float64,\n",
    ")\n",
    "    n = length(weight)\n",
    "    # The profit and weight vectors must be of equal length.\n",
    "    @assert length(profit) == n\n",
    "    model = Model(HiGHS.Optimizer)\n",
    "    set_silent(model)\n",
    "    @variable(model, x[1:n], Bin)\n",
    "    @objective(model, Max, profit' * x)\n",
    "    @constraint(model, weight' * x <= capacity)\n",
    "    optimize!(model)\n",
    "    @assert termination_status(model) == OPTIMAL\n",
    "    @assert primal_status(model) == FEASIBLE_POINT\n",
    "    println(\"Objective is: \", objective_value(model))\n",
    "    println(\"Solution is:\")\n",
    "    for i in 1:n\n",
    "        print(\"x[$i] = \", round(Int, value(x[i])))\n",
    "        println(\", c[$i] / w[$i] = \", profit[i] / weight[i])\n",
    "    end\n",
    "    chosen_items = [i for i in 1:n if value(x[i]) > 0.5]\n",
    "    return return chosen_items\n",
    "end\n",
    "\n",
    "solve_knapsack_problem(; profit = profit, weight = weight, capacity = capacity)"
   ],
   "metadata": {},
   "execution_count": null
  },
  {
   "cell_type": "markdown",
   "source": [
    "We observe that the chosen items (1, 4, and 5) have the best\n",
    "profit to weight ratio in this particular example."
   ],
   "metadata": {}
  },
  {
   "cell_type": "markdown",
   "source": [
    "## Next steps"
   ],
   "metadata": {}
  },
  {
   "cell_type": "markdown",
   "source": [
    "Here are some things to try next:\n",
    "\n",
    "* Call the function with different data. What happens as the capacity\n",
    "  increases?\n",
    "* What happens if the profit and weight vectors are different lengths?\n",
    "* Instead of creating a binary variable with `Bin`, we could have written\n",
    "  `@variable(model, 0 <= x[1:n] <= 1, Int)`. Verify that this formulation\n",
    "  finds the same solution. What happens if we are allowed to take more than\n",
    "  one of each item?"
   ],
   "metadata": {}
  },
  {
   "cell_type": "markdown",
   "source": [
    "# The diet problem"
   ],
   "metadata": {}
  },
  {
   "cell_type": "markdown",
   "source": [
    "The purpose of this tutorial is to demonstrate how to incorporate DataFrames\n",
    "into a JuMP model. As an example, we use classic [Stigler diet problem](https://en.wikipedia.org/wiki/Stigler_diet)."
   ],
   "metadata": {}
  },
  {
   "cell_type": "markdown",
   "source": [
    "## Required packages"
   ],
   "metadata": {}
  },
  {
   "cell_type": "markdown",
   "source": [
    "This tutorial requires the following packages:"
   ],
   "metadata": {}
  },
  {
   "outputs": [],
   "cell_type": "code",
   "source": [
    "using JuMP\n",
    "import CSV\n",
    "import DataFrames\n",
    "import HiGHS\n",
    "import Test"
   ],
   "metadata": {},
   "execution_count": null
  },
  {
   "cell_type": "markdown",
   "source": [
    "## Formulation"
   ],
   "metadata": {}
  },
  {
   "cell_type": "markdown",
   "source": [
    "We wish to cook a nutritionally balanced meal by choosing the quantity of each\n",
    "food $f$ to eat from a set of foods $F$ in our kitchen."
   ],
   "metadata": {}
  },
  {
   "cell_type": "markdown",
   "source": [
    "Each food $f$ has a cost, $c_f$, as well as a macro-nutrient profile\n",
    "$a_{m,f}$ for each macro-nutrient $m \\in M$."
   ],
   "metadata": {}
  },
  {
   "cell_type": "markdown",
   "source": [
    "Because we care about a nutritionally balanced meal, we set some minimum and\n",
    "maximum limits for each nutrient, which we denote $l_m$ and $u_m$\n",
    "respectively."
   ],
   "metadata": {}
  },
  {
   "cell_type": "markdown",
   "source": [
    "Furthermore, because we are optimizers, we seek the minimum cost solution."
   ],
   "metadata": {}
  },
  {
   "cell_type": "markdown",
   "source": [
    "With a little effort, we can formulate our dinner problem as the following\n",
    "linear program:\n",
    "$$\n",
    "\\begin{aligned}\n",
    "\\min & \\sum\\limits_{f \\in F} c_f x_f \\\\\n",
    "\\text{s.t.}\\ \\ & l_m \\le \\sum\\limits_{f \\in F} a_{m,f} x_f \\le u_m, && \\forall m \\in M \\\\\n",
    "& x_f \\ge 0, && \\forall f \\in F.\n",
    "\\end{aligned}\n",
    "$$"
   ],
   "metadata": {}
  },
  {
   "cell_type": "markdown",
   "source": [
    "In the rest of this tutorial, we will create and solve this problem in JuMP,\n",
    "and learn what we should cook for dinner."
   ],
   "metadata": {}
  },
  {
   "cell_type": "markdown",
   "source": [
    "## Data"
   ],
   "metadata": {}
  },
  {
   "cell_type": "markdown",
   "source": [
    "First, we need some data for the problem. For this tutorial, we'll write CSV\n",
    "files to a temporary directory from Julia. If you have existing files, you\n",
    "could change the filenames to point to them instead."
   ],
   "metadata": {}
  },
  {
   "outputs": [],
   "cell_type": "code",
   "source": [
    "dir = mktempdir()"
   ],
   "metadata": {},
   "execution_count": null
  },
  {
   "cell_type": "markdown",
   "source": [
    "The first file is a list of foods with their macro-nutrient profile:"
   ],
   "metadata": {}
  },
  {
   "outputs": [],
   "cell_type": "code",
   "source": [
    "food_csv_filename = joinpath(dir, \"diet_foods.csv\")\n",
    "open(food_csv_filename, \"w\") do io\n",
    "    write(\n",
    "        io,\n",
    "        \"\"\"\n",
    "        name,cost,calories,protein,fat,sodium\n",
    "        hamburger,2.49,410,24,26,730\n",
    "        chicken,2.89,420,32,10,1190\n",
    "        hot dog,1.50,560,20,32,1800\n",
    "        fries,1.89,380,4,19,270\n",
    "        macaroni,2.09,320,12,10,930\n",
    "        pizza,1.99,320,15,12,820\n",
    "        salad,2.49,320,31,12,1230\n",
    "        milk,0.89,100,8,2.5,125\n",
    "        ice cream,1.59,330,8,10,180\n",
    "        \"\"\",\n",
    "    )\n",
    "    return\n",
    "end\n",
    "foods = CSV.read(food_csv_filename, DataFrames.DataFrame)"
   ],
   "metadata": {},
   "execution_count": null
  },
  {
   "cell_type": "markdown",
   "source": [
    "Here, $F$ is `foods.name` and $c_f$ is `foods.cost`. (We're also playing\n",
    "a bit loose the term \"macro-nutrient\" by including calories and sodium.)"
   ],
   "metadata": {}
  },
  {
   "cell_type": "markdown",
   "source": [
    "We also need our minimum and maximum limits:"
   ],
   "metadata": {}
  },
  {
   "outputs": [],
   "cell_type": "code",
   "source": [
    "nutrient_csv_filename = joinpath(dir, \"diet_nutrient.csv\")\n",
    "open(nutrient_csv_filename, \"w\") do io\n",
    "    write(\n",
    "        io,\n",
    "        \"\"\"\n",
    "        nutrient,min,max\n",
    "        calories,1800,2200\n",
    "        protein,91,\n",
    "        fat,0,65\n",
    "        sodium,0,1779\n",
    "        \"\"\",\n",
    "    )\n",
    "    return\n",
    "end\n",
    "limits = CSV.read(nutrient_csv_filename, DataFrames.DataFrame)"
   ],
   "metadata": {},
   "execution_count": null
  },
  {
   "cell_type": "markdown",
   "source": [
    "Protein is missing data for the maximum. Let's fix that using `coalesce`:"
   ],
   "metadata": {}
  },
  {
   "outputs": [],
   "cell_type": "code",
   "source": [
    "limits.max = coalesce.(limits.max, Inf)\n",
    "limits"
   ],
   "metadata": {},
   "execution_count": null
  },
  {
   "cell_type": "markdown",
   "source": [
    "## JuMP formulation"
   ],
   "metadata": {}
  },
  {
   "cell_type": "markdown",
   "source": [
    "Now we're ready to convert our mathematical formulation into a JuMP model."
   ],
   "metadata": {}
  },
  {
   "cell_type": "markdown",
   "source": [
    "First, create a new JuMP model. Since we have a linear program, we'll use\n",
    "HiGHS as our optimizer:"
   ],
   "metadata": {}
  },
  {
   "outputs": [],
   "cell_type": "code",
   "source": [
    "model = Model(HiGHS.Optimizer)\n",
    "set_silent(model)"
   ],
   "metadata": {},
   "execution_count": null
  },
  {
   "cell_type": "markdown",
   "source": [
    "Next, we create a set of decision variables `x`, with one element for each row\n",
    "in the DataFrame, and each `x` has a lower bound of `0`:"
   ],
   "metadata": {}
  },
  {
   "outputs": [],
   "cell_type": "code",
   "source": [
    "@variable(model, x[foods.name] >= 0)"
   ],
   "metadata": {},
   "execution_count": null
  },
  {
   "cell_type": "markdown",
   "source": [
    "To simplify things later on, we store the vector as a new column `x` in the\n",
    "DataFrame `foods`. Since `x` is a `DenseAxisArray`, we first need to convert\n",
    "it to an `Array`:"
   ],
   "metadata": {}
  },
  {
   "outputs": [],
   "cell_type": "code",
   "source": [
    "foods.x = Array(x)"
   ],
   "metadata": {},
   "execution_count": null
  },
  {
   "cell_type": "markdown",
   "source": [
    "Our objective is to minimize the total cost of purchasing food:"
   ],
   "metadata": {}
  },
  {
   "outputs": [],
   "cell_type": "code",
   "source": [
    "@objective(model, Min, sum(foods.cost .* foods.x));"
   ],
   "metadata": {},
   "execution_count": null
  },
  {
   "cell_type": "markdown",
   "source": [
    "For the next component, we need to add a constraint that our total intake of\n",
    "each component is within the limits contained in the `limits` DataFrame:"
   ],
   "metadata": {}
  },
  {
   "outputs": [],
   "cell_type": "code",
   "source": [
    "@constraint(\n",
    "    model,\n",
    "    [row in eachrow(limits)],\n",
    "    row.min <= sum(foods[!, row.nutrient] .* foods.x) <= row.max,\n",
    ");"
   ],
   "metadata": {},
   "execution_count": null
  },
  {
   "cell_type": "markdown",
   "source": [
    "What does our model look like?"
   ],
   "metadata": {}
  },
  {
   "outputs": [],
   "cell_type": "code",
   "source": [
    "print(model)"
   ],
   "metadata": {},
   "execution_count": null
  },
  {
   "cell_type": "markdown",
   "source": [
    "## Solution"
   ],
   "metadata": {}
  },
  {
   "cell_type": "markdown",
   "source": [
    "Let's optimize and take a look at the solution:"
   ],
   "metadata": {}
  },
  {
   "outputs": [],
   "cell_type": "code",
   "source": [
    "optimize!(model)\n",
    "Test.@test primal_status(model) == FEASIBLE_POINT\n",
    "Test.@test objective_value(model) ≈ 11.8288 atol = 1e-4\n",
    "solution_summary(model)"
   ],
   "metadata": {},
   "execution_count": null
  },
  {
   "cell_type": "markdown",
   "source": [
    "We found an optimal solution. Let's see what the optimal solution is:"
   ],
   "metadata": {}
  },
  {
   "outputs": [],
   "cell_type": "code",
   "source": [
    "for row in eachrow(foods)\n",
    "    println(row.name, \" = \", value(row.x))\n",
    "end"
   ],
   "metadata": {},
   "execution_count": null
  },
  {
   "cell_type": "markdown",
   "source": [
    "That's a lot of milk and ice cream, and sadly, we only get `0.6` of a\n",
    "hamburger."
   ],
   "metadata": {}
  },
  {
   "cell_type": "markdown",
   "source": [
    "We can also use the function `Containers.rowtable` to easily convert\n",
    "the result into a DataFrame:"
   ],
   "metadata": {}
  },
  {
   "outputs": [],
   "cell_type": "code",
   "source": [
    "table = Containers.rowtable(value, x; header = [:food, :quantity])\n",
    "solution = DataFrames.DataFrame(table)"
   ],
   "metadata": {},
   "execution_count": null
  },
  {
   "cell_type": "markdown",
   "source": [
    "This makes it easy to perform analyses our solution:"
   ],
   "metadata": {}
  },
  {
   "outputs": [],
   "cell_type": "code",
   "source": [
    "filter!(row -> row.quantity > 0.0, solution)"
   ],
   "metadata": {},
   "execution_count": null
  },
  {
   "cell_type": "markdown",
   "source": [
    "## Problem modification"
   ],
   "metadata": {}
  },
  {
   "cell_type": "markdown",
   "source": [
    "JuMP makes it easy to take an existing model and modify it by adding extra\n",
    "constraints. Let's see what happens if we add a constraint that we can buy at\n",
    "most 6 units of milk or ice cream combined."
   ],
   "metadata": {}
  },
  {
   "outputs": [],
   "cell_type": "code",
   "source": [
    "dairy_foods = [\"milk\", \"ice cream\"]\n",
    "is_dairy = map(name -> name in dairy_foods, foods.name)\n",
    "dairy_constraint = @constraint(model, sum(foods[is_dairy, :x]) <= 6)\n",
    "optimize!(model)\n",
    "Test.@test termination_status(model) == INFEASIBLE\n",
    "Test.@test primal_status(model) == NO_SOLUTION\n",
    "solution_summary(model)"
   ],
   "metadata": {},
   "execution_count": null
  },
  {
   "cell_type": "markdown",
   "source": [
    "There exists no feasible solution to our problem. Looks like we're stuck\n",
    "eating ice cream for dinner."
   ],
   "metadata": {}
  },
  {
   "cell_type": "markdown",
   "source": [
    "## Next steps"
   ],
   "metadata": {}
  },
  {
   "cell_type": "markdown",
   "source": [
    "* You can delete a constraint using `delete(model, dairy_constraint)`. Can you\n",
    "  add a different constraint to provide a diet with less dairy?\n",
    "* Some food items (like hamburgers) are discrete. You can use `set_integer`\n",
    "  to force a variable to take integer values. What happens to the solution if\n",
    "  you do?"
   ],
   "metadata": {}
  },
  {
   "cell_type": "markdown",
   "source": [
    "# Rocket Control"
   ],
   "metadata": {}
  },
  {
   "cell_type": "markdown",
   "source": [
    "**This tutorial was originally contributed by Iain Dunning.**"
   ],
   "metadata": {}
  },
  {
   "cell_type": "markdown",
   "source": [
    "The purpose of this tutorial is to demonstrate how to setup and solve a\n",
    "nonlinear optimization problem."
   ],
   "metadata": {}
  },
  {
   "cell_type": "markdown",
   "source": [
    "The example is an optimal control problem of a nonlinear rocket."
   ],
   "metadata": {}
  },
  {
   "cell_type": "markdown",
   "source": [
    "This tutorial uses the following packages:"
   ],
   "metadata": {}
  },
  {
   "outputs": [],
   "cell_type": "code",
   "source": [
    "using JuMP\n",
    "import Ipopt\n",
    "import Plots"
   ],
   "metadata": {},
   "execution_count": null
  },
  {
   "cell_type": "markdown",
   "source": [
    "## Overview"
   ],
   "metadata": {}
  },
  {
   "cell_type": "markdown",
   "source": [
    "Our goal is to maximize the final altitude of a vertically launched rocket."
   ],
   "metadata": {}
  },
  {
   "cell_type": "markdown",
   "source": [
    "We can control the thrust of the rocket, and must take account of the rocket\n",
    "mass, fuel consumption rate, gravity, and aerodynamic drag."
   ],
   "metadata": {}
  },
  {
   "cell_type": "markdown",
   "source": [
    "Let us consider the basic description of the model (for the full description,\n",
    "including parameters for the rocket, see [COPS3](https://www.mcs.anl.gov/~more/cops/cops3.pdf))."
   ],
   "metadata": {}
  },
  {
   "cell_type": "markdown",
   "source": [
    "There are three state variables in our model:"
   ],
   "metadata": {}
  },
  {
   "cell_type": "markdown",
   "source": [
    "* Velocity: $x_v(t)$\n",
    "* Altitude: $x_h(t)$\n",
    "* Mass of rocket and remaining fuel, $x_m(t)$"
   ],
   "metadata": {}
  },
  {
   "cell_type": "markdown",
   "source": [
    "and a single control variable:"
   ],
   "metadata": {}
  },
  {
   "cell_type": "markdown",
   "source": [
    "* Thrust: $u_t(t)$."
   ],
   "metadata": {}
  },
  {
   "cell_type": "markdown",
   "source": [
    "There are three equations that control the dynamics of the rocket:"
   ],
   "metadata": {}
  },
  {
   "cell_type": "markdown",
   "source": [
    " * Rate of ascent: $$\\frac{d x_h}{dt} = x_v$$\n",
    " * Acceleration: $$\\frac{d x_v}{dt} = \\frac{u_t - D(x_h, x_v)}{x_m} - g(x_h)$$\n",
    " * Rate of mass loss: $$\\frac{d x_m}{dt} = -\\frac{u_t}{c}$$"
   ],
   "metadata": {}
  },
  {
   "cell_type": "markdown",
   "source": [
    "where drag $D(x_h, x_v)$ is a function of altitude and velocity, gravity\n",
    "$g(x_h)$ is a function of altitude, and $c$ is a constant."
   ],
   "metadata": {}
  },
  {
   "cell_type": "markdown",
   "source": [
    "These forces are defined as:\n",
    "\n",
    "$$D(x_h, x_v) = D_c \\cdot x_v^2 \\cdot e^{-h_c \\left( \\frac{x_h-x_h(0)}{x_h(0)} \\right)}$$\n",
    "and\n",
    "$$g(x_h) = g_0 \\cdot \\left( \\frac{x_h(0)}{x_h} \\right)^2$$"
   ],
   "metadata": {}
  },
  {
   "cell_type": "markdown",
   "source": [
    "We use a discretized model of time, with a fixed number of time steps, $T$."
   ],
   "metadata": {}
  },
  {
   "cell_type": "markdown",
   "source": [
    "Our goal is thus to maximize $x_h(T)$."
   ],
   "metadata": {}
  },
  {
   "cell_type": "markdown",
   "source": [
    "## Data"
   ],
   "metadata": {}
  },
  {
   "cell_type": "markdown",
   "source": [
    "All parameters in this model have been normalized to be dimensionless, and\n",
    "they are taken from [COPS3](https://www.mcs.anl.gov/~more/cops/cops3.pdf)."
   ],
   "metadata": {}
  },
  {
   "outputs": [],
   "cell_type": "code",
   "source": [
    "h_0 = 1                      # Initial height\n",
    "v_0 = 0                      # Initial velocity\n",
    "m_0 = 1.0                    # Initial mass\n",
    "m_T = 0.6                    # Final mass\n",
    "g_0 = 1                      # Gravity at the surface\n",
    "h_c = 500                    # Used for drag\n",
    "c = 0.5 * sqrt(g_0 * h_0)    # Thrust-to-fuel mass\n",
    "D_c = 0.5 * 620 * m_0 / g_0  # Drag scaling\n",
    "u_t_max = 3.5 * g_0 * m_0    # Maximum thrust\n",
    "T_max = 0.2                  # Number of seconds\n",
    "T = 1_000                    # Number of time steps\n",
    "Δt = 0.2 / T;                # Time per discretized step"
   ],
   "metadata": {},
   "execution_count": null
  },
  {
   "cell_type": "markdown",
   "source": [
    "## JuMP formulation"
   ],
   "metadata": {}
  },
  {
   "cell_type": "markdown",
   "source": [
    "First, we create a model and choose an optimizer. Since this is a nonlinear\n",
    "program, we need to use a nonlinear solver like Ipopt. We cannot use a linear\n",
    "solver like HiGHS."
   ],
   "metadata": {}
  },
  {
   "outputs": [],
   "cell_type": "code",
   "source": [
    "model = Model(Ipopt.Optimizer)\n",
    "set_silent(model)"
   ],
   "metadata": {},
   "execution_count": null
  },
  {
   "cell_type": "markdown",
   "source": [
    "Next, we create our state and control variables, which are each indexed by\n",
    "`t`. It is good practice for nonlinear programs to always provide a starting\n",
    "solution for each variable."
   ],
   "metadata": {}
  },
  {
   "outputs": [],
   "cell_type": "code",
   "source": [
    "@variable(model, x_v[1:T] >= 0, start = v_0)           # Velocity\n",
    "@variable(model, x_h[1:T] >= 0, start = h_0)           # Height\n",
    "@variable(model, x_m[1:T] >= m_T, start = m_0)         # Mass\n",
    "@variable(model, 0 <= u_t[1:T] <= u_t_max, start = 0); # Thrust"
   ],
   "metadata": {},
   "execution_count": null
  },
  {
   "cell_type": "markdown",
   "source": [
    "We implement boundary conditions by fixing variables to values."
   ],
   "metadata": {}
  },
  {
   "outputs": [],
   "cell_type": "code",
   "source": [
    "fix(x_v[1], v_0; force = true)\n",
    "fix(x_h[1], h_0; force = true)\n",
    "fix(x_m[1], m_0; force = true)\n",
    "fix(u_t[T], 0.0; force = true)"
   ],
   "metadata": {},
   "execution_count": null
  },
  {
   "cell_type": "markdown",
   "source": [
    "The objective is to maximize altitude at end of time of flight."
   ],
   "metadata": {}
  },
  {
   "outputs": [],
   "cell_type": "code",
   "source": [
    "@objective(model, Max, x_h[T])"
   ],
   "metadata": {},
   "execution_count": null
  },
  {
   "cell_type": "markdown",
   "source": [
    "Forces are defined as functions:"
   ],
   "metadata": {}
  },
  {
   "outputs": [],
   "cell_type": "code",
   "source": [
    "D(x_h, x_v) = D_c * x_v^2 * exp(-h_c * (x_h - h_0) / h_0)\n",
    "g(x_h) = g_0 * (h_0 / x_h)^2"
   ],
   "metadata": {},
   "execution_count": null
  },
  {
   "cell_type": "markdown",
   "source": [
    "The dynamical equations are implemented as constraints."
   ],
   "metadata": {}
  },
  {
   "outputs": [],
   "cell_type": "code",
   "source": [
    "ddt(x::Vector, t::Int) = (x[t] - x[t-1]) / Δt\n",
    "@constraint(model, [t in 2:T], ddt(x_h, t) == x_v[t-1])\n",
    "@constraint(\n",
    "    model,\n",
    "    [t in 2:T],\n",
    "    ddt(x_v, t) == (u_t[t-1] - D(x_h[t-1], x_v[t-1])) / x_m[t-1] - g(x_h[t-1]),\n",
    ")\n",
    "@constraint(model, [t in 2:T], ddt(x_m, t) == -u_t[t-1] / c);"
   ],
   "metadata": {},
   "execution_count": null
  },
  {
   "cell_type": "markdown",
   "source": [
    "Now we optimize the model and check that we found a solution:"
   ],
   "metadata": {}
  },
  {
   "outputs": [],
   "cell_type": "code",
   "source": [
    "optimize!(model)\n",
    "solution_summary(model)"
   ],
   "metadata": {},
   "execution_count": null
  },
  {
   "cell_type": "markdown",
   "source": [
    "Finally, we plot the solution:"
   ],
   "metadata": {}
  },
  {
   "outputs": [],
   "cell_type": "code",
   "source": [
    "function plot_trajectory(y; kwargs...)\n",
    "    return Plots.plot(\n",
    "        (1:T) * Δt,\n",
    "        value.(y);\n",
    "        xlabel = \"Time (s)\",\n",
    "        legend = false,\n",
    "        kwargs...,\n",
    "    )\n",
    "end\n",
    "\n",
    "Plots.plot(\n",
    "    plot_trajectory(x_h; ylabel = \"Altitude\"),\n",
    "    plot_trajectory(x_m; ylabel = \"Mass\"),\n",
    "    plot_trajectory(x_v; ylabel = \"Velocity\"),\n",
    "    plot_trajectory(u_t; ylabel = \"Thrust\");\n",
    "    layout = (2, 2),\n",
    ")"
   ],
   "metadata": {},
   "execution_count": null
  },
  {
   "cell_type": "markdown",
   "source": [
    "## Next steps"
   ],
   "metadata": {}
  },
  {
   "cell_type": "markdown",
   "source": [
    "* Experiment with different values for the constants. How does the solution\n",
    "  change? In particular, what happens if you change `T_max`?\n",
    "* The dynamical equations use rectangular integration for the right-hand side\n",
    "  terms. Modify the equations to use the [Trapezoidal rule](https://en.wikipedia.org/wiki/Trapezoidal_rule_(differential_equations))\n",
    "  instead. (As an example, `x_v[t-1]` would become\n",
    "  `0.5 * (x_v[t-1] + x_v[t])`.) Is there a difference?"
   ],
   "metadata": {}
  },
  {
   "cell_type": "markdown",
   "source": [
    "# Multi-objective knapsack"
   ],
   "metadata": {}
  },
  {
   "cell_type": "markdown",
   "source": [
    "The purpose of this tutorial is to demonstrate how to create and solve a\n",
    "multi-objective linear program. In addition, it demonstrates how to work with\n",
    "solvers which return multiple solutions."
   ],
   "metadata": {}
  },
  {
   "cell_type": "markdown",
   "source": [
    "## Required packages"
   ],
   "metadata": {}
  },
  {
   "cell_type": "markdown",
   "source": [
    "This tutorial requires the following packages:"
   ],
   "metadata": {}
  },
  {
   "outputs": [],
   "cell_type": "code",
   "source": [
    "using JuMP\n",
    "import HiGHS\n",
    "import MultiObjectiveAlgorithms as MOA\n",
    "import Plots\n",
    "import Test"
   ],
   "metadata": {},
   "execution_count": null
  },
  {
   "cell_type": "markdown",
   "source": [
    "MultiObjectiveAlgorithms.jl is a package which implements a variety of\n",
    "algorithms for solving multi-objective optimization problems. Because it is a\n",
    "long package name, we import it instead as `MOA`."
   ],
   "metadata": {}
  },
  {
   "cell_type": "markdown",
   "source": [
    "## Formulation"
   ],
   "metadata": {}
  },
  {
   "cell_type": "markdown",
   "source": [
    "The [knapsack problem](https://en.wikipedia.org/wiki/Knapsack_problem) is a\n",
    "classic problem in mixed-integer programming. Given a collection of items\n",
    "$i \\in I$, each of which has an associated weight, $w_i$, and profit,\n",
    "$p_i$, the knapsack problem determines which profit-maximizing subset of\n",
    "items to pack into a knapsack such that the total weight is less than a\n",
    "capacity $c$. The mathematical formulation is:"
   ],
   "metadata": {}
  },
  {
   "cell_type": "markdown",
   "source": [
    "$$\n",
    "\\begin{aligned}\n",
    "\\max & \\sum\\limits_{i \\in I} p_i x_i \\\\\n",
    "\\text{s.t.}\\ \\ & \\sum\\limits_{i \\in I} w_i x_i \\le c\\\\\n",
    "& x_i \\in \\{0, 1\\} && \\forall i \\in I\n",
    "\\end{aligned}\n",
    "$$\n",
    "where $x_i$ is $1$ if we pack item $i$ into the knapsack and $0$\n",
    "otherwise."
   ],
   "metadata": {}
  },
  {
   "cell_type": "markdown",
   "source": [
    "For this tutorial, we extend the single-objective knapsack problem by adding\n",
    "another objective: given a desirability rating, $r_i$, we wish to maximize\n",
    "the total desirability of the items in our knapsack. Thus, our mathematical\n",
    "formulation is now:"
   ],
   "metadata": {}
  },
  {
   "cell_type": "markdown",
   "source": [
    "$$\n",
    "\\begin{aligned}\n",
    "\\max & \\sum\\limits_{i \\in I} p_i x_i \\\\\n",
    "     & \\sum\\limits_{i \\in I} r_i x_i \\\\\n",
    "\\text{s.t.}\\ \\ & \\sum\\limits_{i \\in I} w_i x_i \\le c\\\\\n",
    "& x_i \\in \\{0, 1\\} && \\forall i \\in I\n",
    "\\end{aligned}\n",
    "$$"
   ],
   "metadata": {}
  },
  {
   "cell_type": "markdown",
   "source": [
    "## Data"
   ],
   "metadata": {}
  },
  {
   "cell_type": "markdown",
   "source": [
    "The data for this example was taken from [vOptGeneric](https://github.com/vOptSolver/vOptGeneric.jl),\n",
    "and the original author was [@xgandibleux](https://github.com/xgandibleux)."
   ],
   "metadata": {}
  },
  {
   "outputs": [],
   "cell_type": "code",
   "source": [
    "profit = [77, 94, 71, 63, 96, 82, 85, 75, 72, 91, 99, 63, 84, 87, 79, 94, 90]\n",
    "desire = [65, 90, 90, 77, 95, 84, 70, 94, 66, 92, 74, 97, 60, 60, 65, 97, 93]\n",
    "weight = [80, 87, 68, 72, 66, 77, 99, 85, 70, 93, 98, 72, 100, 89, 67, 86, 91]\n",
    "capacity = 900\n",
    "N = length(profit)"
   ],
   "metadata": {},
   "execution_count": null
  },
  {
   "cell_type": "markdown",
   "source": [
    "Comparing the capacity to the total weight of all the items:"
   ],
   "metadata": {}
  },
  {
   "outputs": [],
   "cell_type": "code",
   "source": [
    "capacity / sum(weight)"
   ],
   "metadata": {},
   "execution_count": null
  },
  {
   "cell_type": "markdown",
   "source": [
    "shows that we can take approximately 64% of the items."
   ],
   "metadata": {}
  },
  {
   "cell_type": "markdown",
   "source": [
    "Plotting the items, we see that there are a range of items with different\n",
    "profits and desirability. Some items have a high profit and a high\n",
    "desirability, others have a low profit and a high desirability (and vice\n",
    "versa)."
   ],
   "metadata": {}
  },
  {
   "outputs": [],
   "cell_type": "code",
   "source": [
    "Plots.scatter(\n",
    "    profit,\n",
    "    desire;\n",
    "    xlabel = \"Profit\",\n",
    "    ylabel = \"Desire\",\n",
    "    legend = false,\n",
    ")"
   ],
   "metadata": {},
   "execution_count": null
  },
  {
   "cell_type": "markdown",
   "source": [
    "The goal of the bi-objective knapsack problem is to choose a subset which\n",
    "maximizes both objectives."
   ],
   "metadata": {}
  },
  {
   "cell_type": "markdown",
   "source": [
    "## JuMP formulation"
   ],
   "metadata": {}
  },
  {
   "cell_type": "markdown",
   "source": [
    "Our JuMP formulation is a direct translation of the mathematical formulation:"
   ],
   "metadata": {}
  },
  {
   "outputs": [],
   "cell_type": "code",
   "source": [
    "model = Model()\n",
    "@variable(model, x[1:N], Bin)\n",
    "@constraint(model, sum(weight[i] * x[i] for i in 1:N) <= capacity)\n",
    "@expression(model, profit_expr, sum(profit[i] * x[i] for i in 1:N))\n",
    "@expression(model, desire_expr, sum(desire[i] * x[i] for i in 1:N))\n",
    "@objective(model, Max, [profit_expr, desire_expr])"
   ],
   "metadata": {},
   "execution_count": null
  },
  {
   "cell_type": "markdown",
   "source": [
    "Note how we form a multi-objective program by passing a vector of scalar\n",
    "objective functions."
   ],
   "metadata": {}
  },
  {
   "cell_type": "markdown",
   "source": [
    "## Solution"
   ],
   "metadata": {}
  },
  {
   "cell_type": "markdown",
   "source": [
    "To solve our model, we need an optimizer which supports multi-objective linear\n",
    "programs. One option is to use the MultiObjectiveAlgorithms.jl\n",
    "package."
   ],
   "metadata": {}
  },
  {
   "outputs": [],
   "cell_type": "code",
   "source": [
    "set_optimizer(model, () -> MOA.Optimizer(HiGHS.Optimizer))\n",
    "set_silent(model)"
   ],
   "metadata": {},
   "execution_count": null
  },
  {
   "cell_type": "markdown",
   "source": [
    "MultiObjectiveAlgorithms.jl supports many different algorithms for solving\n",
    "multiobjective optimization problems. One option is the epsilon-constraint\n",
    "method:"
   ],
   "metadata": {}
  },
  {
   "outputs": [],
   "cell_type": "code",
   "source": [
    "set_attribute(model, MOA.Algorithm(), MOA.EpsilonConstraint())"
   ],
   "metadata": {},
   "execution_count": null
  },
  {
   "cell_type": "markdown",
   "source": [
    "Let's solve the problem and see the solution"
   ],
   "metadata": {}
  },
  {
   "outputs": [],
   "cell_type": "code",
   "source": [
    "optimize!(model)\n",
    "solution_summary(model)"
   ],
   "metadata": {},
   "execution_count": null
  },
  {
   "cell_type": "markdown",
   "source": [
    "There are 9 solutions available. We can also use `result_count` to see\n",
    "how many solutions are available:"
   ],
   "metadata": {}
  },
  {
   "outputs": [],
   "cell_type": "code",
   "source": [
    "result_count(model)"
   ],
   "metadata": {},
   "execution_count": null
  },
  {
   "cell_type": "markdown",
   "source": [
    "## Accessing multiple solutions"
   ],
   "metadata": {}
  },
  {
   "cell_type": "markdown",
   "source": [
    "Access the nine different solutions in the model using the `result` keyword to\n",
    "`solution_summary`, `value`, and `objective_value`:"
   ],
   "metadata": {}
  },
  {
   "outputs": [],
   "cell_type": "code",
   "source": [
    "solution_summary(model; result = 5)"
   ],
   "metadata": {},
   "execution_count": null
  },
  {
   "outputs": [],
   "cell_type": "code",
   "source": [
    "objective_value(model; result = 5)"
   ],
   "metadata": {},
   "execution_count": null
  },
  {
   "cell_type": "markdown",
   "source": [
    "Note that because we set a vector of two objective functions, the objective\n",
    "value is a vector with two elements. We can also query the value of each\n",
    "objective separately:"
   ],
   "metadata": {}
  },
  {
   "outputs": [],
   "cell_type": "code",
   "source": [
    "value(profit_expr; result = 5)"
   ],
   "metadata": {},
   "execution_count": null
  },
  {
   "cell_type": "markdown",
   "source": [
    "## Visualizing objective space"
   ],
   "metadata": {}
  },
  {
   "cell_type": "markdown",
   "source": [
    "Unlike single-objective optimization problems, multi-objective optimization\n",
    "problems do not have a single optimal solution. Instead, the solutions\n",
    "returned represent possible trade-offs that the decision maker can choose\n",
    "between the two objectives. A common way to visualize this is by plotting\n",
    "the objective values of each of the solutions:"
   ],
   "metadata": {}
  },
  {
   "outputs": [],
   "cell_type": "code",
   "source": [
    "plot = Plots.scatter(\n",
    "    [value(profit_expr; result = i) for i in 1:result_count(model)],\n",
    "    [value(desire_expr; result = i) for i in 1:result_count(model)];\n",
    "    xlabel = \"Profit\",\n",
    "    ylabel = \"Desire\",\n",
    "    title = \"Objective space\",\n",
    "    label = \"\",\n",
    "    xlims = (915, 960),\n",
    ")\n",
    "for i in 1:result_count(model)\n",
    "    y = objective_value(model; result = i)\n",
    "    Plots.annotate!(y[1] - 1, y[2], (i, 10))\n",
    "end\n",
    "ideal_point = objective_bound(model)\n",
    "Plots.scatter!([ideal_point[1]], [ideal_point[2]]; label = \"Ideal point\")"
   ],
   "metadata": {},
   "execution_count": null
  },
  {
   "cell_type": "markdown",
   "source": [
    "Visualizing the objective space lets the decision maker choose a solution that\n",
    "suits their personal preferences. For example, result `#7` is close to the\n",
    "maximum value of profit, but offers significantly higher desirability compared\n",
    "with solutions `#8` and `#9`."
   ],
   "metadata": {}
  },
  {
   "cell_type": "markdown",
   "source": [
    "The set of items that are chosen in solution `#7` are:"
   ],
   "metadata": {}
  },
  {
   "outputs": [],
   "cell_type": "code",
   "source": [
    "items_chosen = [i for i in 1:N if value(x[i]; result = 7) > 0.9]"
   ],
   "metadata": {},
   "execution_count": null
  },
  {
   "cell_type": "markdown",
   "source": [
    "## Next steps"
   ],
   "metadata": {}
  },
  {
   "cell_type": "markdown",
   "source": [
    "MultiObjectiveAlgorithms.jl implements a number of different\n",
    "algorithms. Try solving the same problem using `MOA.Dichotomy()`. Does it find\n",
    "the same solution?"
   ],
   "metadata": {}
  },
  {
   "cell_type": "markdown",
   "source": [
    "# Column generation"
   ],
   "metadata": {}
  },
  {
   "cell_type": "markdown",
   "source": [
    "The purpose of this tutorial is to demonstrate the column generation\n",
    "algorithm. As an example, it solves the [Cutting stock problem](https://en.wikipedia.org/wiki/Cutting_stock_problem)."
   ],
   "metadata": {}
  },
  {
   "cell_type": "markdown",
   "source": [
    "This tutorial uses the following packages:"
   ],
   "metadata": {}
  },
  {
   "outputs": [],
   "cell_type": "code",
   "source": [
    "using JuMP\n",
    "import DataFrames\n",
    "import HiGHS\n",
    "import Plots\n",
    "import SparseArrays"
   ],
   "metadata": {},
   "execution_count": null
  },
  {
   "cell_type": "markdown",
   "source": [
    "## Background"
   ],
   "metadata": {}
  },
  {
   "cell_type": "markdown",
   "source": [
    "The cutting stock problem is about cutting large rolls of paper into smaller\n",
    "pieces."
   ],
   "metadata": {}
  },
  {
   "cell_type": "markdown",
   "source": [
    "We denote the set of possible sized pieces that a roll can be cut into by\n",
    "$i\\in 1,\\ldots,I$. Each piece $i$ has a width, $w_i$, and a demand,\n",
    "$d_i$. The width of the large roll is $W$."
   ],
   "metadata": {}
  },
  {
   "cell_type": "markdown",
   "source": [
    "Our objective is to minimize the number of rolls needed to meet all demand."
   ],
   "metadata": {}
  },
  {
   "cell_type": "markdown",
   "source": [
    "Here's the data that we are going to use in this tutorial:"
   ],
   "metadata": {}
  },
  {
   "outputs": [],
   "cell_type": "code",
   "source": [
    "struct Piece\n",
    "    w::Float64\n",
    "    d::Int\n",
    "end\n",
    "\n",
    "struct Data\n",
    "    pieces::Vector{Piece}\n",
    "    W::Float64\n",
    "end\n",
    "\n",
    "function Base.show(io::IO, d::Data)\n",
    "    println(io, \"Data for the cutting stock problem:\")\n",
    "    println(io, \"  W = $(d.W)\")\n",
    "    println(io, \"with pieces:\")\n",
    "    println(io, \"   i   w_i d_i\")\n",
    "    println(io, \"  ------------\")\n",
    "    for (i, p) in enumerate(d.pieces)\n",
    "        println(io, lpad(i, 4), \" \", lpad(p.w, 5), \" \", lpad(p.d, 3))\n",
    "    end\n",
    "    return\n",
    "end\n",
    "\n",
    "function get_data()\n",
    "    data = [\n",
    "        75.0 38\n",
    "        75.0 44\n",
    "        75.0 30\n",
    "        75.0 41\n",
    "        75.0 36\n",
    "        53.8 33\n",
    "        53.0 36\n",
    "        51.0 41\n",
    "        50.2 35\n",
    "        32.2 37\n",
    "        30.8 44\n",
    "        29.8 49\n",
    "        20.1 37\n",
    "        16.2 36\n",
    "        14.5 42\n",
    "        11.0 33\n",
    "        8.6 47\n",
    "        8.2 35\n",
    "        6.6 49\n",
    "        5.1 42\n",
    "    ]\n",
    "    return Data([Piece(data[i, 1], data[i, 2]) for i in axes(data, 1)], 100.0)\n",
    "end\n",
    "\n",
    "data = get_data()"
   ],
   "metadata": {},
   "execution_count": null
  },
  {
   "cell_type": "markdown",
   "source": [
    "## Mathematical formulation"
   ],
   "metadata": {}
  },
  {
   "cell_type": "markdown",
   "source": [
    "To formulate the cutting stock problem as a mixed-integer linear program, we\n",
    "assume that there is a set of large rolls $j=1,\\ldots,J$ to use. Then, we\n",
    "introduce two classes of decision variables:\n",
    "* $x_{ij} \\ge 0,\\; \\text{integer}, \\; \\forall i=1,\\ldots,I,\\; j=1,\\ldots,J$\n",
    "* $y_{j} \\in \\{0, 1\\},\\; \\forall j=1,\\ldots,J.$\n",
    "$y_j$ is a binary variable that indicates if we use roll $j$, and\n",
    "$x_{ij}$ counts how many pieces of size $i$ that we cut from roll $j$."
   ],
   "metadata": {}
  },
  {
   "cell_type": "markdown",
   "source": [
    "Our mixed-integer linear program is therefore:\n",
    "$$\n",
    "\\begin{align}\n",
    "    \\min & \\sum\\limits_{j=1}^J y_j \\\\\n",
    "    \\;\\;\\text{s.t.} & \\sum\\limits_{i=1}^N w_i x_{ij} \\le W y_j & \\forall j=1,\\ldots,J \\\\\n",
    "         & \\sum\\limits_{j=1}^J x_{ij} \\ge d_i & \\forall i=1,\\ldots,I \\\\\n",
    "         & x_{ij} \\ge 0 & \\forall i=1,\\ldots,N, j=1,\\ldots,J \\\\\n",
    "         & x_{ij} \\in \\mathbb{Z} & \\forall i=1,\\ldots,I, j=1,\\ldots,J \\\\\n",
    "         & y_{j} \\in \\{0, 1\\} & \\forall j=1,\\ldots,J \\\\\n",
    "\\end{align}\n",
    "$$\n",
    "The objective is to minimize the number of rolls that we use, and the two\n",
    "constraints ensure that we respect the total width of each large roll and that\n",
    "we satisfy demand exactly."
   ],
   "metadata": {}
  },
  {
   "cell_type": "markdown",
   "source": [
    "The JuMP formulation of this model is:"
   ],
   "metadata": {}
  },
  {
   "outputs": [],
   "cell_type": "code",
   "source": [
    "I = length(data.pieces)\n",
    "J = 1_000  # Some large number\n",
    "model = Model(HiGHS.Optimizer)\n",
    "set_silent(model)\n",
    "@variable(model, x[1:I, 1:J] >= 0, Int)\n",
    "@variable(model, y[1:J], Bin)\n",
    "@objective(model, Min, sum(y))\n",
    "@constraint(model, [i in 1:I], sum(x[i, :]) >= data.pieces[i].d)\n",
    "@constraint(\n",
    "    model,\n",
    "    [j in 1:J],\n",
    "    sum(data.pieces[i].w * x[i, j] for i in 1:I) <= data.W * y[j],\n",
    ");"
   ],
   "metadata": {},
   "execution_count": null
  },
  {
   "cell_type": "markdown",
   "source": [
    "Unfortunately, we can't solve this formulation for realistic instances because\n",
    "it takes a very long time to solve. (Try removing the time limit.)"
   ],
   "metadata": {}
  },
  {
   "outputs": [],
   "cell_type": "code",
   "source": [
    "set_time_limit_sec(model, 5.0)\n",
    "optimize!(model)\n",
    "solution_summary(model)"
   ],
   "metadata": {},
   "execution_count": null
  },
  {
   "cell_type": "markdown",
   "source": [
    "However, there is a formulation that solves much faster, and that is to use a\n",
    "column generation scheme."
   ],
   "metadata": {}
  },
  {
   "cell_type": "markdown",
   "source": [
    "## Column generation theory"
   ],
   "metadata": {}
  },
  {
   "cell_type": "markdown",
   "source": [
    "The key insight for column generation is to recognize that feasible columns\n",
    "in the $x$ matrix of variables encode _cutting patterns_."
   ],
   "metadata": {}
  },
  {
   "cell_type": "markdown",
   "source": [
    "For example, if we look only at the roll $j=1$, then a feasible solution is:\n",
    "\n",
    " * $x_{1,1} = 1$ (1 unit of piece \\#1)\n",
    " * $x_{13,1} = 1$ (1 unit of piece \\#13)\n",
    " * All other $x_{i,1} = 0$\n",
    "\n",
    "Another solution is\n",
    "\n",
    " * $x_{20,1} = 19$ (19 unit of piece \\#20)\n",
    " * All other $x_{i,1} = 0$\n",
    "\n",
    "Cutting patterns like $x_{1,1} = 1$ and $x_{2,1} = 1$ are infeasible\n",
    "because the combined length is greater than $W$."
   ],
   "metadata": {}
  },
  {
   "cell_type": "markdown",
   "source": [
    "Since there are a finite number of ways that we could cut a roll into a\n",
    "valid cutting pattern, we could create a set of all possible cutting patterns\n",
    "$p = 1,\\ldots,P$, with data $a_{i,p}$ indicating how many units of piece\n",
    "$i$ we cut in pattern $p$. Then, we can formulate our mixed-integer linear\n",
    "program as:\n",
    "$$\n",
    "\\begin{align}\n",
    "    \\min & \\sum\\limits_{p=1}^P x_p \\\\\n",
    "    \\;\\;\\text{s.t.} & \\sum\\limits_{p=1}^P a_{ip} x_p \\ge d_i & \\forall i=1,\\ldots,I \\\\\n",
    "         & x_{p} \\ge 0 & \\forall p=1,\\ldots,P \\\\\n",
    "         & x_{p} \\in \\mathbb{Z} & \\forall p=1,\\ldots,P\n",
    "\\end{align}\n",
    "$$\n",
    "\n",
    "Unfortunately, there will be a very large number of these patterns, so it is\n",
    "often intractable to enumerate all columns $p=1,\\ldots,P$.\n",
    "\n",
    "Column generation is an iterative algorithm that starts with a small set of\n",
    "initial patterns, and then cleverly chooses new columns to add to the main\n",
    "MILP so that we find the optimal solution without having to enumerate every\n",
    "column."
   ],
   "metadata": {}
  },
  {
   "cell_type": "markdown",
   "source": [
    "## Choosing the initial set of patterns"
   ],
   "metadata": {}
  },
  {
   "cell_type": "markdown",
   "source": [
    "For the initial set of patterns, we create a trivial cutting pattern which\n",
    "cuts as many units of piece $i$ as will fit."
   ],
   "metadata": {}
  },
  {
   "outputs": [],
   "cell_type": "code",
   "source": [
    "patterns = map(1:I) do i\n",
    "    n_pieces = floor(Int, data.W / data.pieces[i].w)\n",
    "    return SparseArrays.sparsevec([i], [n_pieces], I)\n",
    "end"
   ],
   "metadata": {},
   "execution_count": null
  },
  {
   "cell_type": "markdown",
   "source": [
    "We can visualize the patterns as follows:"
   ],
   "metadata": {}
  },
  {
   "outputs": [],
   "cell_type": "code",
   "source": [
    "\"\"\"\n",
    "    cutting_locations(data::Data, pattern::SparseArrays.SparseVector)\n",
    "\n",
    "A function which returns a vector of the locations along the roll at which to\n",
    "cut in order to produce pattern `pattern`.\n",
    "\"\"\"\n",
    "function cutting_locations(data::Data, pattern::SparseArrays.SparseVector)\n",
    "    locations = Float64[]\n",
    "    offset = 0.0\n",
    "    for (i, c) in zip(SparseArrays.findnz(pattern)...)\n",
    "        for _ in 1:c\n",
    "            offset += data.pieces[i].w\n",
    "            push!(locations, offset)\n",
    "        end\n",
    "    end\n",
    "    return locations\n",
    "end\n",
    "\n",
    "function plot_patterns(data::Data, patterns)\n",
    "    plot = Plots.bar(;\n",
    "        xlims = (0, length(patterns) + 1),\n",
    "        ylims = (0, data.W),\n",
    "        xlabel = \"Pattern\",\n",
    "        ylabel = \"Roll length\",\n",
    "    )\n",
    "    for (i, p) in enumerate(patterns)\n",
    "        locations = cutting_locations(data, p)\n",
    "        Plots.bar!(\n",
    "            plot,\n",
    "            fill(i, length(locations)),\n",
    "            reverse(locations);\n",
    "            bar_width = 0.6,\n",
    "            label = false,\n",
    "            color = \"#90caf9\",\n",
    "        )\n",
    "    end\n",
    "    return plot\n",
    "end\n",
    "\n",
    "plot_patterns(data, patterns)"
   ],
   "metadata": {},
   "execution_count": null
  },
  {
   "cell_type": "markdown",
   "source": [
    "## The base problem"
   ],
   "metadata": {}
  },
  {
   "cell_type": "markdown",
   "source": [
    "Using the initial set of patterns, we can create and optimize our base model:"
   ],
   "metadata": {}
  },
  {
   "outputs": [],
   "cell_type": "code",
   "source": [
    "model = Model(HiGHS.Optimizer)\n",
    "set_silent(model)\n",
    "@variable(model, x[1:length(patterns)] >= 0, Int)\n",
    "@objective(model, Min, sum(x))\n",
    "@constraint(model, demand[i in 1:I], patterns[i]' * x >= data.pieces[i].d)\n",
    "optimize!(model)\n",
    "solution_summary(model)"
   ],
   "metadata": {},
   "execution_count": null
  },
  {
   "cell_type": "markdown",
   "source": [
    "This solution requires 421 rolls. This solution is sub-optimal because the\n",
    "model does not contain the full set of possible patterns."
   ],
   "metadata": {}
  },
  {
   "cell_type": "markdown",
   "source": [
    "How do we find a new column that leads to an improved solution?"
   ],
   "metadata": {}
  },
  {
   "cell_type": "markdown",
   "source": [
    "## Choosing new columns"
   ],
   "metadata": {}
  },
  {
   "cell_type": "markdown",
   "source": [
    "Column generation chooses a new column by relaxing the integrality constraint\n",
    "on $x$ and looking at the dual variable $\\pi_i$ associated with demand\n",
    "constraint $i$."
   ],
   "metadata": {}
  },
  {
   "cell_type": "markdown",
   "source": [
    "For example, the dual of `demand[13]` is:"
   ],
   "metadata": {}
  },
  {
   "outputs": [],
   "cell_type": "code",
   "source": [
    "unset_integer.(x)\n",
    "optimize!(model)\n",
    "π_13 = dual(demand[13])"
   ],
   "metadata": {},
   "execution_count": null
  },
  {
   "cell_type": "markdown",
   "source": [
    "Using the economic interpretation of the dual variable, we can say that a one\n",
    "unit increase in demand for piece $i$ will cost an extra $\\pi_i$ rolls.\n",
    "Alternatively, we can say that a one unit increase in the left-hand side\n",
    "(for example, due to a new cutting pattern) will _save_ us $\\pi_i$ rolls.\n",
    "Therefore, we want a new column that maximizes the savings associated with\n",
    "the dual variables, while respecting the total width of the roll:\n",
    "$$\n",
    "\\begin{align}\n",
    "    \\max & \\sum\\limits_{i=1}^I \\pi_i y_i \\\\\n",
    "    \\;\\;\\text{s.t.} & \\sum\\limits_{i=1}^I w_i y_{i} \\le W \\\\\n",
    "         & y_{i} \\ge 0 & \\forall i=1,\\ldots,I \\\\\n",
    "         & y_{i} \\in \\mathbb{Z} & \\forall i=1,\\ldots,I \\\\\n",
    "\\end{align}\n",
    "$$\n",
    "If this problem, called the _pricing problem_, has an objective value greater\n",
    "than $1$, then we estimate than adding `y` as the coefficients of a new\n",
    "column will decrease the objective by more than the cost of an extra roll."
   ],
   "metadata": {}
  },
  {
   "cell_type": "markdown",
   "source": [
    "Here is code to solve the pricing problem:"
   ],
   "metadata": {}
  },
  {
   "outputs": [],
   "cell_type": "code",
   "source": [
    "function solve_pricing(data::Data, π::Vector{Float64})\n",
    "    I = length(π)\n",
    "    model = Model(HiGHS.Optimizer)\n",
    "    set_silent(model)\n",
    "    @variable(model, y[1:I] >= 0, Int)\n",
    "    @constraint(model, sum(data.pieces[i].w * y[i] for i in 1:I) <= data.W)\n",
    "    @objective(model, Max, sum(π[i] * y[i] for i in 1:I))\n",
    "    optimize!(model)\n",
    "    number_of_rolls_saved = objective_value(model)\n",
    "    if number_of_rolls_saved > 1 + 1e-8\n",
    "        # Benefit of pattern is more than the cost of a new roll plus some\n",
    "        # tolerance\n",
    "        return SparseArrays.sparse(round.(Int, value.(y)))\n",
    "    end\n",
    "    return nothing\n",
    "end"
   ],
   "metadata": {},
   "execution_count": null
  },
  {
   "cell_type": "markdown",
   "source": [
    "If we solve the pricing problem with an artificial dual vector:"
   ],
   "metadata": {}
  },
  {
   "outputs": [],
   "cell_type": "code",
   "source": [
    "solve_pricing(data, [1.0 / i for i in 1:I])"
   ],
   "metadata": {},
   "execution_count": null
  },
  {
   "cell_type": "markdown",
   "source": [
    "the solution is a roll with 1 unit of piece \\#1, 1 unit of piece \\#17, and 3\n",
    "units of piece \\#20."
   ],
   "metadata": {}
  },
  {
   "cell_type": "markdown",
   "source": [
    "If we solve the pricing problem with a dual vector of zeros, then the benefit\n",
    "of the new pattern is less than the cost of a roll, and so the function\n",
    "returns `nothing`:"
   ],
   "metadata": {}
  },
  {
   "outputs": [],
   "cell_type": "code",
   "source": [
    "solve_pricing(data, zeros(I))"
   ],
   "metadata": {},
   "execution_count": null
  },
  {
   "cell_type": "markdown",
   "source": [
    "## Iterative algorithm"
   ],
   "metadata": {}
  },
  {
   "cell_type": "markdown",
   "source": [
    "Now we can combine our base model with the pricing subproblem in an iterative\n",
    "column generation scheme:"
   ],
   "metadata": {}
  },
  {
   "outputs": [],
   "cell_type": "code",
   "source": [
    "while true\n",
    "    # Solve the linear relaxation\n",
    "    optimize!(model)\n",
    "    # Obtain a new dual vector\n",
    "    π = dual.(demand)\n",
    "    # Solve the pricing problem\n",
    "    new_pattern = solve_pricing(data, π)\n",
    "    # Stop iterating if there is no new pattern\n",
    "    if new_pattern === nothing\n",
    "        @info \"No new patterns, terminating the algorithm.\"\n",
    "        break\n",
    "    end\n",
    "    push!(patterns, new_pattern)\n",
    "    # Create a new column\n",
    "    push!(x, @variable(model, lower_bound = 0))\n",
    "    # Update the objective coefficient of the new column\n",
    "    set_objective_coefficient(model, x[end], 1.0)\n",
    "    # Update the non-zeros in the coefficient matrix\n",
    "    for (i, count) in zip(SparseArrays.findnz(new_pattern)...)\n",
    "        set_normalized_coefficient(demand[i], x[end], count)\n",
    "    end\n",
    "    println(\"Found new pattern. Total patterns = $(length(patterns))\")\n",
    "end"
   ],
   "metadata": {},
   "execution_count": null
  },
  {
   "cell_type": "markdown",
   "source": [
    "We found lots of new patterns. Here's pattern 21:"
   ],
   "metadata": {}
  },
  {
   "outputs": [],
   "cell_type": "code",
   "source": [
    "patterns[21]"
   ],
   "metadata": {},
   "execution_count": null
  },
  {
   "cell_type": "markdown",
   "source": [
    "Let's have a look at the patterns now:"
   ],
   "metadata": {}
  },
  {
   "outputs": [],
   "cell_type": "code",
   "source": [
    "plot_patterns(data, patterns)"
   ],
   "metadata": {},
   "execution_count": null
  },
  {
   "cell_type": "markdown",
   "source": [
    "## Looking at the solution"
   ],
   "metadata": {}
  },
  {
   "cell_type": "markdown",
   "source": [
    "Let's see how many of each column we need:"
   ],
   "metadata": {}
  },
  {
   "outputs": [],
   "cell_type": "code",
   "source": [
    "solution = DataFrames.DataFrame([\n",
    "    (pattern = p, rolls = value(x_p)) for (p, x_p) in enumerate(x)\n",
    "])\n",
    "filter!(row -> row.rolls > 0, solution)"
   ],
   "metadata": {},
   "execution_count": null
  },
  {
   "cell_type": "markdown",
   "source": [
    "Since we solved a linear program, some of our columns have fractional\n",
    "solutions. We can create a integer feasible solution by rounding up the\n",
    "orders. This requires 341 rolls:"
   ],
   "metadata": {}
  },
  {
   "outputs": [],
   "cell_type": "code",
   "source": [
    "sum(ceil.(Int, solution.rolls))"
   ],
   "metadata": {},
   "execution_count": null
  },
  {
   "cell_type": "markdown",
   "source": [
    "Alternatively, we can re-introduce the integrality constraints and resolve the\n",
    "problem:"
   ],
   "metadata": {}
  },
  {
   "outputs": [],
   "cell_type": "code",
   "source": [
    "set_integer.(x)\n",
    "optimize!(model)\n",
    "solution = DataFrames.DataFrame([\n",
    "    (pattern = p, rolls = value(x_p)) for (p, x_p) in enumerate(x)\n",
    "])\n",
    "filter!(row -> row.rolls > 0, solution)"
   ],
   "metadata": {},
   "execution_count": null
  },
  {
   "cell_type": "markdown",
   "source": [
    "This now requires 334 rolls:"
   ],
   "metadata": {}
  },
  {
   "outputs": [],
   "cell_type": "code",
   "source": [
    "sum(solution.rolls)"
   ],
   "metadata": {},
   "execution_count": null
  },
  {
   "cell_type": "markdown",
   "source": [
    "Note that this may not be the global minimum because we are not adding new\n",
    "columns during the solution of the mixed-integer problem `model` (an algorithm\n",
    "known as [branch and price](https://en.wikipedia.org/wiki/Branch_and_price)).\n",
    "Nevertheless, the column generation algorithm typically finds good integer\n",
    "feasible solutions to an otherwise intractable optimization problem."
   ],
   "metadata": {}
  },
  {
   "cell_type": "markdown",
   "source": [
    "## Next steps"
   ],
   "metadata": {}
  },
  {
   "cell_type": "markdown",
   "source": [
    "* Our objective function is to minimize the total number of rolls. What is the\n",
    "  total length of waste? How does that compare to the total demand?\n",
    "* Writing the optimization algorithm is only part of the challenge. Can you\n",
    "  develop a better way to communicate the solution to stakeholders?"
   ],
   "metadata": {}
  },
  {
   "cell_type": "markdown",
   "source": [
    "# Design patterns for larger models"
   ],
   "metadata": {}
  },
  {
   "cell_type": "markdown",
   "source": [
    "JuMP makes it easy to build and solve optimization models. However, once you\n",
    "start to construct larger models, and especially ones that interact with\n",
    "external data sources or have customizable sets of variables and constraints\n",
    "based on client choices, you may find that your scripts become unwieldy. This\n",
    "tutorial demonstrates a variety of ways in which you can structure larger JuMP\n",
    "models to improve their readability and maintainability."
   ],
   "metadata": {}
  },
  {
   "cell_type": "markdown",
   "source": [
    "**Tip**\n",
    "    This tutorial is more advanced than the other \"Getting started\" tutorials.\n",
    "    It's in the \"Getting started\" section to give you an early preview of how\n",
    "    JuMP makes it easy to structure larger models. However, if you are new to\n",
    "    JuMP you may want to briefly skim the tutorial, and come back to it once\n",
    "    you have written a few JuMP models."
   ],
   "metadata": {}
  },
  {
   "cell_type": "markdown",
   "source": [
    "## Overview"
   ],
   "metadata": {}
  },
  {
   "cell_type": "markdown",
   "source": [
    "This tutorial uses explanation-by-example. We're going to start with a simple\n",
    "[knapsack model](https://en.wikipedia.org/wiki/Knapsack_problem), and then\n",
    "expand it to add various features and structure."
   ],
   "metadata": {}
  },
  {
   "cell_type": "markdown",
   "source": [
    "## A simple script"
   ],
   "metadata": {}
  },
  {
   "cell_type": "markdown",
   "source": [
    "Your first prototype of a JuMP model is probably a script that uses a small\n",
    "set of hard-coded data."
   ],
   "metadata": {}
  },
  {
   "outputs": [],
   "cell_type": "code",
   "source": [
    "using JuMP, HiGHS\n",
    "profit = [5, 3, 2, 7, 4]\n",
    "weight = [2, 8, 4, 2, 5]\n",
    "capacity = 10\n",
    "N = 5\n",
    "model = Model(HiGHS.Optimizer)\n",
    "@variable(model, x[1:N], Bin)\n",
    "@objective(model, Max, sum(profit[i] * x[i] for i in 1:N))\n",
    "@constraint(model, sum(weight[i] * x[i] for i in 1:N) <= capacity)\n",
    "optimize!(model)\n",
    "value.(x)"
   ],
   "metadata": {},
   "execution_count": null
  },
  {
   "cell_type": "markdown",
   "source": [
    "The benefits of this approach are:\n",
    " * it is quick to code\n",
    " * it is quick to make changes."
   ],
   "metadata": {}
  },
  {
   "cell_type": "markdown",
   "source": [
    "The downsides include:\n",
    " * all variables are global (read [Performance tips](https://docs.julialang.org/en/v1/manual/performance-tips/))\n",
    " * it is easy to introduce errors, for example, having `profit` and `weight` be\n",
    "   vectors of different lengths, or not match `N`\n",
    " * the solution, `x[i]`, is hard to interpret without knowing the order in\n",
    "   which we provided the data."
   ],
   "metadata": {}
  },
  {
   "cell_type": "markdown",
   "source": [
    "## Wrap the model in a function"
   ],
   "metadata": {}
  },
  {
   "cell_type": "markdown",
   "source": [
    "A good next step is to wrap your model in a function. This is useful for a few\n",
    "reasons:\n",
    " * it removes global variables\n",
    " * it encapsulates the JuMP model and forces you to clarify your inputs and\n",
    "   outputs\n",
    " * we can add some error checking."
   ],
   "metadata": {}
  },
  {
   "outputs": [],
   "cell_type": "code",
   "source": [
    "function solve_knapsack_1(profit::Vector, weight::Vector, capacity::Real)\n",
    "    if length(profit) != length(weight)\n",
    "        throw(DimensionMismatch(\"profit and weight are different sizes\"))\n",
    "    end\n",
    "    N = length(weight)\n",
    "    model = Model(HiGHS.Optimizer)\n",
    "    @variable(model, x[1:N], Bin)\n",
    "    @objective(model, Max, sum(profit[i] * x[i] for i in 1:N))\n",
    "    @constraint(model, sum(weight[i] * x[i] for i in 1:N) <= capacity)\n",
    "    optimize!(model)\n",
    "    return value.(x)\n",
    "end\n",
    "\n",
    "solve_knapsack_1([5, 3, 2, 7, 4], [2, 8, 4, 2, 5], 10)"
   ],
   "metadata": {},
   "execution_count": null
  },
  {
   "cell_type": "markdown",
   "source": [
    "## Create better data structures"
   ],
   "metadata": {}
  },
  {
   "cell_type": "markdown",
   "source": [
    "Although we can check for errors like mis-matched vector lengths, if you start\n",
    "to develop models with a lot of data, keeping track of vectors and lengths and\n",
    "indices is fragile and a common source of bugs. A good solution is to use\n",
    "Julia's type system to create an abstraction over your data."
   ],
   "metadata": {}
  },
  {
   "cell_type": "markdown",
   "source": [
    "For example, we can create a `struct` that represents a single object, with a\n",
    "constructor that lets us validate assumptions on the input data:"
   ],
   "metadata": {}
  },
  {
   "outputs": [],
   "cell_type": "code",
   "source": [
    "struct KnapsackObject\n",
    "    profit::Float64\n",
    "    weight::Float64\n",
    "    function KnapsackObject(profit::Float64, weight::Float64)\n",
    "        if weight < 0\n",
    "            throw(DomainError(\"Weight of object cannot be negative\"))\n",
    "        end\n",
    "        return new(profit, weight)\n",
    "    end\n",
    "end"
   ],
   "metadata": {},
   "execution_count": null
  },
  {
   "cell_type": "markdown",
   "source": [
    "as well as a `struct` that holds a dictionary of objects and the knapsack's\n",
    "capacity:"
   ],
   "metadata": {}
  },
  {
   "outputs": [],
   "cell_type": "code",
   "source": [
    "struct KnapsackData\n",
    "    objects::Dict{String,KnapsackObject}\n",
    "    capacity::Float64\n",
    "end"
   ],
   "metadata": {},
   "execution_count": null
  },
  {
   "cell_type": "markdown",
   "source": [
    "Here's what our data might look like now:"
   ],
   "metadata": {}
  },
  {
   "outputs": [],
   "cell_type": "code",
   "source": [
    "objects = Dict(\n",
    "    \"apple\" => KnapsackObject(5.0, 2.0),\n",
    "    \"banana\" => KnapsackObject(3.0, 8.0),\n",
    "    \"cherry\" => KnapsackObject(2.0, 4.0),\n",
    "    \"date\" => KnapsackObject(7.0, 2.0),\n",
    "    \"eggplant\" => KnapsackObject(4.0, 5.0),\n",
    ")\n",
    "data = KnapsackData(objects, 10.0)"
   ],
   "metadata": {},
   "execution_count": null
  },
  {
   "cell_type": "markdown",
   "source": [
    "If you want, you can add custom printing to make it easier to visualize:"
   ],
   "metadata": {}
  },
  {
   "outputs": [],
   "cell_type": "code",
   "source": [
    "function Base.show(io::IO, data::KnapsackData)\n",
    "    println(io, \"A knapsack with capacity $(data.capacity) and possible items:\")\n",
    "    for (k, v) in data.objects\n",
    "        println(\n",
    "            io,\n",
    "            \"  $(rpad(k, 8)) : profit = $(v.profit), weight = $(v.weight)\",\n",
    "        )\n",
    "    end\n",
    "    return\n",
    "end\n",
    "\n",
    "data"
   ],
   "metadata": {},
   "execution_count": null
  },
  {
   "cell_type": "markdown",
   "source": [
    "Then, we can re-write our `solve_knapsack` function to take our `KnapsackData`\n",
    "as input:"
   ],
   "metadata": {}
  },
  {
   "outputs": [],
   "cell_type": "code",
   "source": [
    "function solve_knapsack_2(data::KnapsackData)\n",
    "    model = Model(HiGHS.Optimizer)\n",
    "    @variable(model, x[keys(data.objects)], Bin)\n",
    "    @objective(model, Max, sum(v.profit * x[k] for (k, v) in data.objects))\n",
    "    @constraint(\n",
    "        model,\n",
    "        sum(v.weight * x[k] for (k, v) in data.objects) <= data.capacity,\n",
    "    )\n",
    "    optimize!(model)\n",
    "    return value.(x)\n",
    "end\n",
    "\n",
    "solve_knapsack_2(data)"
   ],
   "metadata": {},
   "execution_count": null
  },
  {
   "cell_type": "markdown",
   "source": [
    "## Read in data from files"
   ],
   "metadata": {}
  },
  {
   "cell_type": "markdown",
   "source": [
    "Having a data structure is a good step. But it is still annoying that we have\n",
    "to hard-code the data into Julia. A good next step is to separate the data\n",
    "into an external file format; JSON is a common choice."
   ],
   "metadata": {}
  },
  {
   "outputs": [],
   "cell_type": "code",
   "source": [
    "json_data = \"\"\"\n",
    "{\n",
    "    \"objects\": {\n",
    "        \"apple\": {\"profit\": 5.0, \"weight\": 2.0},\n",
    "        \"banana\": {\"profit\": 3.0, \"weight\": 8.0},\n",
    "        \"cherry\": {\"profit\": 2.0, \"weight\": 4.0},\n",
    "        \"date\": {\"profit\": 7.0, \"weight\": 2.0},\n",
    "        \"eggplant\": {\"profit\": 4.0, \"weight\": 5.0}\n",
    "    },\n",
    "    \"capacity\": 10.0\n",
    "}\n",
    "\"\"\"\n",
    "temp_dir = mktempdir()\n",
    "knapsack_json_filename = joinpath(temp_dir, \"knapsack.json\")\n",
    "# Instead of writing a new file here you could replace `knapsack_json_filename`\n",
    "# with the path to a local file.\n",
    "write(knapsack_json_filename, json_data);"
   ],
   "metadata": {},
   "execution_count": null
  },
  {
   "cell_type": "markdown",
   "source": [
    "Now let's write a function that reads this file and builds a `KnapsackData`\n",
    "object:"
   ],
   "metadata": {}
  },
  {
   "outputs": [],
   "cell_type": "code",
   "source": [
    "import JSON\n",
    "\n",
    "function read_data(filename)\n",
    "    d = JSON.parsefile(filename)\n",
    "    return KnapsackData(\n",
    "        Dict(\n",
    "            k => KnapsackObject(v[\"profit\"], v[\"weight\"]) for\n",
    "            (k, v) in d[\"objects\"]\n",
    "        ),\n",
    "        d[\"capacity\"],\n",
    "    )\n",
    "end\n",
    "\n",
    "data = read_data(knapsack_json_filename)"
   ],
   "metadata": {},
   "execution_count": null
  },
  {
   "cell_type": "markdown",
   "source": [
    "## Add options via if-else"
   ],
   "metadata": {}
  },
  {
   "cell_type": "markdown",
   "source": [
    "At this point, we have data in a file format which we can load and solve a\n",
    "single problem. For many users, this might be sufficient. However, at some\n",
    "point you may be asked to add features like \"but what if we want to take more\n",
    "than one of a particular item?\""
   ],
   "metadata": {}
  },
  {
   "cell_type": "markdown",
   "source": [
    "If this is the first time that you've been asked to add a feature, adding\n",
    "options via `if-else` statements is a good approach. For example, we might\n",
    "write:"
   ],
   "metadata": {}
  },
  {
   "outputs": [],
   "cell_type": "code",
   "source": [
    "function solve_knapsack_3(data::KnapsackData; binary_knapsack::Bool)\n",
    "    model = Model(HiGHS.Optimizer)\n",
    "    if binary_knapsack\n",
    "        @variable(model, x[keys(data.objects)], Bin)\n",
    "    else\n",
    "        @variable(model, x[keys(data.objects)] >= 0, Int)\n",
    "    end\n",
    "    @objective(model, Max, sum(v.profit * x[k] for (k, v) in data.objects))\n",
    "    @constraint(\n",
    "        model,\n",
    "        sum(v.weight * x[k] for (k, v) in data.objects) <= data.capacity,\n",
    "    )\n",
    "    optimize!(model)\n",
    "    return value.(x)\n",
    "end"
   ],
   "metadata": {},
   "execution_count": null
  },
  {
   "cell_type": "markdown",
   "source": [
    "Now we can solve the binary knapsack:"
   ],
   "metadata": {}
  },
  {
   "outputs": [],
   "cell_type": "code",
   "source": [
    "solve_knapsack_3(data; binary_knapsack = true)"
   ],
   "metadata": {},
   "execution_count": null
  },
  {
   "cell_type": "markdown",
   "source": [
    "And an integer knapsack where we can take more than one copy of each item:"
   ],
   "metadata": {}
  },
  {
   "outputs": [],
   "cell_type": "code",
   "source": [
    "solve_knapsack_3(data; binary_knapsack = false)"
   ],
   "metadata": {},
   "execution_count": null
  },
  {
   "cell_type": "markdown",
   "source": [
    "## Add configuration options via dispatch"
   ],
   "metadata": {}
  },
  {
   "cell_type": "markdown",
   "source": [
    "If you get repeated requests to add different options, you'll quickly find\n",
    "yourself in a mess of different flags and `if-else` statements. It's hard to\n",
    "write, hard to read, and hard to ensure you haven't introduced any bugs.\n",
    "A good solution is to use Julia's type dispatch to control the configuration\n",
    "of the model. The easiest way to explain this is by example."
   ],
   "metadata": {}
  },
  {
   "cell_type": "markdown",
   "source": [
    "First, start by defining a new abstract type, as well as new subtypes for each\n",
    "of our options. These types are going to control the configuration of the\n",
    "knapsack model."
   ],
   "metadata": {}
  },
  {
   "outputs": [],
   "cell_type": "code",
   "source": [
    "abstract type AbstractConfiguration end\n",
    "\n",
    "struct BinaryKnapsackConfig <: AbstractConfiguration end\n",
    "\n",
    "struct IntegerKnapsackConfig <: AbstractConfiguration end"
   ],
   "metadata": {},
   "execution_count": null
  },
  {
   "cell_type": "markdown",
   "source": [
    "Then, we rewrite our `solve_knapsack` function to take a `config` argument,\n",
    "and we introduce an `add_knapsack_variables` function to abstract the creation\n",
    "of our variables."
   ],
   "metadata": {}
  },
  {
   "outputs": [],
   "cell_type": "code",
   "source": [
    "function solve_knapsack_4(data::KnapsackData, config::AbstractConfiguration)\n",
    "    model = Model(HiGHS.Optimizer)\n",
    "    x = add_knapsack_variables(model, data, config)\n",
    "    @objective(model, Max, sum(v.profit * x[k] for (k, v) in data.objects))\n",
    "    @constraint(\n",
    "        model,\n",
    "        sum(v.weight * x[k] for (k, v) in data.objects) <= data.capacity,\n",
    "    )\n",
    "    optimize!(model)\n",
    "    return value.(x)\n",
    "end"
   ],
   "metadata": {},
   "execution_count": null
  },
  {
   "cell_type": "markdown",
   "source": [
    "For the binary knapsack problem, `add_knapsack_variables` looks like this:"
   ],
   "metadata": {}
  },
  {
   "outputs": [],
   "cell_type": "code",
   "source": [
    "function add_knapsack_variables(\n",
    "    model::Model,\n",
    "    data::KnapsackData,\n",
    "    ::BinaryKnapsackConfig,\n",
    ")\n",
    "    return @variable(model, x[keys(data.objects)], Bin)\n",
    "end"
   ],
   "metadata": {},
   "execution_count": null
  },
  {
   "cell_type": "markdown",
   "source": [
    "For the integer knapsack problem, `add_knapsack_variables` looks like this:"
   ],
   "metadata": {}
  },
  {
   "outputs": [],
   "cell_type": "code",
   "source": [
    "function add_knapsack_variables(\n",
    "    model::Model,\n",
    "    data::KnapsackData,\n",
    "    ::IntegerKnapsackConfig,\n",
    ")\n",
    "    return @variable(model, x[keys(data.objects)] >= 0, Int)\n",
    "end"
   ],
   "metadata": {},
   "execution_count": null
  },
  {
   "cell_type": "markdown",
   "source": [
    "Now we can solve the binary knapsack:"
   ],
   "metadata": {}
  },
  {
   "outputs": [],
   "cell_type": "code",
   "source": [
    "solve_knapsack_4(data, BinaryKnapsackConfig())"
   ],
   "metadata": {},
   "execution_count": null
  },
  {
   "cell_type": "markdown",
   "source": [
    "and the integer knapsack problem:"
   ],
   "metadata": {}
  },
  {
   "outputs": [],
   "cell_type": "code",
   "source": [
    "solve_knapsack_4(data, IntegerKnapsackConfig())"
   ],
   "metadata": {},
   "execution_count": null
  },
  {
   "cell_type": "markdown",
   "source": [
    "The main benefit of the dispatch approach is that you can quickly add new\n",
    "options without needing to modify the existing code. For example:"
   ],
   "metadata": {}
  },
  {
   "outputs": [],
   "cell_type": "code",
   "source": [
    "struct UpperBoundedKnapsackConfig <: AbstractConfiguration\n",
    "    limit::Int\n",
    "end\n",
    "\n",
    "function add_knapsack_variables(\n",
    "    model::Model,\n",
    "    data::KnapsackData,\n",
    "    config::UpperBoundedKnapsackConfig,\n",
    ")\n",
    "    return @variable(model, 0 <= x[keys(data.objects)] <= config.limit, Int)\n",
    "end\n",
    "\n",
    "solve_knapsack_4(data, UpperBoundedKnapsackConfig(3))"
   ],
   "metadata": {},
   "execution_count": null
  },
  {
   "cell_type": "markdown",
   "source": [
    "## Generalize constraints and objectives"
   ],
   "metadata": {}
  },
  {
   "cell_type": "markdown",
   "source": [
    "It's easy to extend the dispatch approach to constraints and objectives as\n",
    "well. The key points to notice in the next two functions are that:\n",
    " * we can access registered variables via `model[:x]`\n",
    " * we can define generic functions which accept any `AbstractConfiguration` as a\n",
    "   configuration argument. That means we can implement a single method and\n",
    "   have it apply to multiple configuration types."
   ],
   "metadata": {}
  },
  {
   "outputs": [],
   "cell_type": "code",
   "source": [
    "function add_knapsack_constraints(\n",
    "    model::Model,\n",
    "    data::KnapsackData,\n",
    "    ::AbstractConfiguration,\n",
    ")\n",
    "    x = model[:x]\n",
    "    @constraint(\n",
    "        model,\n",
    "        capacity_constraint,\n",
    "        sum(v.weight * x[k] for (k, v) in data.objects) <= data.capacity,\n",
    "    )\n",
    "    return\n",
    "end\n",
    "\n",
    "function add_knapsack_objective(\n",
    "    model::Model,\n",
    "    data::KnapsackData,\n",
    "    ::AbstractConfiguration,\n",
    ")\n",
    "    x = model[:x]\n",
    "    @objective(model, Max, sum(v.profit * x[k] for (k, v) in data.objects))\n",
    "    return\n",
    "end\n",
    "\n",
    "function solve_knapsack_5(data::KnapsackData, config::AbstractConfiguration)\n",
    "    model = Model(HiGHS.Optimizer)\n",
    "    add_knapsack_variables(model, data, config)\n",
    "    add_knapsack_constraints(model, data, config)\n",
    "    add_knapsack_objective(model, data, config)\n",
    "    optimize!(model)\n",
    "    return value.(model[:x])\n",
    "end\n",
    "\n",
    "solve_knapsack_5(data, BinaryKnapsackConfig())"
   ],
   "metadata": {},
   "execution_count": null
  },
  {
   "cell_type": "markdown",
   "source": [
    "## Remove solver dependence, add error checks"
   ],
   "metadata": {}
  },
  {
   "cell_type": "markdown",
   "source": [
    "Compared to where we started, our knapsack model is now significantly\n",
    "different. We've wrapped it in a function, defined some data types, and\n",
    "introduced configuration options to control the variables and constraints that\n",
    "get added. There are a few other steps we can do to further improve things:\n",
    " * remove the dependence on `HiGHS`\n",
    " * add checks that we found an optimal solution\n",
    " * add a helper function to avoid the need to explicitly construct the data."
   ],
   "metadata": {}
  },
  {
   "outputs": [],
   "cell_type": "code",
   "source": [
    "function solve_knapsack_6(\n",
    "    optimizer,\n",
    "    data::KnapsackData,\n",
    "    config::AbstractConfiguration,\n",
    ")\n",
    "    model = Model(optimizer)\n",
    "    add_knapsack_variables(model, data, config)\n",
    "    add_knapsack_constraints(model, data, config)\n",
    "    add_knapsack_objective(model, data, config)\n",
    "    optimize!(model)\n",
    "    if termination_status(model) != OPTIMAL\n",
    "        @warn(\"Model not solved to optimality\")\n",
    "        return nothing\n",
    "    end\n",
    "    return value.(model[:x])\n",
    "end\n",
    "\n",
    "function solve_knapsack_6(\n",
    "    optimizer,\n",
    "    data::String,\n",
    "    config::AbstractConfiguration,\n",
    ")\n",
    "    return solve_knapsack_6(optimizer, read_data(data), config)\n",
    "end\n",
    "\n",
    "solution = solve_knapsack_6(\n",
    "    HiGHS.Optimizer,\n",
    "    knapsack_json_filename,\n",
    "    BinaryKnapsackConfig(),\n",
    ")"
   ],
   "metadata": {},
   "execution_count": null
  },
  {
   "cell_type": "markdown",
   "source": [
    "## Create a module"
   ],
   "metadata": {}
  },
  {
   "cell_type": "markdown",
   "source": [
    "Now we're ready to expose our model to the wider world. That might be as part\n",
    "of a larger Julia project that we're contributing to, or as a stand-alone\n",
    "script that we can run on-demand. In either case, it's good practice to wrap\n",
    "everything in a module. This further encapsulates our code into a single\n",
    "namespace, and we can add documentation in the form of\n",
    "[docstrings](https://docs.julialang.org/en/v1/manual/documentation/)."
   ],
   "metadata": {}
  },
  {
   "cell_type": "markdown",
   "source": [
    "Some good rules to follow when creating a module are:\n",
    "* use `import` in a module instead of `using` to make it clear which functions\n",
    "  are from which packages\n",
    "* use `_` to start function and type names that are considered private\n",
    "* add docstrings to all public variables and functions."
   ],
   "metadata": {}
  },
  {
   "outputs": [],
   "cell_type": "code",
   "source": [
    "module KnapsackModel\n",
    "\n",
    "import JuMP\n",
    "import JSON\n",
    "\n",
    "struct _KnapsackObject\n",
    "    profit::Float64\n",
    "    weight::Float64\n",
    "    function _KnapsackObject(profit::Float64, weight::Float64)\n",
    "        if weight < 0\n",
    "            throw(DomainError(\"Weight of object cannot be negative\"))\n",
    "        end\n",
    "        return new(profit, weight)\n",
    "    end\n",
    "end\n",
    "\n",
    "struct _KnapsackData\n",
    "    objects::Dict{String,_KnapsackObject}\n",
    "    capacity::Float64\n",
    "end\n",
    "\n",
    "function _read_data(filename)\n",
    "    d = JSON.parsefile(filename)\n",
    "    return _KnapsackData(\n",
    "        Dict(\n",
    "            k => _KnapsackObject(v[\"profit\"], v[\"weight\"]) for\n",
    "            (k, v) in d[\"objects\"]\n",
    "        ),\n",
    "        d[\"capacity\"],\n",
    "    )\n",
    "end\n",
    "\n",
    "abstract type _AbstractConfiguration end\n",
    "\n",
    "\"\"\"\n",
    "    BinaryKnapsackConfig()\n",
    "\n",
    "Create a binary knapsack problem where each object can be taken 0 or 1 times.\n",
    "\"\"\"\n",
    "struct BinaryKnapsackConfig <: _AbstractConfiguration end\n",
    "\n",
    "\"\"\"\n",
    "    IntegerKnapsackConfig()\n",
    "\n",
    "Create an integer knapsack problem where each object can be taken any number of\n",
    "times.\n",
    "\"\"\"\n",
    "struct IntegerKnapsackConfig <: _AbstractConfiguration end\n",
    "\n",
    "function _add_knapsack_variables(\n",
    "    model::JuMP.Model,\n",
    "    data::_KnapsackData,\n",
    "    ::BinaryKnapsackConfig,\n",
    ")\n",
    "    return JuMP.@variable(model, x[keys(data.objects)], Bin)\n",
    "end\n",
    "\n",
    "function _add_knapsack_variables(\n",
    "    model::JuMP.Model,\n",
    "    data::_KnapsackData,\n",
    "    ::IntegerKnapsackConfig,\n",
    ")\n",
    "    return JuMP.@variable(model, x[keys(data.objects)] >= 0, Int)\n",
    "end\n",
    "\n",
    "function _add_knapsack_constraints(\n",
    "    model::JuMP.Model,\n",
    "    data::_KnapsackData,\n",
    "    ::_AbstractConfiguration,\n",
    ")\n",
    "    x = model[:x]\n",
    "    JuMP.@constraint(\n",
    "        model,\n",
    "        capacity_constraint,\n",
    "        sum(v.weight * x[k] for (k, v) in data.objects) <= data.capacity,\n",
    "    )\n",
    "    return\n",
    "end\n",
    "\n",
    "function _add_knapsack_objective(\n",
    "    model::JuMP.Model,\n",
    "    data::_KnapsackData,\n",
    "    ::_AbstractConfiguration,\n",
    ")\n",
    "    x = model[:x]\n",
    "    JuMP.@objective(model, Max, sum(v.profit * x[k] for (k, v) in data.objects))\n",
    "    return\n",
    "end\n",
    "\n",
    "function _solve_knapsack(\n",
    "    optimizer,\n",
    "    data::_KnapsackData,\n",
    "    config::_AbstractConfiguration,\n",
    ")\n",
    "    model = JuMP.Model(optimizer)\n",
    "    _add_knapsack_variables(model, data, config)\n",
    "    _add_knapsack_constraints(model, data, config)\n",
    "    _add_knapsack_objective(model, data, config)\n",
    "    JuMP.optimize!(model)\n",
    "    if JuMP.termination_status(model) != JuMP.OPTIMAL\n",
    "        @warn(\"Model not solved to optimality\")\n",
    "        return nothing\n",
    "    end\n",
    "    return JuMP.value.(model[:x])\n",
    "end\n",
    "\n",
    "\"\"\"\n",
    "    solve_knapsack(\n",
    "        optimizer,\n",
    "        knapsack_json_filename::String,\n",
    "        config::_AbstractConfiguration,\n",
    "    )\n",
    "\n",
    "Solve the knapsack problem and return the optimal primal solution\n",
    "\n",
    "# Arguments\n",
    "\n",
    " * `optimizer` : an object that can be passed to `JuMP.Model` to construct a new\n",
    "   JuMP model.\n",
    " * `knapsack_json_filename` : the filename of a JSON file containing the data for the\n",
    "   problem.\n",
    " * `config` : an object to control the type of knapsack model constructed.\n",
    "   Valid options are:\n",
    "    * `BinaryKnapsackConfig()`\n",
    "    * `IntegerKnapsackConfig()`\n",
    "\n",
    "# Returns\n",
    "\n",
    " * If an optimal solution exists: a `JuMP.DenseAxisArray` that maps the `String`\n",
    "   name of each object to the number of objects to pack into the knapsack.\n",
    " * Otherwise, `nothing`, indicating that the problem does not have an optimal\n",
    "   solution.\n",
    "\n",
    "# Examples\n",
    "\n",
    "```julia\n",
    "solution = solve_knapsack(\n",
    "    HiGHS.Optimizer,\n",
    "    \"path/to/data.json\",\n",
    "    BinaryKnapsackConfig(),\n",
    ")\n",
    "```\n",
    "\n",
    "```julia\n",
    "solution = solve_knapsack(\n",
    "    MOI.OptimizerWithAttributes(HiGHS.Optimizer, \"output_flag\" => false),\n",
    "    \"path/to/data.json\",\n",
    "    IntegerKnapsackConfig(),\n",
    ")\n",
    "```\n",
    "\"\"\"\n",
    "function solve_knapsack(\n",
    "    optimizer,\n",
    "    knapsack_json_filename::String,\n",
    "    config::_AbstractConfiguration,\n",
    ")\n",
    "    data = _read_data(knapsack_json_filename)\n",
    "    return _solve_knapsack(optimizer, data, config)\n",
    "end\n",
    "\n",
    "end"
   ],
   "metadata": {},
   "execution_count": null
  },
  {
   "cell_type": "markdown",
   "source": [
    "Finally, you can call your model:"
   ],
   "metadata": {}
  },
  {
   "outputs": [],
   "cell_type": "code",
   "source": [
    "import .KnapsackModel\n",
    "\n",
    "KnapsackModel.solve_knapsack(\n",
    "    HiGHS.Optimizer,\n",
    "    knapsack_json_filename,\n",
    "    KnapsackModel.BinaryKnapsackConfig(),\n",
    ")"
   ],
   "metadata": {},
   "execution_count": null
  },
  {
   "cell_type": "markdown",
   "source": [
    "**Note**\n",
    "    The `.` in `.KnapsackModel` denotes that it is a submodule and not a\n",
    "    separate package that we installed with `Pkg.add`. If you put the\n",
    "    `KnapsackModel` in a separate file, load it with:\n",
    "    ```julia\n",
    "    include(\"path/to/KnapsackModel.jl\")\n",
    "    import .KnapsackModel\n",
    "    ```"
   ],
   "metadata": {}
  },
  {
   "cell_type": "markdown",
   "source": [
    "## Add tests"
   ],
   "metadata": {}
  },
  {
   "cell_type": "markdown",
   "source": [
    "As a final step, you should add tests for your model. This often means testing\n",
    "on a small problem for which you can work out the optimal solution by hand.\n",
    "The Julia standard library `Test` has good unit-testing functionality."
   ],
   "metadata": {}
  },
  {
   "outputs": [],
   "cell_type": "code",
   "source": [
    "import .KnapsackModel\n",
    "using Test\n",
    "\n",
    "@testset \"KnapsackModel\" begin\n",
    "    @testset \"feasible_binary_knapsack\" begin\n",
    "        x = KnapsackModel.solve_knapsack(\n",
    "            HiGHS.Optimizer,\n",
    "            knapsack_json_filename,\n",
    "            KnapsackModel.BinaryKnapsackConfig(),\n",
    "        )\n",
    "        @test isapprox(x[\"apple\"], 1, atol = 1e-5)\n",
    "        @test isapprox(x[\"banana\"], 0, atol = 1e-5)\n",
    "        @test isapprox(x[\"cherry\"], 0, atol = 1e-5)\n",
    "        @test isapprox(x[\"date\"], 1, atol = 1e-5)\n",
    "        @test isapprox(x[\"eggplant\"], 1, atol = 1e-5)\n",
    "    end\n",
    "    @testset \"feasible_integer_knapsack\" begin\n",
    "        x = KnapsackModel.solve_knapsack(\n",
    "            HiGHS.Optimizer,\n",
    "            knapsack_json_filename,\n",
    "            KnapsackModel.IntegerKnapsackConfig(),\n",
    "        )\n",
    "        @test isapprox(x[\"apple\"], 0, atol = 1e-5)\n",
    "        @test isapprox(x[\"banana\"], 0, atol = 1e-5)\n",
    "        @test isapprox(x[\"cherry\"], 0, atol = 1e-5)\n",
    "        @test isapprox(x[\"date\"], 5, atol = 1e-5)\n",
    "        @test isapprox(x[\"eggplant\"], 0, atol = 1e-5)\n",
    "    end\n",
    "    @testset \"infeasible_binary_knapsack\" begin\n",
    "        dir = mktempdir()\n",
    "        infeasible_filename = joinpath(dir, \"infeasible.json\")\n",
    "        write(\n",
    "            infeasible_filename,\n",
    "            \"\"\"{\n",
    "                \"objects\": {\n",
    "                    \"apple\": {\"profit\": 5.0, \"weight\": 2.0},\n",
    "                    \"banana\": {\"profit\": 3.0, \"weight\": 8.0},\n",
    "                    \"cherry\": {\"profit\": 2.0, \"weight\": 4.0},\n",
    "                    \"date\": {\"profit\": 7.0, \"weight\": 2.0},\n",
    "                    \"eggplant\": {\"profit\": 4.0, \"weight\": 5.0}\n",
    "                },\n",
    "                \"capacity\": -10.0\n",
    "            }\"\"\",\n",
    "        )\n",
    "        x = KnapsackModel.solve_knapsack(\n",
    "            HiGHS.Optimizer,\n",
    "            infeasible_filename,\n",
    "            KnapsackModel.BinaryKnapsackConfig(),\n",
    "        )\n",
    "        @test x === nothing\n",
    "    end\n",
    "end"
   ],
   "metadata": {},
   "execution_count": null
  },
  {
   "cell_type": "markdown",
   "source": [
    "**Tip**\n",
    "    Place these tests in a separate file `test_knapsack_model.jl` so that you\n",
    "    can run the tests by adding `include(\"test_knapsack_model.jl\")` to any\n",
    "    file where needed."
   ],
   "metadata": {}
  },
  {
   "cell_type": "markdown",
   "source": [
    "## Next steps"
   ],
   "metadata": {}
  },
  {
   "cell_type": "markdown",
   "source": [
    "We've only briefly scratched the surface of ways to create and structure large\n",
    "JuMP models, so consider this tutorial a starting point, rather than a\n",
    "comprehensive list of all the possible ways to structure JuMP models.  If you\n",
    "are embarking on a large project that uses JuMP, a good next step is to\n",
    "look at ways people have written large JuMP projects \"in the wild.\""
   ],
   "metadata": {}
  },
  {
   "cell_type": "markdown",
   "source": [
    "Here are some good examples (all co-incidentally related to energy):\n",
    "* AnyMOD.jl\n",
    "  * [JuMP-dev 2021 talk](https://www.youtube.com/watch?v=QE_tNDER0F4)\n",
    "  * [source code](https://github.com/leonardgoeke/AnyMOD.jl)\n",
    "* PowerModels.jl\n",
    "  * [JuMP-dev 2021 talk](https://www.youtube.com/watch?v=POOt1FCA8LI)\n",
    "  * [source code](https://github.com/lanl-ansi/PowerModels.jl)\n",
    "* PowerSimulations.jl\n",
    "   * [JuliaCon 2021 talk](https://www.youtube.com/watch?v=-ZoO3npjwYU)\n",
    "   * [source code](https://github.com/NREL-SIIP/PowerSimulations.jl)\n",
    "* UnitCommitment.jl\n",
    "  * [JuMP-dev 2021 talk](https://www.youtube.com/watch?v=rYUZK9kYeIY)\n",
    "  * [source code](https://github.com/ANL-CEEESA/UnitCommitment.jl)"
   ],
   "metadata": {}
  }
 ],
 "nbformat_minor": 3,
 "metadata": {
  "language_info": {
   "file_extension": ".jl",
   "mimetype": "application/julia",
   "name": "julia",
   "version": "1.9.3"
  },
  "kernelspec": {
   "name": "julia-1.9",
   "display_name": "Julia 1.9.3",
   "language": "julia"
  }
 },
 "nbformat": 4
}
