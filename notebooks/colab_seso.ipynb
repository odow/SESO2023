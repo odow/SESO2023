{
 "cells": [
  {
   "cell_type": "markdown",
   "source": [
    "Run this cell once"
   ],
   "metadata": {}
  },
  {
   "outputs": [],
   "cell_type": "code",
   "source": [
    "%%shell\n",
    "set -e\n",
    "wget -nv https://raw.githubusercontent.com/odow/SESO2023/main/install_colab.sh -O /tmp/install_colab.sh\n",
    "bash /tmp/install_colab.sh  # Takes ~ 2 minutes"
   ],
   "metadata": {},
   "execution_count": null
  },
  {
   "cell_type": "markdown",
   "source": [
    "Then refresh the page... and run this cell once"
   ],
   "metadata": {}
  },
  {
   "outputs": [],
   "cell_type": "code",
   "source": [
    "import Downloads, Pkg\n",
    "Downloads.download(\"https://raw.githubusercontent.com/odow/SESO2023/main/Project.toml\", \"/tmp/Project.toml\")\n",
    "Pkg.activate(\"/tmp/Project.toml\")\n",
    "Pkg.instantiate()  # Can take ~ 7 minutes"
   ],
   "metadata": {},
   "execution_count": null
  },
  {
   "cell_type": "markdown",
   "source": [
    "# The knapsack problem example"
   ],
   "metadata": {}
  },
  {
   "cell_type": "markdown",
   "source": [
    "The purpose of this tutorial is to demonstrate how to formulate and solve a\n",
    "simple optimization problem."
   ],
   "metadata": {}
  },
  {
   "cell_type": "markdown",
   "source": [
    "## Required packages"
   ],
   "metadata": {}
  },
  {
   "cell_type": "markdown",
   "source": [
    "This tutorial requires the following packages:"
   ],
   "metadata": {}
  },
  {
   "outputs": [],
   "cell_type": "code",
   "source": [
    "using JuMP\n",
    "import HiGHS"
   ],
   "metadata": {},
   "execution_count": null
  },
  {
   "cell_type": "markdown",
   "source": [
    "## Formulation"
   ],
   "metadata": {}
  },
  {
   "cell_type": "markdown",
   "source": [
    "The [knapsack problem](https://en.wikipedia.org/wiki/Knapsack_problem)\n",
    "is a classical optimization problem: given a set of items and a container with\n",
    "a fixed capacity, choose a subset of items having the greatest combined\n",
    "value that will fit within the container without exceeding the capacity."
   ],
   "metadata": {}
  },
  {
   "cell_type": "markdown",
   "source": [
    "The name of the problem suggests its analogy to packing for a trip,\n",
    "where the baggage weight limit is the capacity and the goal is to pack the\n",
    "most profitable combination of belongings."
   ],
   "metadata": {}
  },
  {
   "cell_type": "markdown",
   "source": [
    "We can formulate the knapsack problem as the integer linear program:\n",
    "$$\n",
    "\\begin{aligned}\n",
    "\\max \\; & \\sum_{i=1}^n c_i x_i      \\\\\n",
    "s.t. \\; & \\sum_{i=1}^n w_i x_i \\le C, \\\\\n",
    "        & x_i \\in \\{0,1\\},\\quad \\forall i=1,\\ldots,n,\n",
    "\\end{aligned}\n",
    "$$\n",
    "where $C$ is the capacity, and there is a choice between $n$ items, with\n",
    "item $i$ having weight $w_i$, profit $c_i$. Decision variable $x_i$ is\n",
    "equal to 1 if the item is chosen and 0 if not."
   ],
   "metadata": {}
  },
  {
   "cell_type": "markdown",
   "source": [
    "This formulation can be written more compactly as:\n",
    "$$\n",
    "\\begin{aligned}\n",
    "\\max \\; & c^\\top x       \\\\\n",
    "s.t. \\; & w^\\top x \\le C \\\\\n",
    "        & x \\text{ binary }.\n",
    "\\end{aligned}\n",
    "$$"
   ],
   "metadata": {}
  },
  {
   "cell_type": "markdown",
   "source": [
    "## Data"
   ],
   "metadata": {}
  },
  {
   "cell_type": "markdown",
   "source": [
    "The data for the problem consists of two vectors (one for the profits and one\n",
    "for the weights) along with a capacity."
   ],
   "metadata": {}
  },
  {
   "cell_type": "markdown",
   "source": [
    "There are five objects:"
   ],
   "metadata": {}
  },
  {
   "outputs": [],
   "cell_type": "code",
   "source": [
    "n = 5;"
   ],
   "metadata": {},
   "execution_count": null
  },
  {
   "cell_type": "markdown",
   "source": [
    "For our example, we use a capacity of 10 units:"
   ],
   "metadata": {}
  },
  {
   "outputs": [],
   "cell_type": "code",
   "source": [
    "capacity = 10.0;"
   ],
   "metadata": {},
   "execution_count": null
  },
  {
   "cell_type": "markdown",
   "source": [
    "and the profit and cost data:"
   ],
   "metadata": {}
  },
  {
   "outputs": [],
   "cell_type": "code",
   "source": [
    "profit = [5.0, 3.0, 2.0, 7.0, 4.0];\n",
    "weight = [2.0, 8.0, 4.0, 2.0, 5.0];"
   ],
   "metadata": {},
   "execution_count": null
  },
  {
   "cell_type": "markdown",
   "source": [
    "## JuMP formulation"
   ],
   "metadata": {}
  },
  {
   "cell_type": "markdown",
   "source": [
    "Let's begin constructing the JuMP model for our knapsack problem."
   ],
   "metadata": {}
  },
  {
   "cell_type": "markdown",
   "source": [
    "First, we'll create a `Model` object for holding model elements as we\n",
    "construct each part. We'll also set the solver that will ultimately be called\n",
    "to solve the model, once it's constructed."
   ],
   "metadata": {}
  },
  {
   "outputs": [],
   "cell_type": "code",
   "source": [
    "model = Model(HiGHS.Optimizer)"
   ],
   "metadata": {},
   "execution_count": null
  },
  {
   "cell_type": "markdown",
   "source": [
    "Next we need the decision variables representing which items are chosen:"
   ],
   "metadata": {}
  },
  {
   "outputs": [],
   "cell_type": "code",
   "source": [
    "@variable(model, x[1:n], Bin)"
   ],
   "metadata": {},
   "execution_count": null
  },
  {
   "cell_type": "markdown",
   "source": [
    "We now want to constrain those variables so that their combined\n",
    "weight is less than or equal to the given capacity:"
   ],
   "metadata": {}
  },
  {
   "outputs": [],
   "cell_type": "code",
   "source": [
    "@constraint(model, sum(weight[i] * x[i] for i in 1:n) <= capacity)"
   ],
   "metadata": {},
   "execution_count": null
  },
  {
   "cell_type": "markdown",
   "source": [
    "Finally, our objective is to maximize the combined profit of the chosen items:"
   ],
   "metadata": {}
  },
  {
   "outputs": [],
   "cell_type": "code",
   "source": [
    "@objective(model, Max, sum(profit[i] * x[i] for i in 1:n))"
   ],
   "metadata": {},
   "execution_count": null
  },
  {
   "cell_type": "markdown",
   "source": [
    "Let's print a human-readable description of the model and check that the model\n",
    "looks as expected:"
   ],
   "metadata": {}
  },
  {
   "outputs": [],
   "cell_type": "code",
   "source": [
    "print(model)"
   ],
   "metadata": {},
   "execution_count": null
  },
  {
   "cell_type": "markdown",
   "source": [
    "We can now solve the optimization problem and inspect the results."
   ],
   "metadata": {}
  },
  {
   "outputs": [],
   "cell_type": "code",
   "source": [
    "optimize!(model)\n",
    "solution_summary(model)"
   ],
   "metadata": {},
   "execution_count": null
  },
  {
   "cell_type": "markdown",
   "source": [
    "The items chosen are"
   ],
   "metadata": {}
  },
  {
   "outputs": [],
   "cell_type": "code",
   "source": [
    "items_chosen = [i for i in 1:n if value(x[i]) > 0.5]"
   ],
   "metadata": {},
   "execution_count": null
  },
  {
   "cell_type": "markdown",
   "source": [
    "## Writing a function"
   ],
   "metadata": {}
  },
  {
   "cell_type": "markdown",
   "source": [
    "After working interactively, it is good practice to implement your model in a\n",
    "function."
   ],
   "metadata": {}
  },
  {
   "cell_type": "markdown",
   "source": [
    "The function can be used to ensure that the model is given well-defined input\n",
    "data with validation checks, and that the solution process went as expected."
   ],
   "metadata": {}
  },
  {
   "outputs": [],
   "cell_type": "code",
   "source": [
    "function solve_knapsack_problem(;\n",
    "    profit::Vector{Float64},\n",
    "    weight::Vector{Float64},\n",
    "    capacity::Float64,\n",
    ")\n",
    "    n = length(weight)\n",
    "    # The profit and weight vectors must be of equal length.\n",
    "    @assert length(profit) == n\n",
    "    model = Model(HiGHS.Optimizer)\n",
    "    set_silent(model)\n",
    "    @variable(model, x[1:n], Bin)\n",
    "    @objective(model, Max, profit' * x)\n",
    "    @constraint(model, weight' * x <= capacity)\n",
    "    optimize!(model)\n",
    "    @assert termination_status(model) == OPTIMAL\n",
    "    @assert primal_status(model) == FEASIBLE_POINT\n",
    "    println(\"Objective is: \", objective_value(model))\n",
    "    println(\"Solution is:\")\n",
    "    for i in 1:n\n",
    "        print(\"x[$i] = \", round(Int, value(x[i])))\n",
    "        println(\", c[$i] / w[$i] = \", profit[i] / weight[i])\n",
    "    end\n",
    "    chosen_items = [i for i in 1:n if value(x[i]) > 0.5]\n",
    "    return return chosen_items\n",
    "end\n",
    "\n",
    "solve_knapsack_problem(; profit = profit, weight = weight, capacity = capacity)"
   ],
   "metadata": {},
   "execution_count": null
  },
  {
   "cell_type": "markdown",
   "source": [
    "We observe that the chosen items (1, 4, and 5) have the best\n",
    "profit to weight ratio in this particular example."
   ],
   "metadata": {}
  },
  {
   "cell_type": "markdown",
   "source": [
    "## Next steps"
   ],
   "metadata": {}
  },
  {
   "cell_type": "markdown",
   "source": [
    "Here are some things to try next:\n",
    "\n",
    "* Call the function with different data. What happens as the capacity\n",
    "  increases?\n",
    "* What happens if the profit and weight vectors are different lengths?\n",
    "* Instead of creating a binary variable with `Bin`, we could have written\n",
    "  `@variable(model, 0 <= x[1:n] <= 1, Int)`. Verify that this formulation\n",
    "  finds the same solution. What happens if we are allowed to take more than\n",
    "  one of each item?"
   ],
   "metadata": {}
  },
  {
   "cell_type": "markdown",
   "source": [
    "# The diet problem"
   ],
   "metadata": {}
  },
  {
   "cell_type": "markdown",
   "source": [
    "The purpose of this tutorial is to demonstrate how to incorporate DataFrames\n",
    "into a JuMP model. As an example, we use classic [Stigler diet problem](https://en.wikipedia.org/wiki/Stigler_diet)."
   ],
   "metadata": {}
  },
  {
   "cell_type": "markdown",
   "source": [
    "## Required packages"
   ],
   "metadata": {}
  },
  {
   "cell_type": "markdown",
   "source": [
    "This tutorial requires the following packages:"
   ],
   "metadata": {}
  },
  {
   "outputs": [],
   "cell_type": "code",
   "source": [
    "using JuMP\n",
    "import CSV\n",
    "import DataFrames\n",
    "import HiGHS\n",
    "import Test"
   ],
   "metadata": {},
   "execution_count": null
  },
  {
   "cell_type": "markdown",
   "source": [
    "## Formulation"
   ],
   "metadata": {}
  },
  {
   "cell_type": "markdown",
   "source": [
    "We wish to cook a nutritionally balanced meal by choosing the quantity of each\n",
    "food $f$ to eat from a set of foods $F$ in our kitchen."
   ],
   "metadata": {}
  },
  {
   "cell_type": "markdown",
   "source": [
    "Each food $f$ has a cost, $c_f$, as well as a macro-nutrient profile\n",
    "$a_{m,f}$ for each macro-nutrient $m \\in M$."
   ],
   "metadata": {}
  },
  {
   "cell_type": "markdown",
   "source": [
    "Because we care about a nutritionally balanced meal, we set some minimum and\n",
    "maximum limits for each nutrient, which we denote $l_m$ and $u_m$\n",
    "respectively."
   ],
   "metadata": {}
  },
  {
   "cell_type": "markdown",
   "source": [
    "Furthermore, because we are optimizers, we seek the minimum cost solution."
   ],
   "metadata": {}
  },
  {
   "cell_type": "markdown",
   "source": [
    "With a little effort, we can formulate our dinner problem as the following\n",
    "linear program:\n",
    "$$\n",
    "\\begin{aligned}\n",
    "\\min & \\sum\\limits_{f \\in F} c_f x_f \\\\\n",
    "\\text{s.t.}\\ \\ & l_m \\le \\sum\\limits_{f \\in F} a_{m,f} x_f \\le u_m, && \\forall m \\in M \\\\\n",
    "& x_f \\ge 0, && \\forall f \\in F.\n",
    "\\end{aligned}\n",
    "$$"
   ],
   "metadata": {}
  },
  {
   "cell_type": "markdown",
   "source": [
    "In the rest of this tutorial, we will create and solve this problem in JuMP,\n",
    "and learn what we should cook for dinner."
   ],
   "metadata": {}
  },
  {
   "cell_type": "markdown",
   "source": [
    "## Data"
   ],
   "metadata": {}
  },
  {
   "cell_type": "markdown",
   "source": [
    "First, we need some data for the problem. For this tutorial, we'll write CSV\n",
    "files to a temporary directory from Julia. If you have existing files, you\n",
    "could change the filenames to point to them instead."
   ],
   "metadata": {}
  },
  {
   "outputs": [],
   "cell_type": "code",
   "source": [
    "dir = mktempdir()"
   ],
   "metadata": {},
   "execution_count": null
  },
  {
   "cell_type": "markdown",
   "source": [
    "The first file is a list of foods with their macro-nutrient profile:"
   ],
   "metadata": {}
  },
  {
   "outputs": [],
   "cell_type": "code",
   "source": [
    "food_csv_filename = joinpath(dir, \"diet_foods.csv\")\n",
    "open(food_csv_filename, \"w\") do io\n",
    "    write(\n",
    "        io,\n",
    "        \"\"\"\n",
    "        name,cost,calories,protein,fat,sodium\n",
    "        hamburger,2.49,410,24,26,730\n",
    "        chicken,2.89,420,32,10,1190\n",
    "        hot dog,1.50,560,20,32,1800\n",
    "        fries,1.89,380,4,19,270\n",
    "        macaroni,2.09,320,12,10,930\n",
    "        pizza,1.99,320,15,12,820\n",
    "        salad,2.49,320,31,12,1230\n",
    "        milk,0.89,100,8,2.5,125\n",
    "        ice cream,1.59,330,8,10,180\n",
    "        \"\"\",\n",
    "    )\n",
    "    return\n",
    "end\n",
    "foods = CSV.read(food_csv_filename, DataFrames.DataFrame)"
   ],
   "metadata": {},
   "execution_count": null
  },
  {
   "cell_type": "markdown",
   "source": [
    "Here, $F$ is `foods.name` and $c_f$ is `foods.cost`. (We're also playing\n",
    "a bit loose the term \"macro-nutrient\" by including calories and sodium.)"
   ],
   "metadata": {}
  },
  {
   "cell_type": "markdown",
   "source": [
    "We also need our minimum and maximum limits:"
   ],
   "metadata": {}
  },
  {
   "outputs": [],
   "cell_type": "code",
   "source": [
    "nutrient_csv_filename = joinpath(dir, \"diet_nutrient.csv\")\n",
    "open(nutrient_csv_filename, \"w\") do io\n",
    "    write(\n",
    "        io,\n",
    "        \"\"\"\n",
    "        nutrient,min,max\n",
    "        calories,1800,2200\n",
    "        protein,91,\n",
    "        fat,0,65\n",
    "        sodium,0,1779\n",
    "        \"\"\",\n",
    "    )\n",
    "    return\n",
    "end\n",
    "limits = CSV.read(nutrient_csv_filename, DataFrames.DataFrame)"
   ],
   "metadata": {},
   "execution_count": null
  },
  {
   "cell_type": "markdown",
   "source": [
    "Protein is missing data for the maximum. Let's fix that using `coalesce`:"
   ],
   "metadata": {}
  },
  {
   "outputs": [],
   "cell_type": "code",
   "source": [
    "limits.max = coalesce.(limits.max, Inf)\n",
    "limits"
   ],
   "metadata": {},
   "execution_count": null
  },
  {
   "cell_type": "markdown",
   "source": [
    "## JuMP formulation"
   ],
   "metadata": {}
  },
  {
   "cell_type": "markdown",
   "source": [
    "Now we're ready to convert our mathematical formulation into a JuMP model."
   ],
   "metadata": {}
  },
  {
   "cell_type": "markdown",
   "source": [
    "First, create a new JuMP model. Since we have a linear program, we'll use\n",
    "HiGHS as our optimizer:"
   ],
   "metadata": {}
  },
  {
   "outputs": [],
   "cell_type": "code",
   "source": [
    "model = Model(HiGHS.Optimizer)\n",
    "set_silent(model)"
   ],
   "metadata": {},
   "execution_count": null
  },
  {
   "cell_type": "markdown",
   "source": [
    "Next, we create a set of decision variables `x`, with one element for each row\n",
    "in the DataFrame, and each `x` has a lower bound of `0`:"
   ],
   "metadata": {}
  },
  {
   "outputs": [],
   "cell_type": "code",
   "source": [
    "@variable(model, x[foods.name] >= 0)"
   ],
   "metadata": {},
   "execution_count": null
  },
  {
   "cell_type": "markdown",
   "source": [
    "To simplify things later on, we store the vector as a new column `x` in the\n",
    "DataFrame `foods`. Since `x` is a `DenseAxisArray`, we first need to convert\n",
    "it to an `Array`:"
   ],
   "metadata": {}
  },
  {
   "outputs": [],
   "cell_type": "code",
   "source": [
    "foods.x = Array(x)"
   ],
   "metadata": {},
   "execution_count": null
  },
  {
   "cell_type": "markdown",
   "source": [
    "Our objective is to minimize the total cost of purchasing food:"
   ],
   "metadata": {}
  },
  {
   "outputs": [],
   "cell_type": "code",
   "source": [
    "@objective(model, Min, sum(foods.cost .* foods.x));"
   ],
   "metadata": {},
   "execution_count": null
  },
  {
   "cell_type": "markdown",
   "source": [
    "For the next component, we need to add a constraint that our total intake of\n",
    "each component is within the limits contained in the `limits` DataFrame:"
   ],
   "metadata": {}
  },
  {
   "outputs": [],
   "cell_type": "code",
   "source": [
    "@constraint(\n",
    "    model,\n",
    "    [row in eachrow(limits)],\n",
    "    row.min <= sum(foods[!, row.nutrient] .* foods.x) <= row.max,\n",
    ");"
   ],
   "metadata": {},
   "execution_count": null
  },
  {
   "cell_type": "markdown",
   "source": [
    "What does our model look like?"
   ],
   "metadata": {}
  },
  {
   "outputs": [],
   "cell_type": "code",
   "source": [
    "print(model)"
   ],
   "metadata": {},
   "execution_count": null
  },
  {
   "cell_type": "markdown",
   "source": [
    "## Solution"
   ],
   "metadata": {}
  },
  {
   "cell_type": "markdown",
   "source": [
    "Let's optimize and take a look at the solution:"
   ],
   "metadata": {}
  },
  {
   "outputs": [],
   "cell_type": "code",
   "source": [
    "optimize!(model)\n",
    "Test.@test primal_status(model) == FEASIBLE_POINT\n",
    "Test.@test objective_value(model) ≈ 11.8288 atol = 1e-4\n",
    "solution_summary(model)"
   ],
   "metadata": {},
   "execution_count": null
  },
  {
   "cell_type": "markdown",
   "source": [
    "We found an optimal solution. Let's see what the optimal solution is:"
   ],
   "metadata": {}
  },
  {
   "outputs": [],
   "cell_type": "code",
   "source": [
    "for row in eachrow(foods)\n",
    "    println(row.name, \" = \", value(row.x))\n",
    "end"
   ],
   "metadata": {},
   "execution_count": null
  },
  {
   "cell_type": "markdown",
   "source": [
    "That's a lot of milk and ice cream, and sadly, we only get `0.6` of a\n",
    "hamburger."
   ],
   "metadata": {}
  },
  {
   "cell_type": "markdown",
   "source": [
    "We can also use the function `Containers.rowtable` to easily convert\n",
    "the result into a DataFrame:"
   ],
   "metadata": {}
  },
  {
   "outputs": [],
   "cell_type": "code",
   "source": [
    "table = Containers.rowtable(value, x; header = [:food, :quantity])\n",
    "solution = DataFrames.DataFrame(table)"
   ],
   "metadata": {},
   "execution_count": null
  },
  {
   "cell_type": "markdown",
   "source": [
    "This makes it easy to perform analyses our solution:"
   ],
   "metadata": {}
  },
  {
   "outputs": [],
   "cell_type": "code",
   "source": [
    "filter!(row -> row.quantity > 0.0, solution)"
   ],
   "metadata": {},
   "execution_count": null
  },
  {
   "cell_type": "markdown",
   "source": [
    "## Problem modification"
   ],
   "metadata": {}
  },
  {
   "cell_type": "markdown",
   "source": [
    "JuMP makes it easy to take an existing model and modify it by adding extra\n",
    "constraints. Let's see what happens if we add a constraint that we can buy at\n",
    "most 6 units of milk or ice cream combined."
   ],
   "metadata": {}
  },
  {
   "outputs": [],
   "cell_type": "code",
   "source": [
    "dairy_foods = [\"milk\", \"ice cream\"]\n",
    "is_dairy = map(name -> name in dairy_foods, foods.name)\n",
    "dairy_constraint = @constraint(model, sum(foods[is_dairy, :x]) <= 6)\n",
    "optimize!(model)\n",
    "Test.@test termination_status(model) == INFEASIBLE\n",
    "Test.@test primal_status(model) == NO_SOLUTION\n",
    "solution_summary(model)"
   ],
   "metadata": {},
   "execution_count": null
  },
  {
   "cell_type": "markdown",
   "source": [
    "There exists no feasible solution to our problem. Looks like we're stuck\n",
    "eating ice cream for dinner."
   ],
   "metadata": {}
  },
  {
   "cell_type": "markdown",
   "source": [
    "## Next steps"
   ],
   "metadata": {}
  },
  {
   "cell_type": "markdown",
   "source": [
    "* You can delete a constraint using `delete(model, dairy_constraint)`. Can you\n",
    "  add a different constraint to provide a diet with less dairy?\n",
    "* Some food items (like hamburgers) are discrete. You can use `set_integer`\n",
    "  to force a variable to take integer values. What happens to the solution if\n",
    "  you do?"
   ],
   "metadata": {}
  },
  {
   "cell_type": "markdown",
   "source": [
    "# Two-stage stochastic programs"
   ],
   "metadata": {}
  },
  {
   "cell_type": "markdown",
   "source": [
    "The purpose of this tutorial is to demonstrate how to model and solve a\n",
    "two-stage stochastic program."
   ],
   "metadata": {}
  },
  {
   "cell_type": "markdown",
   "source": [
    "This tutorial uses the following packages"
   ],
   "metadata": {}
  },
  {
   "outputs": [],
   "cell_type": "code",
   "source": [
    "using JuMP\n",
    "import Distributions\n",
    "import HiGHS\n",
    "import Plots\n",
    "import StatsPlots\n",
    "import Statistics"
   ],
   "metadata": {},
   "execution_count": null
  },
  {
   "cell_type": "markdown",
   "source": [
    "## Background"
   ],
   "metadata": {}
  },
  {
   "cell_type": "markdown",
   "source": [
    "During the week, you are a busy practitioner of Operations Research. To escape\n",
    "the drudgery of mathematics, you decide to open a side business selling creamy\n",
    "mushroom pies with puff pastry. After a few weeks, it quickly becomes apparent\n",
    "that operating a food business is not so easy."
   ],
   "metadata": {}
  },
  {
   "cell_type": "markdown",
   "source": [
    "The pies must be prepared in the morning, _before_ you open for the day and\n",
    "can gauge the level of demand. If you bake too many, the unsold pies at the\n",
    "end of the day must be discarded and you have wasted time and money on their\n",
    "production. But if you bake too few, then there may be un-served customers and\n",
    "you could have made more money by baking more pies."
   ],
   "metadata": {}
  },
  {
   "cell_type": "markdown",
   "source": [
    "After a few weeks of poor decision making, you decide to put your knowledge of\n",
    "Operations Research to good use, starting with some data collection."
   ],
   "metadata": {}
  },
  {
   "cell_type": "markdown",
   "source": [
    "Each pie costs you \\\\$2 to make, and you sell them at \\\\$5 each. Disposal of an\n",
    "unsold pie costs \\\\$0.10. Based on three weeks of data collected, in which you\n",
    "made 200 pies each week, you sold 150, 190, and 200 pies. Thus, as a guess,\n",
    "you assume a triangular distribution of demand with a minimum of 150, a median\n",
    "of 200, and a maximum of 250."
   ],
   "metadata": {}
  },
  {
   "cell_type": "markdown",
   "source": [
    "We can model this problem by a two-stage stochastic program. In the first\n",
    "stage, we decide a quantity of pies to make $x$. We make this decision\n",
    "before we observe the demand $d_\\omega$. In the second stage, we sell\n",
    "$y_\\omega$ pies, and incur any costs for unsold pies."
   ],
   "metadata": {}
  },
  {
   "cell_type": "markdown",
   "source": [
    "We can formulate this problem as follows:\n",
    "$$\n",
    "\\begin{aligned}\n",
    "\\max\\limits_{x,y_\\omega} \\;\\; & -2x + \\mathbb{E}_\\omega[5y_\\omega - 0.1(x - y_\\omega)] \\\\\n",
    "  & y_\\omega \\le x              & \\quad \\forall \\omega \\in \\Omega \\\\\n",
    "  & 0 \\le y_\\omega \\le d_\\omega & \\quad \\forall \\omega \\in \\Omega \\\\\n",
    "  & x \\ge 0.\n",
    "\\end{aligned}\n",
    "$$"
   ],
   "metadata": {}
  },
  {
   "cell_type": "markdown",
   "source": [
    "## Sample Average approximation"
   ],
   "metadata": {}
  },
  {
   "cell_type": "markdown",
   "source": [
    "If the distribution of demand is continuous, then our problem has an infinite\n",
    "number of variables and constraints. To form a computationally tractable\n",
    "problem, we instead use a finite set of samples drawn from the distribution.\n",
    "This is called sample average approximation (SAA)."
   ],
   "metadata": {}
  },
  {
   "outputs": [],
   "cell_type": "code",
   "source": [
    "D = Distributions.TriangularDist(150.0, 250.0, 200.0)\n",
    "N = 100\n",
    "d = sort!(rand(D, N));\n",
    "Ω = 1:N\n",
    "P = fill(1 / N, N);\n",
    "StatsPlots.histogram(d; bins = 20, label = \"\", xlabel = \"Demand\")"
   ],
   "metadata": {},
   "execution_count": null
  },
  {
   "cell_type": "markdown",
   "source": [
    "## JuMP model"
   ],
   "metadata": {}
  },
  {
   "cell_type": "markdown",
   "source": [
    "The implementation of our two-stage stochastic program in JuMP is:"
   ],
   "metadata": {}
  },
  {
   "outputs": [],
   "cell_type": "code",
   "source": [
    "model = Model(HiGHS.Optimizer)\n",
    "set_silent(model)\n",
    "@variable(model, x >= 0)\n",
    "@variable(model, 0 <= y[ω in Ω] <= d[ω])\n",
    "@constraint(model, [ω in Ω], y[ω] <= x)\n",
    "@expression(model, z[ω in Ω], 5y[ω] - 0.1 * (x - y[ω]))\n",
    "@objective(model, Max, -2x + sum(P[ω] * z[ω] for ω in Ω))\n",
    "optimize!(model)\n",
    "solution_summary(model)"
   ],
   "metadata": {},
   "execution_count": null
  },
  {
   "cell_type": "markdown",
   "source": [
    "The optimal number of pies to make is:"
   ],
   "metadata": {}
  },
  {
   "outputs": [],
   "cell_type": "code",
   "source": [
    "value(x)"
   ],
   "metadata": {},
   "execution_count": null
  },
  {
   "cell_type": "markdown",
   "source": [
    "The distribution of total profit is:"
   ],
   "metadata": {}
  },
  {
   "outputs": [],
   "cell_type": "code",
   "source": [
    "total_profit = [-2 * value(x) + value(z[ω]) for ω in Ω]"
   ],
   "metadata": {},
   "execution_count": null
  },
  {
   "cell_type": "markdown",
   "source": [
    "Let's plot it:"
   ],
   "metadata": {}
  },
  {
   "outputs": [],
   "cell_type": "code",
   "source": [
    "\"\"\"\n",
    "    bin_distribution(x::Vector{Float64}, N::Int)\n",
    "\n",
    "A helper function that discretizes `x` into bins of width `N`.\n",
    "\"\"\"\n",
    "bin_distribution(x, N) = N * (floor(minimum(x) / N):ceil(maximum(x) / N))\n",
    "\n",
    "plot = StatsPlots.histogram(\n",
    "    total_profit;\n",
    "    bins = bin_distribution(total_profit, 25),\n",
    "    label = \"\",\n",
    "    xlabel = \"Profit [\\$]\",\n",
    "    ylabel = \"Number of outcomes\",\n",
    ")\n",
    "μ = Statistics.mean(total_profit)\n",
    "Plots.vline!(\n",
    "    plot,\n",
    "    [μ];\n",
    "    label = \"Expected profit (\\$$(round(Int, μ)))\",\n",
    "    linewidth = 3,\n",
    ")\n",
    "plot"
   ],
   "metadata": {},
   "execution_count": null
  },
  {
   "cell_type": "markdown",
   "source": [
    "## Risk measures"
   ],
   "metadata": {}
  },
  {
   "cell_type": "markdown",
   "source": [
    "A risk measure is a function which maps a random variable to a real number.\n",
    "Common risk measures include the mean (expectation), median, mode, and\n",
    "maximum. We need a risk measure to convert the distribution of second stage\n",
    "costs into a single number that can be optimized."
   ],
   "metadata": {}
  },
  {
   "cell_type": "markdown",
   "source": [
    "Our model currently uses the expectation risk measure, but others are possible\n",
    "too. One popular risk measure is the conditional value at risk (CVaR)."
   ],
   "metadata": {}
  },
  {
   "cell_type": "markdown",
   "source": [
    "CVaR has a parameter $\\gamma$, and it computes the expectation of the worst\n",
    "$\\gamma$ fraction of outcomes."
   ],
   "metadata": {}
  },
  {
   "cell_type": "markdown",
   "source": [
    "If we are maximizing, so that small outcomes are bad, the definition of CVaR\n",
    "is:\n",
    "$$\n",
    "CVaR_{\\gamma}[Z] = \\max\\limits_{\\xi} \\;\\; \\xi - \\frac{1}{\\gamma}\\mathbb{E}_\\omega\\left[(\\xi - Z)_+\\right]\n",
    "$$\n",
    "which can be formulated as the linear program:\n",
    "$$\n",
    "\\begin{aligned}\n",
    "CVaR_{\\gamma}[Z] = \\max\\limits_{\\xi, z_\\omega} \\;\\; & \\xi - \\frac{1}{\\gamma}\\sum P_\\omega z_\\omega\\\\\n",
    " & z_\\omega \\ge \\xi - Z_\\omega & \\quad \\forall \\omega \\\\\n",
    " & z_\\omega \\ge 0 & \\quad \\forall \\omega.\n",
    "\\end{aligned}\n",
    "$$"
   ],
   "metadata": {}
  },
  {
   "outputs": [],
   "cell_type": "code",
   "source": [
    "function CVaR(Z::Vector{Float64}, P::Vector{Float64}; γ::Float64)\n",
    "    @assert 0 < γ <= 1\n",
    "    N = length(Z)\n",
    "    model = Model(HiGHS.Optimizer)\n",
    "    set_silent(model)\n",
    "    @variable(model, ξ)\n",
    "    @variable(model, z[1:N] >= 0)\n",
    "    @constraint(model, [i in 1:N], z[i] >= ξ - Z[i])\n",
    "    @objective(model, Max, ξ - 1 / γ * sum(P[i] * z[i] for i in 1:N))\n",
    "    optimize!(model)\n",
    "    return objective_value(model)\n",
    "end"
   ],
   "metadata": {},
   "execution_count": null
  },
  {
   "cell_type": "markdown",
   "source": [
    "When `γ` is `1.0`, we compute the mean of the profit:"
   ],
   "metadata": {}
  },
  {
   "outputs": [],
   "cell_type": "code",
   "source": [
    "cvar_10 = CVaR(total_profit, P; γ = 1.0)"
   ],
   "metadata": {},
   "execution_count": null
  },
  {
   "outputs": [],
   "cell_type": "code",
   "source": [
    "Statistics.mean(total_profit)"
   ],
   "metadata": {},
   "execution_count": null
  },
  {
   "cell_type": "markdown",
   "source": [
    "As `γ` approaches `0.0`, we compute the worst-case (minimum) profit:"
   ],
   "metadata": {}
  },
  {
   "outputs": [],
   "cell_type": "code",
   "source": [
    "cvar_00 = CVaR(total_profit, P; γ = 0.0001)"
   ],
   "metadata": {},
   "execution_count": null
  },
  {
   "outputs": [],
   "cell_type": "code",
   "source": [
    "minimum(total_profit)"
   ],
   "metadata": {},
   "execution_count": null
  },
  {
   "cell_type": "markdown",
   "source": [
    "By varying `γ` between `0` and `1` we can compute some trade-off of these two\n",
    "extremes:"
   ],
   "metadata": {}
  },
  {
   "outputs": [],
   "cell_type": "code",
   "source": [
    "cvar_05 = CVaR(total_profit, P; γ = 0.5)"
   ],
   "metadata": {},
   "execution_count": null
  },
  {
   "cell_type": "markdown",
   "source": [
    "Let's plot these outcomes on our distribution:"
   ],
   "metadata": {}
  },
  {
   "outputs": [],
   "cell_type": "code",
   "source": [
    "plot = StatsPlots.histogram(\n",
    "    total_profit;\n",
    "    bins = bin_distribution(total_profit, 25),\n",
    "    label = \"\",\n",
    "    xlabel = \"Profit [\\$]\",\n",
    "    ylabel = \"Number of outcomes\",\n",
    ")\n",
    "Plots.vline!(\n",
    "    plot,\n",
    "    [cvar_10 cvar_05 cvar_00];\n",
    "    label = [\"γ = 1.0\" \"γ = 0.5\" \"γ = 0.0\"],\n",
    "    linewidth = 3,\n",
    ")\n",
    "plot"
   ],
   "metadata": {},
   "execution_count": null
  },
  {
   "cell_type": "markdown",
   "source": [
    "## Risk averse sample average approximation"
   ],
   "metadata": {}
  },
  {
   "cell_type": "markdown",
   "source": [
    "Because CVaR can be formulated as a linear program, we can form a risk averse\n",
    "sample average approximation model by combining the two formulations:"
   ],
   "metadata": {}
  },
  {
   "outputs": [],
   "cell_type": "code",
   "source": [
    "γ = 0.4\n",
    "model = Model(HiGHS.Optimizer)\n",
    "set_silent(model)\n",
    "@variable(model, x >= 0)\n",
    "@variable(model, 0 <= y[ω in Ω] <= d[ω])\n",
    "@constraint(model, [ω in Ω], y[ω] <= x)\n",
    "@expression(model, Z[ω in Ω], 5 * y[ω] - 0.1(x - y[ω]))\n",
    "@variable(model, ξ)\n",
    "@variable(model, z[ω in Ω] >= 0)\n",
    "@constraint(model, [ω in Ω], z[ω] >= ξ - Z[ω])\n",
    "@objective(model, Max, -2x + ξ - 1 / γ * sum(P[ω] * z[ω] for ω in Ω))\n",
    "optimize!(model)"
   ],
   "metadata": {},
   "execution_count": null
  },
  {
   "cell_type": "markdown",
   "source": [
    "When $\\gamma = 0.4$, the optimal number of pies to bake is:"
   ],
   "metadata": {}
  },
  {
   "outputs": [],
   "cell_type": "code",
   "source": [
    "value(x)"
   ],
   "metadata": {},
   "execution_count": null
  },
  {
   "cell_type": "markdown",
   "source": [
    "The distribution of total profit is:"
   ],
   "metadata": {}
  },
  {
   "outputs": [],
   "cell_type": "code",
   "source": [
    "risk_averse_total_profit = [value(-2x + Z[ω]) for ω in Ω]\n",
    "bins = bin_distribution([total_profit; risk_averse_total_profit], 25)\n",
    "plot = StatsPlots.histogram(total_profit; label = \"Expectation\", bins = bins)\n",
    "StatsPlots.histogram!(\n",
    "    plot,\n",
    "    risk_averse_total_profit;\n",
    "    label = \"CV@R\",\n",
    "    bins = bins,\n",
    "    alpha = 0.5,\n",
    ")\n",
    "plot"
   ],
   "metadata": {},
   "execution_count": null
  },
  {
   "cell_type": "markdown",
   "source": [
    "## Next steps\n",
    "\n",
    " * Try solving this problem for different numbers of samples and different\n",
    "   distributions.\n",
    " * Refactor the example to avoid hard-coding the costs. What happens to the\n",
    "   solution if the cost of disposing unsold pies increases?\n",
    " * Plot the optimal number of pies to make for different values of the risk\n",
    "   aversion parameter $\\gamma$. What is the relationship?"
   ],
   "metadata": {}
  },
  {
   "cell_type": "markdown",
   "source": [
    "# Example: two-stage newsvendor"
   ],
   "metadata": {}
  },
  {
   "cell_type": "markdown",
   "source": [
    "The purpose of this tutorial is to demonstrate how to model and solve a\n",
    "two-stage stochastic program."
   ],
   "metadata": {}
  },
  {
   "cell_type": "markdown",
   "source": [
    "It is based on the [Two stage stochastic programs](https://jump.dev/JuMP.jl/dev/tutorials/applications/two_stage_stochastic/)\n",
    "tutorial in JuMP."
   ],
   "metadata": {}
  },
  {
   "cell_type": "markdown",
   "source": [
    "This tutorial uses the following packages"
   ],
   "metadata": {}
  },
  {
   "outputs": [],
   "cell_type": "code",
   "source": [
    "using JuMP\n",
    "using SDDP\n",
    "import Distributions\n",
    "import HiGHS\n",
    "import Plots\n",
    "import StatsPlots\n",
    "import Statistics"
   ],
   "metadata": {},
   "execution_count": null
  },
  {
   "cell_type": "markdown",
   "source": [
    "## Background"
   ],
   "metadata": {}
  },
  {
   "cell_type": "markdown",
   "source": [
    "The data for this problem is:"
   ],
   "metadata": {}
  },
  {
   "outputs": [],
   "cell_type": "code",
   "source": [
    "D = Distributions.TriangularDist(150.0, 250.0, 200.0)\n",
    "N = 100\n",
    "d = sort!(rand(D, N));\n",
    "Ω = 1:N\n",
    "P = fill(1 / N, N);\n",
    "StatsPlots.histogram(d; bins = 20, label = \"\", xlabel = \"Demand\")"
   ],
   "metadata": {},
   "execution_count": null
  },
  {
   "cell_type": "markdown",
   "source": [
    "## L-Shaped theory"
   ],
   "metadata": {}
  },
  {
   "cell_type": "markdown",
   "source": [
    "The L-Shaped method is a way of solving two-stage stochastic programs by\n",
    "Benders' decomposition. It takes the problem:"
   ],
   "metadata": {}
  },
  {
   "cell_type": "markdown",
   "source": [
    "$$\n",
    "\\begin{aligned}\n",
    "V = \\max\\limits_{x,y_\\omega} \\;\\; & -2x + \\mathbb{E}_\\omega[5y_\\omega - 0.1(x - y_\\omega)] \\\\\n",
    "  & y_\\omega \\le x              & \\quad \\forall \\omega \\in \\Omega \\\\\n",
    "  & 0 \\le y_\\omega \\le d_\\omega & \\quad \\forall \\omega \\in \\Omega \\\\\n",
    "  & x \\ge 0.\n",
    "\\end{aligned}\n",
    "$$"
   ],
   "metadata": {}
  },
  {
   "cell_type": "markdown",
   "source": [
    "and decomposes it into a second-stage problem:"
   ],
   "metadata": {}
  },
  {
   "cell_type": "markdown",
   "source": [
    "$$\n",
    "\\begin{aligned}\n",
    "V_2(\\bar{x}, d_\\omega) = \\max\\limits_{x,x^\\prime,y_\\omega} \\;\\; & 5y_\\omega - x^\\prime \\\\\n",
    "  & y_\\omega \\le x \\\\\n",
    "  & x^\\prime = x - y_\\omega \\\\\n",
    "  & 0 \\le y_\\omega \\le d_\\omega \\\\\n",
    "  & x = \\bar{x} & [\\lambda]\n",
    "\\end{aligned}\n",
    "$$"
   ],
   "metadata": {}
  },
  {
   "cell_type": "markdown",
   "source": [
    "and a first-stage problem:"
   ],
   "metadata": {}
  },
  {
   "cell_type": "markdown",
   "source": [
    "$$\n",
    "\\begin{aligned}\n",
    "V = \\max\\limits_{x,\\theta} \\;\\; & -2x + \\theta \\\\\n",
    "  & \\theta \\le \\mathbb{E}_\\omega[V_2(x, \\omega)] \\\\\n",
    "  & x \\ge 0\n",
    "\\end{aligned}\n",
    "$$"
   ],
   "metadata": {}
  },
  {
   "cell_type": "markdown",
   "source": [
    "Then, because $V_2$ is convex with respect to $\\bar{x}$ for fixed $\\omega$,\n",
    "we can use a set of feasible points $\\{x^k\\}$ construct an outer approximation:\n",
    "$$\n",
    "\\begin{aligned}\n",
    "V^K = \\max\\limits_{x,\\theta} \\;\\; & -2x + \\theta \\\\\n",
    "  & \\theta \\le \\mathbb{E}_\\omega[V_2(x^k, \\omega) + \\nabla V_2(x^k, \\omega)^\\top(x - x^k)] & \\quad k = 1,\\ldots,K\\\\\n",
    "  & x \\ge 0 \\\\\n",
    "  & \\theta \\le M\n",
    "\\end{aligned}\n",
    "$$\n",
    "where $M$ is an upper bound on possible values of $V_2$ so that the problem\n",
    "has a bounded solution."
   ],
   "metadata": {}
  },
  {
   "cell_type": "markdown",
   "source": [
    "It is also useful to see that because $\\bar{x}$ appears only on the right-hand\n",
    "side of a linear program, $\\nabla V_2(x^k, \\omega) = \\lambda^k$."
   ],
   "metadata": {}
  },
  {
   "cell_type": "markdown",
   "source": [
    "Ignoring how we choose $x^k$ for now, we can construct a lower and upper bound\n",
    "on the optimal solution:"
   ],
   "metadata": {}
  },
  {
   "cell_type": "markdown",
   "source": [
    "$$-2x^K + \\mathbb{E}_\\omega[V_2(x^K, \\omega)] = \\underline{V} \\le V \\le \\overline{V} = V^K$$"
   ],
   "metadata": {}
  },
  {
   "cell_type": "markdown",
   "source": [
    "Thus, we need some way of cleverly choosing a sequence of $x^k$ so that the\n",
    "lower bound converges to the upper bound."
   ],
   "metadata": {}
  },
  {
   "cell_type": "markdown",
   "source": [
    "1. Start with $K=1$\n",
    "2. Solve $V^{K-1}$ to get $x^K$\n",
    "3. Set $\\overline{V} = V^k$\n",
    "4. Solve $V_2(x^K, \\omega)$ for all $\\omega$ and store the optimal objective\n",
    "   value and dual solution $\\lambda^K$\n",
    "5. Set $\\underline{V} = -2x^K + \\mathbb{E}_\\omega[V_2(x^k, \\omega)]$\n",
    "6. If $\\underline{V} \\approx \\overline{V}$, STOP\n",
    "7. Add new constraint $\\theta \\le \\mathbb{E}_\\omega[V_2(x^K, \\omega) +\\lambda^K (x - x^K)]$\n",
    "8. Increment $K$, GOTO 2"
   ],
   "metadata": {}
  },
  {
   "cell_type": "markdown",
   "source": [
    "The next section implements this algorithm in Julia."
   ],
   "metadata": {}
  },
  {
   "cell_type": "markdown",
   "source": [
    "## L-Shaped implementation"
   ],
   "metadata": {}
  },
  {
   "cell_type": "markdown",
   "source": [
    "Here's a function to compute the second-stage problem;"
   ],
   "metadata": {}
  },
  {
   "outputs": [],
   "cell_type": "code",
   "source": [
    "function solve_second_stage(x̅, d_ω)\n",
    "    model = Model(HiGHS.Optimizer)\n",
    "    set_silent(model)\n",
    "    @variable(model, x_in)\n",
    "    @variable(model, x_out >= 0)\n",
    "    fix(x_in, x̅)\n",
    "    @variable(model, 0 <= u_sell <= d_ω)\n",
    "    @constraint(model, x_out == x_in - u_sell)\n",
    "    @constraint(model, u_sell <= x_in)\n",
    "    @objective(model, Max, 5 * u_sell - 0.1 * x_out)\n",
    "    optimize!(model)\n",
    "    return (\n",
    "        V = objective_value(model),\n",
    "        λ = reduced_cost(x_in),\n",
    "        x = value(x_out),\n",
    "        u = value(u_sell),\n",
    "    )\n",
    "end\n",
    "\n",
    "solve_second_stage(200, 170)"
   ],
   "metadata": {},
   "execution_count": null
  },
  {
   "cell_type": "markdown",
   "source": [
    "Here's the first-stage subproblem:"
   ],
   "metadata": {}
  },
  {
   "outputs": [],
   "cell_type": "code",
   "source": [
    "model = Model(HiGHS.Optimizer)\n",
    "set_silent(model)\n",
    "@variable(model, x_in == 0)\n",
    "@variable(model, x_out >= 0)\n",
    "@variable(model, u_make >= 0)\n",
    "@constraint(model, x_out == x_in + u_make)\n",
    "M = 5 * maximum(d)\n",
    "@variable(model, θ <= M)\n",
    "@objective(model, Max, -2 * u_make + θ)"
   ],
   "metadata": {},
   "execution_count": null
  },
  {
   "cell_type": "markdown",
   "source": [
    "Importantly, to ensure we have a bounded solution, we need to add an upper\n",
    "bound to the variable `θ`."
   ],
   "metadata": {}
  },
  {
   "outputs": [],
   "cell_type": "code",
   "source": [
    "kIterationLimit = 100\n",
    "for k in 1:kIterationLimit\n",
    "    println(\"Solving iteration k = $k\")\n",
    "    # Step 2\n",
    "    optimize!(model)\n",
    "    xᵏ = value(x_out)\n",
    "    println(\"  xᵏ = $xᵏ\")\n",
    "    # Step 3\n",
    "    ub = objective_value(model)\n",
    "    println(\"  V̅ = $ub\")\n",
    "    # Step 4\n",
    "    ret = [solve_second_stage(xᵏ, d[ω]) for ω in Ω]\n",
    "    # Step 5\n",
    "    lb = value(-2 * u_make) + sum(p * r.V for (p, r) in zip(P, ret))\n",
    "    println(\"  V̲ = $lb\")\n",
    "    # Step 6\n",
    "    if ub - lb < 1e-6\n",
    "        println(\"Terminating with near-optimal solution\")\n",
    "        break\n",
    "    end\n",
    "    # Step 7\n",
    "    c = @constraint(\n",
    "        model,\n",
    "        θ <= sum(p * (r.V + r.λ * (x_out - xᵏ)) for (p, r) in zip(P, ret)),\n",
    "    )\n",
    "    println(\"  Added cut: $c\")\n",
    "end"
   ],
   "metadata": {},
   "execution_count": null
  },
  {
   "cell_type": "markdown",
   "source": [
    "To get the first-stage solution, we do:"
   ],
   "metadata": {}
  },
  {
   "outputs": [],
   "cell_type": "code",
   "source": [
    "optimize!(model)\n",
    "xᵏ = value(x_out)"
   ],
   "metadata": {},
   "execution_count": null
  },
  {
   "cell_type": "markdown",
   "source": [
    "To compute a second-stage solution, we do:"
   ],
   "metadata": {}
  },
  {
   "outputs": [],
   "cell_type": "code",
   "source": [
    "solve_second_stage(xᵏ, 170.0)"
   ],
   "metadata": {},
   "execution_count": null
  },
  {
   "cell_type": "markdown",
   "source": [
    "## Policy Graph"
   ],
   "metadata": {}
  },
  {
   "cell_type": "markdown",
   "source": [
    "Now let's see how we can formulate and train a policy for the two-stage\n",
    "newsvendor problem using `SDDP.jl`. Under the hood, `SDDP.jl` implements the\n",
    "exact algorithm that we just wrote by hand."
   ],
   "metadata": {}
  },
  {
   "outputs": [],
   "cell_type": "code",
   "source": [
    "model = SDDP.LinearPolicyGraph(;\n",
    "    stages = 2,\n",
    "    sense = :Max,\n",
    "    upper_bound = 5 * maximum(d),  # The `M` in θ <= M\n",
    "    optimizer = HiGHS.Optimizer,\n",
    ") do subproblem::JuMP.Model, stage::Int\n",
    "    @variable(subproblem, x >= 0, SDDP.State, initial_value = 0)\n",
    "    if stage == 1\n",
    "        @variable(subproblem, u_make >= 0)\n",
    "        @constraint(subproblem, x.out == x.in + u_make)\n",
    "        @stageobjective(subproblem, -2 * u_make)\n",
    "    else\n",
    "        @variable(subproblem, u_sell >= 0)\n",
    "        @constraint(subproblem, u_sell <= x.in)\n",
    "        @constraint(subproblem, x.out == x.in - u_sell)\n",
    "        SDDP.parameterize(subproblem, d, P) do ω\n",
    "            set_upper_bound(u_sell, ω)\n",
    "            return\n",
    "        end\n",
    "        @stageobjective(subproblem, 5 * u_sell - 0.1 * x.out)\n",
    "    end\n",
    "    return\n",
    "end\n",
    "\n",
    "SDDP.train(model; log_every_iteration = true)"
   ],
   "metadata": {},
   "execution_count": null
  },
  {
   "cell_type": "markdown",
   "source": [
    "One way to query the optimal policy is with `SDDP.DecisionRule`:"
   ],
   "metadata": {}
  },
  {
   "outputs": [],
   "cell_type": "code",
   "source": [
    "first_stage_rule = SDDP.DecisionRule(model; node = 1)"
   ],
   "metadata": {},
   "execution_count": null
  },
  {
   "outputs": [],
   "cell_type": "code",
   "source": [
    "solution_1 = SDDP.evaluate(first_stage_rule; incoming_state = Dict(:x => 0.0))"
   ],
   "metadata": {},
   "execution_count": null
  },
  {
   "cell_type": "markdown",
   "source": [
    "Here's the second stage:"
   ],
   "metadata": {}
  },
  {
   "outputs": [],
   "cell_type": "code",
   "source": [
    "second_stage_rule = SDDP.DecisionRule(model; node = 2)\n",
    "solution = SDDP.evaluate(\n",
    "    second_stage_rule;\n",
    "    incoming_state = Dict(:x => solution_1.outgoing_state[:x]),\n",
    "    noise = 170.0,  # A value of d[ω], can be out-of-sample.\n",
    "    controls_to_record = [:u_sell],\n",
    ")"
   ],
   "metadata": {},
   "execution_count": null
  },
  {
   "cell_type": "markdown",
   "source": [
    "## Simulation"
   ],
   "metadata": {}
  },
  {
   "cell_type": "markdown",
   "source": [
    "Querying the decision rules is tedious. It's often more useful to simulate the\n",
    "policy:"
   ],
   "metadata": {}
  },
  {
   "outputs": [],
   "cell_type": "code",
   "source": [
    "simulations = SDDP.simulate(\n",
    "    model,\n",
    "    10,  #= number of replications =#\n",
    "    [:x, :u_sell, :u_make];  #= variables to record =#\n",
    "    skip_undefined_variables = true,\n",
    ");"
   ],
   "metadata": {},
   "execution_count": null
  },
  {
   "cell_type": "markdown",
   "source": [
    "`simulations` is a vector with 10 elements"
   ],
   "metadata": {}
  },
  {
   "outputs": [],
   "cell_type": "code",
   "source": [
    "length(simulations)"
   ],
   "metadata": {},
   "execution_count": null
  },
  {
   "cell_type": "markdown",
   "source": [
    "and each element is a vector with two elements (one for each stage)"
   ],
   "metadata": {}
  },
  {
   "outputs": [],
   "cell_type": "code",
   "source": [
    "length(simulations[1])"
   ],
   "metadata": {},
   "execution_count": null
  },
  {
   "cell_type": "markdown",
   "source": [
    "The first stage contains:"
   ],
   "metadata": {}
  },
  {
   "outputs": [],
   "cell_type": "code",
   "source": [
    "simulations[1][1]"
   ],
   "metadata": {},
   "execution_count": null
  },
  {
   "cell_type": "markdown",
   "source": [
    "The second stage contains:"
   ],
   "metadata": {}
  },
  {
   "outputs": [],
   "cell_type": "code",
   "source": [
    "simulations[1][2]"
   ],
   "metadata": {},
   "execution_count": null
  },
  {
   "cell_type": "markdown",
   "source": [
    "We can compute aggregated statistics across the simulations:"
   ],
   "metadata": {}
  },
  {
   "outputs": [],
   "cell_type": "code",
   "source": [
    "objectives = map(simulations) do simulation\n",
    "    return sum(data[:stage_objective] for data in simulation)\n",
    "end\n",
    "μ, t = SDDP.confidence_interval(objectives)\n",
    "println(\"Simulation ci : $μ ± $t\")"
   ],
   "metadata": {},
   "execution_count": null
  },
  {
   "cell_type": "markdown",
   "source": [
    "## Risk aversion revisited"
   ],
   "metadata": {}
  },
  {
   "cell_type": "markdown",
   "source": [
    "SDDP.jl contains a number of risk measures. One example is:"
   ],
   "metadata": {}
  },
  {
   "outputs": [],
   "cell_type": "code",
   "source": [
    "0.5 * SDDP.Expectation() + 0.5 * SDDP.WorstCase()"
   ],
   "metadata": {},
   "execution_count": null
  },
  {
   "cell_type": "markdown",
   "source": [
    "You can construct a risk-averse policy by passing a risk measure to the\n",
    "`risk_measure` keyword argument of `SDDP.train`."
   ],
   "metadata": {}
  },
  {
   "cell_type": "markdown",
   "source": [
    "We can explore how the optimal decision changes with risk by creating a\n",
    "function:"
   ],
   "metadata": {}
  },
  {
   "outputs": [],
   "cell_type": "code",
   "source": [
    "function solve_newsvendor(risk_measure::SDDP.AbstractRiskMeasure)\n",
    "    model = SDDP.LinearPolicyGraph(\n",
    "        stages = 2,\n",
    "        sense = :Max,\n",
    "        upper_bound = 5 * maximum(d),\n",
    "        optimizer = HiGHS.Optimizer,\n",
    "    ) do subproblem, node\n",
    "        @variable(subproblem, x >= 0, SDDP.State, initial_value = 0)\n",
    "        if node == 1\n",
    "            @stageobjective(subproblem, -2 * x.out)\n",
    "        else\n",
    "            @variable(subproblem, u_sell >= 0)\n",
    "            @constraint(subproblem, u_sell <= x.in)\n",
    "            @constraint(subproblem, x.out == x.in - u_sell)\n",
    "            SDDP.parameterize(subproblem, d, P) do ω\n",
    "                set_upper_bound(u_sell, ω)\n",
    "                return\n",
    "            end\n",
    "            @stageobjective(subproblem, 5 * u_sell - 0.1 * x.out)\n",
    "        end\n",
    "        return\n",
    "    end\n",
    "    SDDP.train(model; risk_measure = risk_measure, print_level = 0)\n",
    "    first_stage_rule = SDDP.DecisionRule(model; node = 1)\n",
    "    solution = SDDP.evaluate(first_stage_rule; incoming_state = Dict(:x => 0.0))\n",
    "    return solution.outgoing_state[:x]\n",
    "end"
   ],
   "metadata": {},
   "execution_count": null
  },
  {
   "cell_type": "markdown",
   "source": [
    "Now we can see how many units a decision maker would order using `CVaR`:"
   ],
   "metadata": {}
  },
  {
   "outputs": [],
   "cell_type": "code",
   "source": [
    "solve_newsvendor(SDDP.CVaR(0.4))"
   ],
   "metadata": {},
   "execution_count": null
  },
  {
   "cell_type": "markdown",
   "source": [
    "as well as a decision-maker who cares only about the worst-case outcome:"
   ],
   "metadata": {}
  },
  {
   "outputs": [],
   "cell_type": "code",
   "source": [
    "solve_newsvendor(SDDP.WorstCase())"
   ],
   "metadata": {},
   "execution_count": null
  },
  {
   "cell_type": "markdown",
   "source": [
    "In general, the decision-maker will be somewhere between the two extremes.\n",
    "The `SDDP.Entropic` risk measure is a risk measure that has a single\n",
    "parameter that lets us explore the space of policies between the two extremes.\n",
    "When the parameter is small, the measure acts like `SDDP.Expectation`,\n",
    "and when it is large, it acts like `SDDP.WorstCase`."
   ],
   "metadata": {}
  },
  {
   "cell_type": "markdown",
   "source": [
    "Here is what we get if we solve our problem multiple times for different\n",
    "values of the risk aversion parameter $\\gamma$:"
   ],
   "metadata": {}
  },
  {
   "outputs": [],
   "cell_type": "code",
   "source": [
    "Γ = [10^i for i in -4:0.5:1]\n",
    "buy = [solve_newsvendor(SDDP.Entropic(γ)) for γ in Γ]\n",
    "Plots.plot(\n",
    "    Γ,\n",
    "    buy;\n",
    "    xaxis = :log,\n",
    "    xlabel = \"Risk aversion parameter γ\",\n",
    "    ylabel = \"Number of pies to make\",\n",
    "    legend = false,\n",
    ")"
   ],
   "metadata": {},
   "execution_count": null
  },
  {
   "cell_type": "markdown",
   "source": [
    "## Things to try"
   ],
   "metadata": {}
  },
  {
   "cell_type": "markdown",
   "source": [
    "There are a number of things you can try next:"
   ],
   "metadata": {}
  },
  {
   "cell_type": "markdown",
   "source": [
    " * Experiment with different buy and sales prices\n",
    " * Experiment with different distributions of demand\n",
    " * Explore how the optimal policy changes if you use a different risk measure\n",
    " * What happens if you can only buy and sell integer numbers of newspapers?\n",
    "   Try this by adding `Int` to the variable definitions:\n",
    "   `@variable(subproblem, buy >= 0, Int)`\n",
    " * What happens if you use a different upper bound? Try an invalid one like\n",
    "   `-100`, and a very large one like `1e12`."
   ],
   "metadata": {}
  },
  {
   "cell_type": "markdown",
   "source": [
    "# Example: deterministic to stochastic"
   ],
   "metadata": {}
  },
  {
   "cell_type": "markdown",
   "source": [
    "The purpose of this tutorial is to explain how we can go from a deterministic\n",
    "time-staged optimal control model in JuMP to a multistage stochastic\n",
    "optimization model in `SDDP.jl`. As a motivating problem, we consider the\n",
    "hydro-thermal problem with a single reservoir."
   ],
   "metadata": {}
  },
  {
   "cell_type": "markdown",
   "source": [
    "## Packages"
   ],
   "metadata": {}
  },
  {
   "cell_type": "markdown",
   "source": [
    "This tutorial requires the following packages:"
   ],
   "metadata": {}
  },
  {
   "outputs": [],
   "cell_type": "code",
   "source": [
    "using JuMP\n",
    "using SDDP\n",
    "import CSV\n",
    "import DataFrames\n",
    "import HiGHS\n",
    "import Plots"
   ],
   "metadata": {},
   "execution_count": null
  },
  {
   "cell_type": "markdown",
   "source": [
    "## Data"
   ],
   "metadata": {}
  },
  {
   "cell_type": "markdown",
   "source": [
    "First, we need some data for the problem. For this tutorial, we'll write CSV\n",
    "files to a temporary directory from Julia. If you have an existing file, you\n",
    "could change the filename to point to that instead."
   ],
   "metadata": {}
  },
  {
   "outputs": [],
   "cell_type": "code",
   "source": [
    "dir = mktempdir()\n",
    "filename = joinpath(dir, \"example_reservoir.csv\")"
   ],
   "metadata": {},
   "execution_count": null
  },
  {
   "cell_type": "markdown",
   "source": [
    "Here is the data"
   ],
   "metadata": {}
  },
  {
   "outputs": [],
   "cell_type": "code",
   "source": [
    "csv_data = \"\"\"\n",
    "week,inflow,demand,cost\n",
    "1,3,7,10.2\\n2,2,7.1,10.4\\n3,3,7.2,10.6\\n4,2,7.3,10.9\\n5,3,7.4,11.2\\n\n",
    "6,2,7.6,11.5\\n7,3,7.8,11.9\\n8,2,8.1,12.3\\n9,3,8.3,12.7\\n10,2,8.6,13.1\\n\n",
    "11,3,8.9,13.6\\n12,2,9.2,14\\n13,3,9.5,14.5\\n14,2,9.8,14.9\\n15,3,10.1,15.3\\n\n",
    "16,2,10.4,15.8\\n17,3,10.7,16.2\\n18,2,10.9,16.6\\n19,3,11.2,17\\n20,3,11.4,17.4\\n\n",
    "21,3,11.6,17.7\\n22,2,11.7,18\\n23,3,11.8,18.3\\n24,2,11.9,18.5\\n25,3,12,18.7\\n\n",
    "26,2,12,18.9\\n27,3,12,19\\n28,2,11.9,19.1\\n29,3,11.8,19.2\\n30,2,11.7,19.2\\n\n",
    "31,3,11.6,19.2\\n32,2,11.4,19.2\\n33,3,11.2,19.1\\n34,2,10.9,19\\n35,3,10.7,18.9\\n\n",
    "36,2,10.4,18.8\\n37,3,10.1,18.6\\n38,2,9.8,18.5\\n39,3,9.5,18.4\\n40,3,9.2,18.2\\n\n",
    "41,2,8.9,18.1\\n42,3,8.6,17.9\\n43,2,8.3,17.8\\n44,3,8.1,17.7\\n45,2,7.8,17.6\\n\n",
    "46,3,7.6,17.5\\n47,2,7.4,17.5\\n48,3,7.3,17.5\\n49,2,7.2,17.5\\n50,3,7.1,17.6\\n\n",
    "51,3,7,17.7\\n52,3,7,17.8\\n\n",
    "\"\"\"\n",
    "write(filename, csv_data);"
   ],
   "metadata": {},
   "execution_count": null
  },
  {
   "cell_type": "markdown",
   "source": [
    "And here we read it into a DataFrame:"
   ],
   "metadata": {}
  },
  {
   "outputs": [],
   "cell_type": "code",
   "source": [
    "data = CSV.read(filename, DataFrames.DataFrame)"
   ],
   "metadata": {},
   "execution_count": null
  },
  {
   "cell_type": "markdown",
   "source": [
    "It's easier to visualize the data if we plot it:"
   ],
   "metadata": {}
  },
  {
   "outputs": [],
   "cell_type": "code",
   "source": [
    "Plots.plot(\n",
    "    Plots.plot(data[!, :inflow], ylabel = \"Inflow\"),\n",
    "    Plots.plot(data[!, :demand], ylabel = \"Demand\"),\n",
    "    Plots.plot(data[!, :cost], ylabel = \"Cost\", xlabel = \"Week\");\n",
    "    layout = (3, 1),\n",
    "    legend = false,\n",
    ")"
   ],
   "metadata": {},
   "execution_count": null
  },
  {
   "cell_type": "markdown",
   "source": [
    "The number of weeks will be useful later:"
   ],
   "metadata": {}
  },
  {
   "outputs": [],
   "cell_type": "code",
   "source": [
    "T = size(data, 1)"
   ],
   "metadata": {},
   "execution_count": null
  },
  {
   "cell_type": "markdown",
   "source": [
    "## Deterministic JuMP model"
   ],
   "metadata": {}
  },
  {
   "cell_type": "markdown",
   "source": [
    "To start, we construct a deterministic model in pure JuMP."
   ],
   "metadata": {}
  },
  {
   "cell_type": "markdown",
   "source": [
    "Create a JuMP model, using `HiGHS` as the optimizer:"
   ],
   "metadata": {}
  },
  {
   "outputs": [],
   "cell_type": "code",
   "source": [
    "model = Model(HiGHS.Optimizer)\n",
    "set_silent(model)"
   ],
   "metadata": {},
   "execution_count": null
  },
  {
   "cell_type": "markdown",
   "source": [
    "`x_storage[t]`: the amount of water in the reservoir at the start of stage `t`:"
   ],
   "metadata": {}
  },
  {
   "outputs": [],
   "cell_type": "code",
   "source": [
    "reservoir_max = 320.0\n",
    "@variable(model, 0 <= x_storage[1:T+1] <= reservoir_max)"
   ],
   "metadata": {},
   "execution_count": null
  },
  {
   "cell_type": "markdown",
   "source": [
    "We need an initial condition for `x_storage[1]`. Fix it to 300 units:"
   ],
   "metadata": {}
  },
  {
   "outputs": [],
   "cell_type": "code",
   "source": [
    "reservoir_initial = 300\n",
    "fix(x_storage[1], reservoir_initial; force = true)"
   ],
   "metadata": {},
   "execution_count": null
  },
  {
   "cell_type": "markdown",
   "source": [
    "`u_flow[t]`: the amount of water to flow through the turbine in stage `t`:"
   ],
   "metadata": {}
  },
  {
   "outputs": [],
   "cell_type": "code",
   "source": [
    "flow_max = 12\n",
    "@variable(model, 0 <= u_flow[1:T] <= flow_max)"
   ],
   "metadata": {},
   "execution_count": null
  },
  {
   "cell_type": "markdown",
   "source": [
    "`u_spill[t]`: the amount of water to spill from the reservoir in stage `t`,\n",
    "bypassing the turbine:"
   ],
   "metadata": {}
  },
  {
   "outputs": [],
   "cell_type": "code",
   "source": [
    "@variable(model, 0 <= u_spill[1:T])"
   ],
   "metadata": {},
   "execution_count": null
  },
  {
   "cell_type": "markdown",
   "source": [
    "`u_thermal[t]`: the amount of thermal generation in stage `t`:"
   ],
   "metadata": {}
  },
  {
   "outputs": [],
   "cell_type": "code",
   "source": [
    "@variable(model, 0 <= u_thermal[1:T])"
   ],
   "metadata": {},
   "execution_count": null
  },
  {
   "cell_type": "markdown",
   "source": [
    "`ω_inflow[t]`: the amount of inflow to the reservoir in stage `t`:"
   ],
   "metadata": {}
  },
  {
   "outputs": [],
   "cell_type": "code",
   "source": [
    "@variable(model, ω_inflow[1:T])"
   ],
   "metadata": {},
   "execution_count": null
  },
  {
   "cell_type": "markdown",
   "source": [
    "For this model, our inflow is fixed, so we fix it to the data we have:"
   ],
   "metadata": {}
  },
  {
   "outputs": [],
   "cell_type": "code",
   "source": [
    "for t in 1:T\n",
    "    fix(ω_inflow[t], data[t, :inflow])\n",
    "end"
   ],
   "metadata": {},
   "execution_count": null
  },
  {
   "cell_type": "markdown",
   "source": [
    "The water balance constraint says that the water in the reservoir at the start\n",
    "of stage `t+1` is the water in the reservoir at the start of stage `t`, less\n",
    "the amount flowed through the turbine, `u_flow[t]`, less the amount spilled,\n",
    "`u_spill[t]`, plus the amount of inflow, `ω_inflow[t]`, into the reservoir:"
   ],
   "metadata": {}
  },
  {
   "outputs": [],
   "cell_type": "code",
   "source": [
    "@constraint(\n",
    "    model,\n",
    "    [t in 1:T],\n",
    "    x_storage[t+1] == x_storage[t] - u_flow[t] - u_spill[t] + ω_inflow[t],\n",
    ")"
   ],
   "metadata": {},
   "execution_count": null
  },
  {
   "cell_type": "markdown",
   "source": [
    "We also need a `supply = demand` constraint. In practice, the units of this\n",
    "would be in MWh, and there would be a conversion factor between the amount of\n",
    "water flowing through the turbine and the power output. To simplify, we assume\n",
    "that power and water have the same units, so that one \"unit\" of demand is\n",
    "equal to one \"unit\" of the reservoir `x_storage[t]`:"
   ],
   "metadata": {}
  },
  {
   "outputs": [],
   "cell_type": "code",
   "source": [
    "@constraint(model, [t in 1:T], u_flow[t] + u_thermal[t] == data[t, :demand])"
   ],
   "metadata": {},
   "execution_count": null
  },
  {
   "cell_type": "markdown",
   "source": [
    "Our objective is to minimize the cost of thermal generation:"
   ],
   "metadata": {}
  },
  {
   "outputs": [],
   "cell_type": "code",
   "source": [
    "@objective(model, Min, sum(data[t, :cost] * u_thermal[t] for t in 1:T))"
   ],
   "metadata": {},
   "execution_count": null
  },
  {
   "cell_type": "markdown",
   "source": [
    "Let's optimize and check the solution"
   ],
   "metadata": {}
  },
  {
   "outputs": [],
   "cell_type": "code",
   "source": [
    "optimize!(model)\n",
    "solution_summary(model)"
   ],
   "metadata": {},
   "execution_count": null
  },
  {
   "cell_type": "markdown",
   "source": [
    "The total cost is:"
   ],
   "metadata": {}
  },
  {
   "outputs": [],
   "cell_type": "code",
   "source": [
    "objective_value(model)"
   ],
   "metadata": {},
   "execution_count": null
  },
  {
   "cell_type": "markdown",
   "source": [
    "Here's a plot of demand and generation:"
   ],
   "metadata": {}
  },
  {
   "outputs": [],
   "cell_type": "code",
   "source": [
    "Plots.plot(data[!, :demand]; label = \"Demand\", xlabel = \"Week\")\n",
    "Plots.plot!(value.(u_thermal), label = \"Thermal\")\n",
    "Plots.plot!(value.(u_flow), label = \"Hydro\")"
   ],
   "metadata": {},
   "execution_count": null
  },
  {
   "cell_type": "markdown",
   "source": [
    "And here's the storage over time:"
   ],
   "metadata": {}
  },
  {
   "outputs": [],
   "cell_type": "code",
   "source": [
    "Plots.plot(value.(x_storage); label = \"Storage\", xlabel = \"Week\")"
   ],
   "metadata": {},
   "execution_count": null
  },
  {
   "cell_type": "markdown",
   "source": [
    "## Deterministic SDDP model"
   ],
   "metadata": {}
  },
  {
   "cell_type": "markdown",
   "source": [
    "For the next step, we show how to decompose our JuMP model into SDDP.jl. It\n",
    "should obtain the same solution."
   ],
   "metadata": {}
  },
  {
   "outputs": [],
   "cell_type": "code",
   "source": [
    "model = SDDP.LinearPolicyGraph(\n",
    "    stages = T,\n",
    "    sense = :Min,\n",
    "    lower_bound = 0.0,\n",
    "    optimizer = HiGHS.Optimizer,\n",
    ") do sp, t\n",
    "    @variable(\n",
    "        sp,\n",
    "        0 <= x_storage <= reservoir_max,\n",
    "        SDDP.State,\n",
    "        initial_value = reservoir_initial,\n",
    "    )\n",
    "    @variable(sp, 0 <= u_flow <= flow_max)\n",
    "    @variable(sp, 0 <= u_thermal)\n",
    "    @variable(sp, 0 <= u_spill)\n",
    "    @variable(sp, ω_inflow)\n",
    "    fix(ω_inflow, data[t, :inflow])\n",
    "    @constraint(sp, x_storage.out == x_storage.in - u_flow - u_spill + ω_inflow)\n",
    "    @constraint(sp, u_flow + u_thermal == data[t, :demand])\n",
    "    @stageobjective(sp, data[t, :cost] * u_thermal)\n",
    "    return\n",
    "end"
   ],
   "metadata": {},
   "execution_count": null
  },
  {
   "cell_type": "markdown",
   "source": [
    "Can you see how the JuMP model maps to this syntax? We have created a\n",
    "`SDDP.LinearPolicyGraph` with `T` stages, we're minimizing, and we're\n",
    "using `HiGHS.Optimizer` as the optimizer."
   ],
   "metadata": {}
  },
  {
   "cell_type": "markdown",
   "source": [
    "A few bits might be non-obvious:\n",
    "\n",
    "* We need to provide a lower bound for the objective function. Since our costs\n",
    "  are always positive, a valid lower bound for the total cost is `0.0`.\n",
    "* We define `x_storage` as a state variable using `SDDP.State`. A state\n",
    "  variable is any variable that flows through time, and for which we need to\n",
    "  know the value of it in stage `t-1` to compute the best action in stage `t`.\n",
    "  The state variable `x_storage` is actually two decision variables,\n",
    "  `x_storage.in` and `x_storage.out`, which represent `x_storage[t]` and\n",
    "  `x_storage[t+1]` respectively.\n",
    "* We need to use `@stageobjective` instead of `@objective`."
   ],
   "metadata": {}
  },
  {
   "cell_type": "markdown",
   "source": [
    "Instead of calling `JuMP.optimize!`, SDDP.jl uses a `train` method. With our\n",
    "machine learning hat on, you can think of SDDP.jl as training a function for\n",
    "each stage that accepts the current reservoir state as input and returns the\n",
    "optimal actions as output. It is also an iterative algorithm, so we need to\n",
    "specify when it should terminate:"
   ],
   "metadata": {}
  },
  {
   "outputs": [],
   "cell_type": "code",
   "source": [
    "SDDP.train(model; iteration_limit = 10)"
   ],
   "metadata": {},
   "execution_count": null
  },
  {
   "cell_type": "markdown",
   "source": [
    "As a quick sanity check, did we get the same cost as our JuMP model?"
   ],
   "metadata": {}
  },
  {
   "outputs": [],
   "cell_type": "code",
   "source": [
    "SDDP.calculate_bound(model)"
   ],
   "metadata": {},
   "execution_count": null
  },
  {
   "cell_type": "markdown",
   "source": [
    "That's good. Next, to check the value of the decision variables. This isn't as\n",
    "straight forward as our JuMP model. Instead, we need to _simulate_ the policy,\n",
    "and then extract the values of the decision variables from the results of the\n",
    "simulation."
   ],
   "metadata": {}
  },
  {
   "cell_type": "markdown",
   "source": [
    "Since our model is deterministic, we need only 1 replication of the\n",
    "simulation, and we want to record the values of the `x_storage`, `u_flow`, and\n",
    "`u_thermal` variables:"
   ],
   "metadata": {}
  },
  {
   "outputs": [],
   "cell_type": "code",
   "source": [
    "simulations = SDDP.simulate(\n",
    "    model,\n",
    "    1,  # Number of replications\n",
    "    [:x_storage, :u_flow, :u_thermal],\n",
    ");"
   ],
   "metadata": {},
   "execution_count": null
  },
  {
   "cell_type": "markdown",
   "source": [
    "The `simulations` vector is too big to show. But it contains one element for\n",
    "each replication, and each replication contains one dictionary for each stage."
   ],
   "metadata": {}
  },
  {
   "cell_type": "markdown",
   "source": [
    "For example, the data corresponding to the tenth stage in the first\n",
    "replication is:"
   ],
   "metadata": {}
  },
  {
   "outputs": [],
   "cell_type": "code",
   "source": [
    "simulations[1][10]"
   ],
   "metadata": {},
   "execution_count": null
  },
  {
   "cell_type": "markdown",
   "source": [
    "Let's grab the trace of the `u_thermal` and `u_flow` variables in the first\n",
    "replication, and then plot them:"
   ],
   "metadata": {}
  },
  {
   "outputs": [],
   "cell_type": "code",
   "source": [
    "r_sim = [sim[:u_thermal] for sim in simulations[1]]\n",
    "u_sim = [sim[:u_flow] for sim in simulations[1]]\n",
    "\n",
    "Plots.plot(data[!, :demand]; label = \"Demand\", xlabel = \"Week\")\n",
    "Plots.plot!(r_sim, label = \"Thermal\")\n",
    "Plots.plot!(u_sim, label = \"Hydro\")"
   ],
   "metadata": {},
   "execution_count": null
  },
  {
   "cell_type": "markdown",
   "source": [
    "Perfect. That's the same as we got before."
   ],
   "metadata": {}
  },
  {
   "cell_type": "markdown",
   "source": [
    "Now let's look at `x_storage`. This is a little more complicated, because we\n",
    "need to grab the outgoing value of the state variable in each stage:"
   ],
   "metadata": {}
  },
  {
   "outputs": [],
   "cell_type": "code",
   "source": [
    "x_sim = [sim[:x_storage].out for sim in simulations[1]]\n",
    "\n",
    "Plots.plot(x_sim; label = \"Storage\", xlabel = \"Week\")"
   ],
   "metadata": {},
   "execution_count": null
  },
  {
   "cell_type": "markdown",
   "source": [
    "## Stochastic SDDP model"
   ],
   "metadata": {}
  },
  {
   "cell_type": "markdown",
   "source": [
    "Now we add some randomness to our model. In each stage, we assume that the\n",
    "inflow could be: 2 units lower, with 30% probability; the same as before, with\n",
    "40% probability; or 5 units higher, with 30% probability."
   ],
   "metadata": {}
  },
  {
   "outputs": [],
   "cell_type": "code",
   "source": [
    "model = SDDP.LinearPolicyGraph(\n",
    "    stages = T,\n",
    "    sense = :Min,\n",
    "    lower_bound = 0.0,\n",
    "    optimizer = HiGHS.Optimizer,\n",
    ") do sp, t\n",
    "    @variable(\n",
    "        sp,\n",
    "        0 <= x_storage <= reservoir_max,\n",
    "        SDDP.State,\n",
    "        initial_value = reservoir_initial,\n",
    "    )\n",
    "    @variable(sp, 0 <= u_flow <= flow_max)\n",
    "    @variable(sp, 0 <= u_thermal)\n",
    "    @variable(sp, 0 <= u_spill)\n",
    "    @variable(sp, ω_inflow)\n",
    "    # <--- This bit is new\n",
    "    Ω, P = [-2, 0, 5], [0.3, 0.4, 0.3]\n",
    "    SDDP.parameterize(sp, Ω, P) do ω\n",
    "        fix(ω_inflow, data[t, :inflow] + ω)\n",
    "        return\n",
    "    end\n",
    "    # --->\n",
    "    @constraint(sp, x_storage.out == x_storage.in - u_flow - u_spill + ω_inflow)\n",
    "    @constraint(sp, u_flow + u_thermal == data[t, :demand])\n",
    "    @stageobjective(sp, data[t, :cost] * u_thermal)\n",
    "    return\n",
    "end"
   ],
   "metadata": {},
   "execution_count": null
  },
  {
   "cell_type": "markdown",
   "source": [
    "Can you see the differences?"
   ],
   "metadata": {}
  },
  {
   "cell_type": "markdown",
   "source": [
    "Let's train our new model. We need more iterations because of the\n",
    "stochasticity:"
   ],
   "metadata": {}
  },
  {
   "outputs": [],
   "cell_type": "code",
   "source": [
    "SDDP.train(model; iteration_limit = 100)"
   ],
   "metadata": {},
   "execution_count": null
  },
  {
   "cell_type": "markdown",
   "source": [
    "Now simulate the policy. This time we do 100 replications because the policy\n",
    "is now stochastic instead of deterministic:"
   ],
   "metadata": {}
  },
  {
   "outputs": [],
   "cell_type": "code",
   "source": [
    "simulations =\n",
    "    SDDP.simulate(model, 100, [:x_storage, :u_flow, :u_thermal, :ω_inflow]);"
   ],
   "metadata": {},
   "execution_count": null
  },
  {
   "cell_type": "markdown",
   "source": [
    "And let's plot the use of thermal generation in each replication:"
   ],
   "metadata": {}
  },
  {
   "outputs": [],
   "cell_type": "code",
   "source": [
    "plot = Plots.plot(data[!, :demand]; label = \"Demand\", xlabel = \"Week\")\n",
    "for simulation in simulations\n",
    "    Plots.plot!(plot, [sim[:u_thermal] for sim in simulation], label = \"\")\n",
    "end\n",
    "plot"
   ],
   "metadata": {},
   "execution_count": null
  },
  {
   "cell_type": "markdown",
   "source": [
    "Viewing an interpreting static plots like this is difficult, particularly as\n",
    "the number of simulations grows. SDDP.jl includes an interactive\n",
    "`SpaghettiPlot` that makes things easier:"
   ],
   "metadata": {}
  },
  {
   "outputs": [],
   "cell_type": "code",
   "source": [
    "plot = SDDP.SpaghettiPlot(simulations)\n",
    "SDDP.add_spaghetti(plot; title = \"Storage\") do sim\n",
    "    return sim[:x_storage].out\n",
    "end\n",
    "SDDP.add_spaghetti(plot; title = \"Hydro\") do sim\n",
    "    return sim[:u_flow]\n",
    "end\n",
    "SDDP.add_spaghetti(plot; title = \"Inflow\") do sim\n",
    "    return sim[:ω_inflow]\n",
    "end\n",
    "SDDP.plot(plot, \"spaghetti_plot.html\")"
   ],
   "metadata": {},
   "execution_count": null
  },
  {
   "cell_type": "markdown",
   "source": [
    "## Cyclic graphs"
   ],
   "metadata": {}
  },
  {
   "cell_type": "markdown",
   "source": [
    "One major problem with our model is that the reservoir is empty at the end of\n",
    "the time horizon. This is because our model does not consider the cost of\n",
    "future years after the `T` weeks."
   ],
   "metadata": {}
  },
  {
   "cell_type": "markdown",
   "source": [
    "We can fix this using a cyclic policy graph. One way to construct a graph is\n",
    "with the `SDDP.UnicyclicGraph` constructor:"
   ],
   "metadata": {}
  },
  {
   "outputs": [],
   "cell_type": "code",
   "source": [
    "SDDP.UnicyclicGraph(0.7; num_nodes = 2)"
   ],
   "metadata": {},
   "execution_count": null
  },
  {
   "cell_type": "markdown",
   "source": [
    "This graph has two nodes, and a loop from node 2 back to node 1 with\n",
    "probability 0.7."
   ],
   "metadata": {}
  },
  {
   "cell_type": "markdown",
   "source": [
    "We can construct a cyclic policy graph as follows:"
   ],
   "metadata": {}
  },
  {
   "outputs": [],
   "cell_type": "code",
   "source": [
    "graph = SDDP.UnicyclicGraph(0.95; num_nodes = T)\n",
    "model = SDDP.PolicyGraph(\n",
    "    graph;\n",
    "    sense = :Min,\n",
    "    lower_bound = 0.0,\n",
    "    optimizer = HiGHS.Optimizer,\n",
    ") do sp, t\n",
    "    @variable(\n",
    "        sp,\n",
    "        0 <= x_storage <= reservoir_max,\n",
    "        SDDP.State,\n",
    "        initial_value = reservoir_initial,\n",
    "    )\n",
    "    @variable(sp, 0 <= u_flow <= flow_max)\n",
    "    @variable(sp, 0 <= u_thermal)\n",
    "    @variable(sp, 0 <= u_spill)\n",
    "    @variable(sp, ω_inflow)\n",
    "    Ω, P = [-2, 0, 5], [0.3, 0.4, 0.3]\n",
    "    SDDP.parameterize(sp, Ω, P) do ω\n",
    "        fix(ω_inflow, data[t, :inflow] + ω)\n",
    "        return\n",
    "    end\n",
    "    @constraint(sp, x_storage.out == x_storage.in - u_flow - u_spill + ω_inflow)\n",
    "    @constraint(sp, u_flow + u_thermal == data[t, :demand])\n",
    "    @stageobjective(sp, data[t, :cost] * u_thermal)\n",
    "    return\n",
    "end"
   ],
   "metadata": {},
   "execution_count": null
  },
  {
   "cell_type": "markdown",
   "source": [
    "Notice how the only thing that has changed is our graph; the subproblems\n",
    "remain the same."
   ],
   "metadata": {}
  },
  {
   "cell_type": "markdown",
   "source": [
    "Let's train a policy:"
   ],
   "metadata": {}
  },
  {
   "outputs": [],
   "cell_type": "code",
   "source": [
    "SDDP.train(model; iteration_limit = 100)"
   ],
   "metadata": {},
   "execution_count": null
  },
  {
   "cell_type": "markdown",
   "source": [
    "When we simulate now, each trajectory will be a different length, because\n",
    "each cycle has a 95% probability of continuing and a 5% probability of\n",
    "stopping."
   ],
   "metadata": {}
  },
  {
   "outputs": [],
   "cell_type": "code",
   "source": [
    "simulations = SDDP.simulate(model, 3);\n",
    "length.(simulations)"
   ],
   "metadata": {},
   "execution_count": null
  },
  {
   "cell_type": "markdown",
   "source": [
    "We can simulate a fixed number of cycles by passing a `sampling_scheme`:"
   ],
   "metadata": {}
  },
  {
   "outputs": [],
   "cell_type": "code",
   "source": [
    "simulations = SDDP.simulate(\n",
    "    model,\n",
    "    100,\n",
    "    [:x_storage, :u_flow];\n",
    "    sampling_scheme = SDDP.InSampleMonteCarlo(;\n",
    "        max_depth = 5 * T,\n",
    "        terminate_on_dummy_leaf = false,\n",
    "    ),\n",
    ");\n",
    "length.(simulations)"
   ],
   "metadata": {},
   "execution_count": null
  },
  {
   "cell_type": "markdown",
   "source": [
    "Let's visualize the policy:"
   ],
   "metadata": {}
  },
  {
   "outputs": [],
   "cell_type": "code",
   "source": [
    "Plots.plot(\n",
    "    SDDP.publication_plot(simulations; ylabel = \"Storage\") do sim\n",
    "        return sim[:x_storage].out\n",
    "    end,\n",
    "    SDDP.publication_plot(simulations; ylabel = \"Hydro\") do sim\n",
    "        return sim[:u_flow]\n",
    "    end;\n",
    "    layout = (2, 1),\n",
    ")"
   ],
   "metadata": {},
   "execution_count": null
  },
  {
   "cell_type": "markdown",
   "source": [
    "## Next steps"
   ],
   "metadata": {}
  },
  {
   "cell_type": "markdown",
   "source": [
    "Our model is very basic. There are many aspects that we could improve:\n",
    "\n",
    "* Can you add a second reservoir to make a river chain?\n",
    "\n",
    "* Can you modify the problem and data to use proper units, including a\n",
    "  conversion between the volume of water flowing through the turbine and the\n",
    "  electrical power output?"
   ],
   "metadata": {}
  },
  {
   "cell_type": "markdown",
   "source": [
    "# Example: the milk producer"
   ],
   "metadata": {}
  },
  {
   "cell_type": "markdown",
   "source": [
    "The purpose of this tutorial is to demonstrate how to fit a Markovian policy\n",
    "graph to a univariate stochastic process."
   ],
   "metadata": {}
  },
  {
   "cell_type": "markdown",
   "source": [
    "This tutorial uses the following packages:"
   ],
   "metadata": {}
  },
  {
   "outputs": [],
   "cell_type": "code",
   "source": [
    "using SDDP\n",
    "import HiGHS\n",
    "import Plots"
   ],
   "metadata": {},
   "execution_count": null
  },
  {
   "cell_type": "markdown",
   "source": [
    "## Background"
   ],
   "metadata": {}
  },
  {
   "cell_type": "markdown",
   "source": [
    "A company produces milk for sale on a spot market each month. The quantity of\n",
    "milk they produce is uncertain, and so too is the price on the spot market.\n",
    "The company can store unsold milk in a stockpile of dried milk powder."
   ],
   "metadata": {}
  },
  {
   "cell_type": "markdown",
   "source": [
    "The spot price is determined by an auction system, and so varies from month to\n",
    "month, but demonstrates serial correlation. In each auction, there is\n",
    "sufficient demand that the milk producer finds a buyer for all their\n",
    "milk, regardless of the quantity they supply. Furthermore, the spot price\n",
    "is independent of the milk producer (they are a small player in the market)."
   ],
   "metadata": {}
  },
  {
   "cell_type": "markdown",
   "source": [
    "The spot price is highly volatile, and is the result of a process that is out\n",
    "of the control of the company. To counteract their price risk, the company\n",
    "engages in a forward contracting programme."
   ],
   "metadata": {}
  },
  {
   "cell_type": "markdown",
   "source": [
    "The forward contracting programme is a deal for physical milk four months in\n",
    "the future."
   ],
   "metadata": {}
  },
  {
   "cell_type": "markdown",
   "source": [
    "The futures price is the current spot price, plus some forward contango (the\n",
    "buyers gain certainty that they will receive the milk in the future)."
   ],
   "metadata": {}
  },
  {
   "cell_type": "markdown",
   "source": [
    "In general, the milk company should forward contract (since they reduce\n",
    "their price risk), however they also have production risk. Therefore, it may\n",
    "be the case that they forward contract a fixed amount, but find that they do\n",
    "not produce enough milk to meet the fixed demand. They are then forced to\n",
    "buy additional milk on the spot market."
   ],
   "metadata": {}
  },
  {
   "cell_type": "markdown",
   "source": [
    "The goal of the milk company is to choose the extent to which they forward\n",
    "contract in order to maximise (risk-adjusted) revenues, whilst managing their\n",
    "production risk."
   ],
   "metadata": {}
  },
  {
   "cell_type": "markdown",
   "source": [
    "## A stochastic process for price"
   ],
   "metadata": {}
  },
  {
   "cell_type": "markdown",
   "source": [
    "It is outside the scope of this tutorial, but assume that we have gone away\n",
    "and analysed historical data to fit a stochastic process to the sequence of\n",
    "monthly auction spot prices."
   ],
   "metadata": {}
  },
  {
   "cell_type": "markdown",
   "source": [
    "One plausible model is a multiplicative auto-regressive model of order one,\n",
    "where the white noise term is modeled by a finite distribution of empirical\n",
    "residuals. We can simulate this stochastic process as follows:"
   ],
   "metadata": {}
  },
  {
   "outputs": [],
   "cell_type": "code",
   "source": [
    "function simulator()\n",
    "    residuals = [0.0987, 0.199, 0.303, 0.412, 0.530, 0.661, 0.814, 1.010, 1.290]\n",
    "    residuals = 0.1 * vcat(-residuals, 0.0, residuals)\n",
    "    scenario = zeros(12)\n",
    "    y, μ, α = 4.5, 6.0, 0.05\n",
    "    for t in 1:12\n",
    "        y = exp((1 - α) * log(y) + α * log(μ) + rand(residuals))\n",
    "        scenario[t] = clamp(y, 3.0, 9.0)\n",
    "    end\n",
    "    return scenario\n",
    "end\n",
    "\n",
    "simulator()"
   ],
   "metadata": {},
   "execution_count": null
  },
  {
   "cell_type": "markdown",
   "source": [
    "It may be helpful to visualize a number of simulations of the price process:"
   ],
   "metadata": {}
  },
  {
   "outputs": [],
   "cell_type": "code",
   "source": [
    "plot = Plots.plot(\n",
    "    [simulator() for _ in 1:500];\n",
    "    color = \"gray\",\n",
    "    opacity = 0.2,\n",
    "    legend = false,\n",
    "    xlabel = \"Month\",\n",
    "    ylabel = \"Price [\\$/kg]\",\n",
    "    xlims = (1, 12),\n",
    "    ylims = (3, 9),\n",
    ")"
   ],
   "metadata": {},
   "execution_count": null
  },
  {
   "cell_type": "markdown",
   "source": [
    "The prices gradually revert to the mean of \\\\$6/kg, and there is high\n",
    "volatility."
   ],
   "metadata": {}
  },
  {
   "cell_type": "markdown",
   "source": [
    "We can't incorporate this price process directly into SDDP.jl, but we can fit\n",
    "a `SDDP.MarkovianGraph` directly from the simulator:"
   ],
   "metadata": {}
  },
  {
   "outputs": [],
   "cell_type": "code",
   "source": [
    "graph = SDDP.MarkovianGraph(simulator; budget = 30, scenarios = 10_000);\n",
    "nothing  # hide"
   ],
   "metadata": {},
   "execution_count": null
  },
  {
   "cell_type": "markdown",
   "source": [
    "Here `budget` is the number of nodes in the policy graph, and `scenarios` is\n",
    "the number of simulations to use when estimating the transition probabilities."
   ],
   "metadata": {}
  },
  {
   "cell_type": "markdown",
   "source": [
    "The graph contains too many nodes to be show, but we can plot it:"
   ],
   "metadata": {}
  },
  {
   "outputs": [],
   "cell_type": "code",
   "source": [
    "for ((t, price), edges) in graph.nodes\n",
    "    for ((t′, price′), probability) in edges\n",
    "        Plots.plot!(\n",
    "            plot,\n",
    "            [t, t′],\n",
    "            [price, price′];\n",
    "            color = \"red\",\n",
    "            width = 3 * probability,\n",
    "        )\n",
    "    end\n",
    "end\n",
    "\n",
    "plot"
   ],
   "metadata": {},
   "execution_count": null
  },
  {
   "cell_type": "markdown",
   "source": [
    "That looks okay. Try changing `budget` and `scenarios` to see how different\n",
    "Markovian policy graphs can be created."
   ],
   "metadata": {}
  },
  {
   "cell_type": "markdown",
   "source": [
    "## Model"
   ],
   "metadata": {}
  },
  {
   "cell_type": "markdown",
   "source": [
    "Now that we have a Markovian graph, we can build the model. See if you can\n",
    "work out how we arrived at this formulation by reading the background\n",
    "description. Do all the variables and constraints make sense?"
   ],
   "metadata": {}
  },
  {
   "outputs": [],
   "cell_type": "code",
   "source": [
    "model = SDDP.PolicyGraph(\n",
    "    graph;\n",
    "    sense = :Max,\n",
    "    upper_bound = 1e2,\n",
    "    optimizer = HiGHS.Optimizer,\n",
    ") do sp, node\n",
    "    # Decompose the node into the month (::Int) and spot price (::Float64)\n",
    "    t, price = node::Tuple{Int,Float64}\n",
    "    # Transactions on the futures market cost 0.01\n",
    "    c_transaction = 0.01\n",
    "    # It costs the company +50% to buy milk on the spot market and deliver to\n",
    "    # their customers\n",
    "    c_buy_premium = 1.5\n",
    "    # Buyer is willing to pay +5% for certainty\n",
    "    c_contango = 1.05\n",
    "    # Distribution of production\n",
    "    Ω_production = range(0.1, 0.2; length = 5)\n",
    "    c_max_production = 12 * maximum(Ω_production)\n",
    "    # x_stock: quantity of milk in stock pile\n",
    "    @variable(sp, 0 <= x_stock, SDDP.State, initial_value = 0)\n",
    "    # x_forward[i]: quantity of milk for delivery in i months\n",
    "    @variable(sp, 0 <= x_forward[1:4], SDDP.State, initial_value = 0)\n",
    "    # u_spot_sell: quantity of milk to sell on spot market\n",
    "    @variable(sp, 0 <= u_spot_sell <= c_max_production)\n",
    "    # u_spot_buy: quantity of milk to buy on spot market\n",
    "    @variable(sp, 0 <= u_spot_buy <= c_max_production)\n",
    "    # u_spot_buy: quantity of milk to sell on futures market\n",
    "    c_max_futures = t <= 8 ? c_max_production : 0.0\n",
    "    @variable(sp, 0 <= u_forward_sell <= c_max_futures)\n",
    "    # ω_production: production random variable\n",
    "    @variable(sp, ω_production)\n",
    "    # Forward contracting constraints:\n",
    "    @constraint(sp, [i in 1:3], x_forward[i].out == x_forward[i+1].in)\n",
    "    @constraint(sp, x_forward[4].out == u_forward_sell)\n",
    "    # Stockpile balance constraint\n",
    "    @constraint(\n",
    "        sp,\n",
    "        x_stock.out ==\n",
    "        x_stock.in + ω_production + u_spot_buy - x_forward[1].in - u_spot_sell\n",
    "    )\n",
    "    # The random variables. `price` comes from the Markov node\n",
    "    Ω = [(price, p) for p in Ω_production]\n",
    "    SDDP.parameterize(sp, Ω) do ω::Tuple{Float64,Float64}\n",
    "        # Fix the ω_production variable\n",
    "        fix(ω_production, ω[2])\n",
    "        @stageobjective(\n",
    "            sp,\n",
    "            # Sales on spot market\n",
    "            ω[1] * (u_spot_sell - c_buy_premium * u_spot_buy) +\n",
    "            # Sales on futures smarket\n",
    "            (ω[1] * c_contango - c_transaction) * u_forward_sell\n",
    "        )\n",
    "        return\n",
    "    end\n",
    "    return\n",
    "end"
   ],
   "metadata": {},
   "execution_count": null
  },
  {
   "cell_type": "markdown",
   "source": [
    "## Training a policy"
   ],
   "metadata": {}
  },
  {
   "cell_type": "markdown",
   "source": [
    "Now we have a model, we train a policy. The `SDDP.SimulatorSamplingScheme`\n",
    "is used in the forward pass. It generates an out-of-sample sequence of prices\n",
    "using `simulator` and traverses the closest sequence of nodes in the policy\n",
    "graph. When calling `SDDP.parameterize` for each subproblem, it uses\n",
    "the new out-of-sample price instead of the price associated with the Markov\n",
    "node."
   ],
   "metadata": {}
  },
  {
   "outputs": [],
   "cell_type": "code",
   "source": [
    "SDDP.train(\n",
    "    model;\n",
    "    time_limit = 20,\n",
    "    risk_measure = 0.5 * SDDP.Expectation() + 0.5 * SDDP.AVaR(0.25),\n",
    "    sampling_scheme = SDDP.SimulatorSamplingScheme(simulator),\n",
    ")"
   ],
   "metadata": {},
   "execution_count": null
  },
  {
   "cell_type": "markdown",
   "source": [
    "**Warning**\n",
    "    We're intentionally terminating the training early so that the\n",
    "    documentation doesn't take too long to build. If you run this example\n",
    "    locally, increase the time limit."
   ],
   "metadata": {}
  },
  {
   "cell_type": "markdown",
   "source": [
    "## Simulating the policy"
   ],
   "metadata": {}
  },
  {
   "cell_type": "markdown",
   "source": [
    "When simulating the policy, we can also use the\n",
    "`SDDP.SimulatorSamplingScheme`."
   ],
   "metadata": {}
  },
  {
   "outputs": [],
   "cell_type": "code",
   "source": [
    "simulations = SDDP.simulate(\n",
    "    model,\n",
    "    200,\n",
    "    Symbol[:x_stock, :u_forward_sell, :u_spot_sell, :u_spot_buy];\n",
    "    sampling_scheme = SDDP.SimulatorSamplingScheme(simulator),\n",
    ");\n",
    "nothing  # hide"
   ],
   "metadata": {},
   "execution_count": null
  },
  {
   "cell_type": "markdown",
   "source": [
    "To show how the sampling scheme uses the new out-of-sample price instead of\n",
    "the price associated with the Markov node, compare the index of the Markov\n",
    "state visited in stage 12 of the first simulation:"
   ],
   "metadata": {}
  },
  {
   "outputs": [],
   "cell_type": "code",
   "source": [
    "simulations[1][12][:node_index]"
   ],
   "metadata": {},
   "execution_count": null
  },
  {
   "cell_type": "markdown",
   "source": [
    "to the realization of the noise `(price, ω)` passed to `SDDP.parameterize`:"
   ],
   "metadata": {}
  },
  {
   "outputs": [],
   "cell_type": "code",
   "source": [
    "simulations[1][12][:noise_term]"
   ],
   "metadata": {},
   "execution_count": null
  },
  {
   "cell_type": "markdown",
   "source": [
    "## Visualizing the policy"
   ],
   "metadata": {}
  },
  {
   "cell_type": "markdown",
   "source": [
    "Finally, we can plot the policy to gain insight (although note that we\n",
    "terminated the training early, so we should run the re-train the policy for\n",
    "more iterations before making too many judgements)."
   ],
   "metadata": {}
  },
  {
   "outputs": [],
   "cell_type": "code",
   "source": [
    "plot = Plots.plot(\n",
    "    SDDP.publication_plot(simulations; title = \"x_stock.out\") do data\n",
    "        return data[:x_stock].out\n",
    "    end,\n",
    "    SDDP.publication_plot(simulations; title = \"u_forward_sell\") do data\n",
    "        return data[:u_forward_sell]\n",
    "    end,\n",
    "    SDDP.publication_plot(simulations; title = \"u_spot_buy\") do data\n",
    "        return data[:u_spot_buy]\n",
    "    end,\n",
    "    SDDP.publication_plot(simulations; title = \"u_spot_sell\") do data\n",
    "        return data[:u_spot_sell]\n",
    "    end;\n",
    "    layout = (2, 2),\n",
    ")"
   ],
   "metadata": {},
   "execution_count": null
  },
  {
   "cell_type": "markdown",
   "source": [
    "## Next steps"
   ],
   "metadata": {}
  },
  {
   "cell_type": "markdown",
   "source": [
    "* Train the policy for longer. What do you observe?\n",
    "* Try creating different Markovian graphs. What happens if you add more nodes?\n",
    "* Try different risk measures"
   ],
   "metadata": {}
  }
 ],
 "nbformat_minor": 3,
 "metadata": {
  "language_info": {
   "file_extension": ".jl",
   "mimetype": "application/julia",
   "name": "julia",
   "version": "1.9.3"
  },
  "kernelspec": {
   "name": "julia-1.9",
   "display_name": "Julia 1.9.3",
   "language": "julia"
  }
 },
 "nbformat": 4
}
