{
 "cells": [
  {
   "cell_type": "markdown",
   "source": [
    "# Rocket Control"
   ],
   "metadata": {}
  },
  {
   "cell_type": "markdown",
   "source": [
    "**This tutorial was originally contributed by Iain Dunning.**"
   ],
   "metadata": {}
  },
  {
   "cell_type": "markdown",
   "source": [
    "The purpose of this tutorial is to demonstrate how to setup and solve a\n",
    "nonlinear optimization problem."
   ],
   "metadata": {}
  },
  {
   "cell_type": "markdown",
   "source": [
    "The example is an optimal control problem of a nonlinear rocket."
   ],
   "metadata": {}
  },
  {
   "cell_type": "markdown",
   "source": [
    "This tutorial uses the following packages:"
   ],
   "metadata": {}
  },
  {
   "outputs": [],
   "cell_type": "code",
   "source": [
    "using JuMP\n",
    "import Ipopt\n",
    "import Plots"
   ],
   "metadata": {},
   "execution_count": null
  },
  {
   "cell_type": "markdown",
   "source": [
    "## Overview"
   ],
   "metadata": {}
  },
  {
   "cell_type": "markdown",
   "source": [
    "Our goal is to maximize the final altitude of a vertically launched rocket."
   ],
   "metadata": {}
  },
  {
   "cell_type": "markdown",
   "source": [
    "We can control the thrust of the rocket, and must take account of the rocket\n",
    "mass, fuel consumption rate, gravity, and aerodynamic drag."
   ],
   "metadata": {}
  },
  {
   "cell_type": "markdown",
   "source": [
    "Let us consider the basic description of the model (for the full description,\n",
    "including parameters for the rocket, see [COPS3](https://www.mcs.anl.gov/~more/cops/cops3.pdf))."
   ],
   "metadata": {}
  },
  {
   "cell_type": "markdown",
   "source": [
    "There are three state variables in our model:"
   ],
   "metadata": {}
  },
  {
   "cell_type": "markdown",
   "source": [
    "* Velocity: $x_v(t)$\n",
    "* Altitude: $x_h(t)$\n",
    "* Mass of rocket and remaining fuel, $x_m(t)$"
   ],
   "metadata": {}
  },
  {
   "cell_type": "markdown",
   "source": [
    "and a single control variable:"
   ],
   "metadata": {}
  },
  {
   "cell_type": "markdown",
   "source": [
    "* Thrust: $u_t(t)$."
   ],
   "metadata": {}
  },
  {
   "cell_type": "markdown",
   "source": [
    "There are three equations that control the dynamics of the rocket:"
   ],
   "metadata": {}
  },
  {
   "cell_type": "markdown",
   "source": [
    " * Rate of ascent: $$\\frac{d x_h}{dt} = x_v$$\n",
    " * Acceleration: $$\\frac{d x_v}{dt} = \\frac{u_t - D(x_h, x_v)}{x_m} - g(x_h)$$\n",
    " * Rate of mass loss: $$\\frac{d x_m}{dt} = -\\frac{u_t}{c}$$"
   ],
   "metadata": {}
  },
  {
   "cell_type": "markdown",
   "source": [
    "where drag $D(x_h, x_v)$ is a function of altitude and velocity, gravity\n",
    "$g(x_h)$ is a function of altitude, and $c$ is a constant."
   ],
   "metadata": {}
  },
  {
   "cell_type": "markdown",
   "source": [
    "These forces are defined as:\n",
    "\n",
    "$$D(x_h, x_v) = D_c \\cdot x_v^2 \\cdot e^{-h_c \\left( \\frac{x_h-x_h(0)}{x_h(0)} \\right)}$$\n",
    "and\n",
    "$$g(x_h) = g_0 \\cdot \\left( \\frac{x_h(0)}{x_h} \\right)^2$$"
   ],
   "metadata": {}
  },
  {
   "cell_type": "markdown",
   "source": [
    "We use a discretized model of time, with a fixed number of time steps, $T$."
   ],
   "metadata": {}
  },
  {
   "cell_type": "markdown",
   "source": [
    "Our goal is thus to maximize $x_h(T)$."
   ],
   "metadata": {}
  },
  {
   "cell_type": "markdown",
   "source": [
    "## Data"
   ],
   "metadata": {}
  },
  {
   "cell_type": "markdown",
   "source": [
    "All parameters in this model have been normalized to be dimensionless, and\n",
    "they are taken from [COPS3](https://www.mcs.anl.gov/~more/cops/cops3.pdf)."
   ],
   "metadata": {}
  },
  {
   "outputs": [],
   "cell_type": "code",
   "source": [
    "h_0 = 1                      # Initial height\n",
    "v_0 = 0                      # Initial velocity\n",
    "m_0 = 1.0                    # Initial mass\n",
    "m_T = 0.6                    # Final mass\n",
    "g_0 = 1                      # Gravity at the surface\n",
    "h_c = 500                    # Used for drag\n",
    "c = 0.5 * sqrt(g_0 * h_0)    # Thrust-to-fuel mass\n",
    "D_c = 0.5 * 620 * m_0 / g_0  # Drag scaling\n",
    "u_t_max = 3.5 * g_0 * m_0    # Maximum thrust\n",
    "T_max = 0.2                  # Number of seconds\n",
    "T = 1_000                    # Number of time steps\n",
    "Δt = 0.2 / T;                # Time per discretized step"
   ],
   "metadata": {},
   "execution_count": null
  },
  {
   "cell_type": "markdown",
   "source": [
    "## JuMP formulation"
   ],
   "metadata": {}
  },
  {
   "cell_type": "markdown",
   "source": [
    "First, we create a model and choose an optimizer. Since this is a nonlinear\n",
    "program, we need to use a nonlinear solver like Ipopt. We cannot use a linear\n",
    "solver like HiGHS."
   ],
   "metadata": {}
  },
  {
   "outputs": [],
   "cell_type": "code",
   "source": [
    "model = Model(Ipopt.Optimizer)\n",
    "set_silent(model)"
   ],
   "metadata": {},
   "execution_count": null
  },
  {
   "cell_type": "markdown",
   "source": [
    "Next, we create our state and control variables, which are each indexed by\n",
    "`t`. It is good practice for nonlinear programs to always provide a starting\n",
    "solution for each variable."
   ],
   "metadata": {}
  },
  {
   "outputs": [],
   "cell_type": "code",
   "source": [
    "@variable(model, x_v[1:T] >= 0, start = v_0)           # Velocity\n",
    "@variable(model, x_h[1:T] >= 0, start = h_0)           # Height\n",
    "@variable(model, x_m[1:T] >= m_T, start = m_0)         # Mass\n",
    "@variable(model, 0 <= u_t[1:T] <= u_t_max, start = 0); # Thrust"
   ],
   "metadata": {},
   "execution_count": null
  },
  {
   "cell_type": "markdown",
   "source": [
    "We implement boundary conditions by fixing variables to values."
   ],
   "metadata": {}
  },
  {
   "outputs": [],
   "cell_type": "code",
   "source": [
    "fix(x_v[1], v_0; force = true)\n",
    "fix(x_h[1], h_0; force = true)\n",
    "fix(x_m[1], m_0; force = true)\n",
    "fix(u_t[T], 0.0; force = true)"
   ],
   "metadata": {},
   "execution_count": null
  },
  {
   "cell_type": "markdown",
   "source": [
    "The objective is to maximize altitude at end of time of flight."
   ],
   "metadata": {}
  },
  {
   "outputs": [],
   "cell_type": "code",
   "source": [
    "@objective(model, Max, x_h[T])"
   ],
   "metadata": {},
   "execution_count": null
  },
  {
   "cell_type": "markdown",
   "source": [
    "Forces are defined as functions:"
   ],
   "metadata": {}
  },
  {
   "outputs": [],
   "cell_type": "code",
   "source": [
    "D(x_h, x_v) = D_c * x_v^2 * exp(-h_c * (x_h - h_0) / h_0)\n",
    "g(x_h) = g_0 * (h_0 / x_h)^2"
   ],
   "metadata": {},
   "execution_count": null
  },
  {
   "cell_type": "markdown",
   "source": [
    "The dynamical equations are implemented as constraints."
   ],
   "metadata": {}
  },
  {
   "outputs": [],
   "cell_type": "code",
   "source": [
    "ddt(x::Vector, t::Int) = (x[t] - x[t-1]) / Δt\n",
    "@constraint(model, [t in 2:T], ddt(x_h, t) == x_v[t-1])\n",
    "@constraint(\n",
    "    model,\n",
    "    [t in 2:T],\n",
    "    ddt(x_v, t) == (u_t[t-1] - D(x_h[t-1], x_v[t-1])) / x_m[t-1] - g(x_h[t-1]),\n",
    ")\n",
    "@constraint(model, [t in 2:T], ddt(x_m, t) == -u_t[t-1] / c);"
   ],
   "metadata": {},
   "execution_count": null
  },
  {
   "cell_type": "markdown",
   "source": [
    "Now we optimize the model and check that we found a solution:"
   ],
   "metadata": {}
  },
  {
   "outputs": [],
   "cell_type": "code",
   "source": [
    "optimize!(model)\n",
    "solution_summary(model)"
   ],
   "metadata": {},
   "execution_count": null
  },
  {
   "cell_type": "markdown",
   "source": [
    "Finally, we plot the solution:"
   ],
   "metadata": {}
  },
  {
   "outputs": [],
   "cell_type": "code",
   "source": [
    "function plot_trajectory(y; kwargs...)\n",
    "    return Plots.plot(\n",
    "        (1:T) * Δt,\n",
    "        value.(y);\n",
    "        xlabel = \"Time (s)\",\n",
    "        legend = false,\n",
    "        kwargs...,\n",
    "    )\n",
    "end\n",
    "\n",
    "Plots.plot(\n",
    "    plot_trajectory(x_h; ylabel = \"Altitude\"),\n",
    "    plot_trajectory(x_m; ylabel = \"Mass\"),\n",
    "    plot_trajectory(x_v; ylabel = \"Velocity\"),\n",
    "    plot_trajectory(u_t; ylabel = \"Thrust\");\n",
    "    layout = (2, 2),\n",
    ")"
   ],
   "metadata": {},
   "execution_count": null
  },
  {
   "cell_type": "markdown",
   "source": [
    "## Next steps"
   ],
   "metadata": {}
  },
  {
   "cell_type": "markdown",
   "source": [
    "* Experiment with different values for the constants. How does the solution\n",
    "  change? In particular, what happens if you change `T_max`?\n",
    "* The dynamical equations use rectangular integration for the right-hand side\n",
    "  terms. Modify the equations to use the [Trapezoidal rule](https://en.wikipedia.org/wiki/Trapezoidal_rule_(differential_equations))\n",
    "  instead. (As an example, `x_v[t-1]` would become\n",
    "  `0.5 * (x_v[t-1] + x_v[t])`.) Is there a difference?"
   ],
   "metadata": {}
  }
 ],
 "nbformat_minor": 3,
 "metadata": {
  "language_info": {
   "file_extension": ".jl",
   "mimetype": "application/julia",
   "name": "julia",
   "version": "1.9.2"
  },
  "kernelspec": {
   "name": "julia-1.9",
   "display_name": "Julia 1.9.2",
   "language": "julia"
  }
 },
 "nbformat": 4
}
