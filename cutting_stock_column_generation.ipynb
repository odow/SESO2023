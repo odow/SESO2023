{
 "cells": [
  {
   "cell_type": "markdown",
   "source": [
    "# Column generation"
   ],
   "metadata": {}
  },
  {
   "cell_type": "markdown",
   "source": [
    "The purpose of this tutorial is to demonstrate the column generation\n",
    "algorithm. As an example, it solves the [Cutting stock problem](https://en.wikipedia.org/wiki/Cutting_stock_problem)."
   ],
   "metadata": {}
  },
  {
   "cell_type": "markdown",
   "source": [
    "This tutorial uses the following packages:"
   ],
   "metadata": {}
  },
  {
   "outputs": [],
   "cell_type": "code",
   "source": [
    "using JuMP\n",
    "import DataFrames\n",
    "import HiGHS\n",
    "import Plots\n",
    "import SparseArrays"
   ],
   "metadata": {},
   "execution_count": null
  },
  {
   "cell_type": "markdown",
   "source": [
    "## Background"
   ],
   "metadata": {}
  },
  {
   "cell_type": "markdown",
   "source": [
    "The cutting stock problem is about cutting large rolls of paper into smaller\n",
    "pieces."
   ],
   "metadata": {}
  },
  {
   "cell_type": "markdown",
   "source": [
    "We denote the set of possible sized pieces that a roll can be cut into by\n",
    "$i\\in 1,\\ldots,I$. Each piece $i$ has a width, $w_i$, and a demand,\n",
    "$d_i$. The width of the large roll is $W$."
   ],
   "metadata": {}
  },
  {
   "cell_type": "markdown",
   "source": [
    "Our objective is to minimize the number of rolls needed to meet all demand."
   ],
   "metadata": {}
  },
  {
   "cell_type": "markdown",
   "source": [
    "Here's the data that we are going to use in this tutorial:"
   ],
   "metadata": {}
  },
  {
   "outputs": [],
   "cell_type": "code",
   "source": [
    "struct Piece\n",
    "    w::Float64\n",
    "    d::Int\n",
    "end\n",
    "\n",
    "struct Data\n",
    "    pieces::Vector{Piece}\n",
    "    W::Float64\n",
    "end\n",
    "\n",
    "function Base.show(io::IO, d::Data)\n",
    "    println(io, \"Data for the cutting stock problem:\")\n",
    "    println(io, \"  W = $(d.W)\")\n",
    "    println(io, \"with pieces:\")\n",
    "    println(io, \"   i   w_i d_i\")\n",
    "    println(io, \"  ------------\")\n",
    "    for (i, p) in enumerate(d.pieces)\n",
    "        println(io, lpad(i, 4), \" \", lpad(p.w, 5), \" \", lpad(p.d, 3))\n",
    "    end\n",
    "    return\n",
    "end\n",
    "\n",
    "function get_data()\n",
    "    data = [\n",
    "        75.0 38\n",
    "        75.0 44\n",
    "        75.0 30\n",
    "        75.0 41\n",
    "        75.0 36\n",
    "        53.8 33\n",
    "        53.0 36\n",
    "        51.0 41\n",
    "        50.2 35\n",
    "        32.2 37\n",
    "        30.8 44\n",
    "        29.8 49\n",
    "        20.1 37\n",
    "        16.2 36\n",
    "        14.5 42\n",
    "        11.0 33\n",
    "        8.6 47\n",
    "        8.2 35\n",
    "        6.6 49\n",
    "        5.1 42\n",
    "    ]\n",
    "    return Data([Piece(data[i, 1], data[i, 2]) for i in axes(data, 1)], 100.0)\n",
    "end\n",
    "\n",
    "data = get_data()"
   ],
   "metadata": {},
   "execution_count": null
  },
  {
   "cell_type": "markdown",
   "source": [
    "## Mathematical formulation"
   ],
   "metadata": {}
  },
  {
   "cell_type": "markdown",
   "source": [
    "To formulate the cutting stock problem as a mixed-integer linear program, we\n",
    "assume that there is a set of large rolls $j=1,\\ldots,J$ to use. Then, we\n",
    "introduce two classes of decision variables:\n",
    "* $x_{ij} \\ge 0,\\; \\text{integer}, \\; \\forall i=1,\\ldots,I,\\; j=1,\\ldots,J$\n",
    "* $y_{j} \\in \\{0, 1\\},\\; \\forall j=1,\\ldots,J.$\n",
    "$y_j$ is a binary variable that indicates if we use roll $j$, and\n",
    "$x_{ij}$ counts how many pieces of size $i$ that we cut from roll $j$."
   ],
   "metadata": {}
  },
  {
   "cell_type": "markdown",
   "source": [
    "Our mixed-integer linear program is therefore:\n",
    "$$\n",
    "\\begin{align}\n",
    "    \\min & \\sum\\limits_{j=1}^J y_j \\\\\n",
    "    \\;\\;\\text{s.t.} & \\sum\\limits_{i=1}^N w_i x_{ij} \\le W y_j & \\forall j=1,\\ldots,J \\\\\n",
    "         & \\sum\\limits_{j=1}^J x_{ij} \\ge d_i & \\forall i=1,\\ldots,I \\\\\n",
    "         & x_{ij} \\ge 0 & \\forall i=1,\\ldots,N, j=1,\\ldots,J \\\\\n",
    "         & x_{ij} \\in \\mathbb{Z} & \\forall i=1,\\ldots,I, j=1,\\ldots,J \\\\\n",
    "         & y_{j} \\in \\{0, 1\\} & \\forall j=1,\\ldots,J \\\\\n",
    "\\end{align}\n",
    "$$\n",
    "The objective is to minimize the number of rolls that we use, and the two\n",
    "constraints ensure that we respect the total width of each large roll and that\n",
    "we satisfy demand exactly."
   ],
   "metadata": {}
  },
  {
   "cell_type": "markdown",
   "source": [
    "The JuMP formulation of this model is:"
   ],
   "metadata": {}
  },
  {
   "outputs": [],
   "cell_type": "code",
   "source": [
    "I = length(data.pieces)\n",
    "J = 1_000  # Some large number\n",
    "model = Model(HiGHS.Optimizer)\n",
    "set_silent(model)\n",
    "@variable(model, x[1:I, 1:J] >= 0, Int)\n",
    "@variable(model, y[1:J], Bin)\n",
    "@objective(model, Min, sum(y))\n",
    "@constraint(model, [i in 1:I], sum(x[i, :]) >= data.pieces[i].d)\n",
    "@constraint(\n",
    "    model,\n",
    "    [j in 1:J],\n",
    "    sum(data.pieces[i].w * x[i, j] for i in 1:I) <= data.W * y[j],\n",
    ");"
   ],
   "metadata": {},
   "execution_count": null
  },
  {
   "cell_type": "markdown",
   "source": [
    "Unfortunately, we can't solve this formulation for realistic instances because\n",
    "it takes a very long time to solve. (Try removing the time limit.)"
   ],
   "metadata": {}
  },
  {
   "outputs": [],
   "cell_type": "code",
   "source": [
    "set_time_limit_sec(model, 5.0)\n",
    "optimize!(model)\n",
    "solution_summary(model)"
   ],
   "metadata": {},
   "execution_count": null
  },
  {
   "cell_type": "markdown",
   "source": [
    "However, there is a formulation that solves much faster, and that is to use a\n",
    "column generation scheme."
   ],
   "metadata": {}
  },
  {
   "cell_type": "markdown",
   "source": [
    "## Column generation theory"
   ],
   "metadata": {}
  },
  {
   "cell_type": "markdown",
   "source": [
    "The key insight for column generation is to recognize that feasible columns\n",
    "in the $x$ matrix of variables encode _cutting patterns_."
   ],
   "metadata": {}
  },
  {
   "cell_type": "markdown",
   "source": [
    "For example, if we look only at the roll $j=1$, then a feasible solution is:\n",
    "\n",
    " * $x_{1,1} = 1$ (1 unit of piece \\#1)\n",
    " * $x_{13,1} = 1$ (1 unit of piece \\#13)\n",
    " * All other $x_{i,1} = 0$\n",
    "\n",
    "Another solution is\n",
    "\n",
    " * $x_{20,1} = 19$ (19 unit of piece \\#20)\n",
    " * All other $x_{i,1} = 0$\n",
    "\n",
    "Cutting patterns like $x_{1,1} = 1$ and $x_{2,1} = 1$ are infeasible\n",
    "because the combined length is greater than $W$."
   ],
   "metadata": {}
  },
  {
   "cell_type": "markdown",
   "source": [
    "Since there are a finite number of ways that we could cut a roll into a\n",
    "valid cutting pattern, we could create a set of all possible cutting patterns\n",
    "$p = 1,\\ldots,P$, with data $a_{i,p}$ indicating how many units of piece\n",
    "$i$ we cut in pattern $p$. Then, we can formulate our mixed-integer linear\n",
    "program as:\n",
    "$$\n",
    "\\begin{align}\n",
    "    \\min & \\sum\\limits_{p=1}^P x_p \\\\\n",
    "    \\;\\;\\text{s.t.} & \\sum\\limits_{p=1}^P a_{ip} x_p \\ge d_i & \\forall i=1,\\ldots,I \\\\\n",
    "         & x_{p} \\ge 0 & \\forall p=1,\\ldots,P \\\\\n",
    "         & x_{p} \\in \\mathbb{Z} & \\forall p=1,\\ldots,P\n",
    "\\end{align}\n",
    "$$\n",
    "\n",
    "Unfortunately, there will be a very large number of these patterns, so it is\n",
    "often intractable to enumerate all columns $p=1,\\ldots,P$.\n",
    "\n",
    "Column generation is an iterative algorithm that starts with a small set of\n",
    "initial patterns, and then cleverly chooses new columns to add to the main\n",
    "MILP so that we find the optimal solution without having to enumerate every\n",
    "column."
   ],
   "metadata": {}
  },
  {
   "cell_type": "markdown",
   "source": [
    "## Choosing the initial set of patterns"
   ],
   "metadata": {}
  },
  {
   "cell_type": "markdown",
   "source": [
    "For the initial set of patterns, we create a trivial cutting pattern which\n",
    "cuts as many units of piece $i$ as will fit."
   ],
   "metadata": {}
  },
  {
   "outputs": [],
   "cell_type": "code",
   "source": [
    "patterns = map(1:I) do i\n",
    "    n_pieces = floor(Int, data.W / data.pieces[i].w)\n",
    "    return SparseArrays.sparsevec([i], [n_pieces], I)\n",
    "end"
   ],
   "metadata": {},
   "execution_count": null
  },
  {
   "cell_type": "markdown",
   "source": [
    "We can visualize the patterns as follows:"
   ],
   "metadata": {}
  },
  {
   "outputs": [],
   "cell_type": "code",
   "source": [
    "\"\"\"\n",
    "    cutting_locations(data::Data, pattern::SparseArrays.SparseVector)\n",
    "\n",
    "A function which returns a vector of the locations along the roll at which to\n",
    "cut in order to produce pattern `pattern`.\n",
    "\"\"\"\n",
    "function cutting_locations(data::Data, pattern::SparseArrays.SparseVector)\n",
    "    locations = Float64[]\n",
    "    offset = 0.0\n",
    "    for (i, c) in zip(SparseArrays.findnz(pattern)...)\n",
    "        for _ in 1:c\n",
    "            offset += data.pieces[i].w\n",
    "            push!(locations, offset)\n",
    "        end\n",
    "    end\n",
    "    return locations\n",
    "end\n",
    "\n",
    "function plot_patterns(data::Data, patterns)\n",
    "    plot = Plots.bar(;\n",
    "        xlims = (0, length(patterns) + 1),\n",
    "        ylims = (0, data.W),\n",
    "        xlabel = \"Pattern\",\n",
    "        ylabel = \"Roll length\",\n",
    "    )\n",
    "    for (i, p) in enumerate(patterns)\n",
    "        locations = cutting_locations(data, p)\n",
    "        Plots.bar!(\n",
    "            plot,\n",
    "            fill(i, length(locations)),\n",
    "            reverse(locations);\n",
    "            bar_width = 0.6,\n",
    "            label = false,\n",
    "            color = \"#90caf9\",\n",
    "        )\n",
    "    end\n",
    "    return plot\n",
    "end\n",
    "\n",
    "plot_patterns(data, patterns)"
   ],
   "metadata": {},
   "execution_count": null
  },
  {
   "cell_type": "markdown",
   "source": [
    "## The base problem"
   ],
   "metadata": {}
  },
  {
   "cell_type": "markdown",
   "source": [
    "Using the initial set of patterns, we can create and optimize our base model:"
   ],
   "metadata": {}
  },
  {
   "outputs": [],
   "cell_type": "code",
   "source": [
    "model = Model(HiGHS.Optimizer)\n",
    "set_silent(model)\n",
    "@variable(model, x[1:length(patterns)] >= 0, Int)\n",
    "@objective(model, Min, sum(x))\n",
    "@constraint(model, demand[i in 1:I], patterns[i]' * x >= data.pieces[i].d)\n",
    "optimize!(model)\n",
    "solution_summary(model)"
   ],
   "metadata": {},
   "execution_count": null
  },
  {
   "cell_type": "markdown",
   "source": [
    "This solution requires 421 rolls. This solution is sub-optimmal because the\n",
    "model does not contain the full set of possible patterns."
   ],
   "metadata": {}
  },
  {
   "cell_type": "markdown",
   "source": [
    "How do we find a new column that leads to an improved solution?"
   ],
   "metadata": {}
  },
  {
   "cell_type": "markdown",
   "source": [
    "## Choosing new columns"
   ],
   "metadata": {}
  },
  {
   "cell_type": "markdown",
   "source": [
    "Column generation chooses a new column by relaxing the integrality constraint\n",
    "on $x$ and looking at the dual variable $\\pi_i$ associated with demand\n",
    "constraint $i$."
   ],
   "metadata": {}
  },
  {
   "cell_type": "markdown",
   "source": [
    "For example, the dual of `demand[13]` is:"
   ],
   "metadata": {}
  },
  {
   "outputs": [],
   "cell_type": "code",
   "source": [
    "unset_integer.(x)\n",
    "optimize!(model)\n",
    "π_13 = dual(demand[13])"
   ],
   "metadata": {},
   "execution_count": null
  },
  {
   "cell_type": "markdown",
   "source": [
    "Using the economic interpretation of the dual variable, we can say that a one\n",
    "unit increase in demand for piece $i$ will cost an extra $\\pi_i$ rolls.\n",
    "Alternatively, we can say that a one unit increase in the left-hand side\n",
    "(for example, due to a new cutting pattern) will _save_ us $\\pi_i$ rolls.\n",
    "Therefore, we want a new column that maximizes the savings associated with\n",
    "the dual variables, while respecting the total width of the roll:\n",
    "$$\n",
    "\\begin{align}\n",
    "    \\max & \\sum\\limits_{i=1}^I \\pi_i y_i \\\\\n",
    "    \\;\\;\\text{s.t.} & \\sum\\limits_{i=1}^I w_i y_{i} \\le W \\\\\n",
    "         & y_{i} \\ge 0 & \\forall i=1,\\ldots,I \\\\\n",
    "         & y_{i} \\in \\mathbb{Z} & \\forall i=1,\\ldots,I \\\\\n",
    "\\end{align}\n",
    "$$\n",
    "If this problem, called the _pricing problem_, has an objective value greater\n",
    "than $1$, then we estimate than adding `y` as the coefficients of a new\n",
    "column will decrease the objective by more than the cost of an extra roll."
   ],
   "metadata": {}
  },
  {
   "cell_type": "markdown",
   "source": [
    "Here is code to solve the pricing problem:"
   ],
   "metadata": {}
  },
  {
   "outputs": [],
   "cell_type": "code",
   "source": [
    "function solve_pricing(data::Data, π::Vector{Float64})\n",
    "    I = length(π)\n",
    "    model = Model(HiGHS.Optimizer)\n",
    "    set_silent(model)\n",
    "    @variable(model, y[1:I] >= 0, Int)\n",
    "    @constraint(model, sum(data.pieces[i].w * y[i] for i in 1:I) <= data.W)\n",
    "    @objective(model, Max, sum(π[i] * y[i] for i in 1:I))\n",
    "    optimize!(model)\n",
    "    number_of_rolls_saved = objective_value(model)\n",
    "    if number_of_rolls_saved > 1 + 1e-8\n",
    "        # Benefit of pattern is more than the cost of a new roll plus some\n",
    "        # tolerance\n",
    "        return SparseArrays.sparse(round.(Int, value.(y)))\n",
    "    end\n",
    "    return nothing\n",
    "end"
   ],
   "metadata": {},
   "execution_count": null
  },
  {
   "cell_type": "markdown",
   "source": [
    "If we solve the pricing problem with an artificial dual vector:"
   ],
   "metadata": {}
  },
  {
   "outputs": [],
   "cell_type": "code",
   "source": [
    "solve_pricing(data, [1.0 / i for i in 1:I])"
   ],
   "metadata": {},
   "execution_count": null
  },
  {
   "cell_type": "markdown",
   "source": [
    "the solution is a roll with 1 unit of piece \\#1, 1 unit of piece \\#17, and 3\n",
    "units of piece \\#20."
   ],
   "metadata": {}
  },
  {
   "cell_type": "markdown",
   "source": [
    "If we solve the pricing problem with a dual vector of zeros, then the benefit\n",
    "of the new pattern is less than the cost of a roll, and so the function\n",
    "returns `nothing`:"
   ],
   "metadata": {}
  },
  {
   "outputs": [],
   "cell_type": "code",
   "source": [
    "solve_pricing(data, zeros(I))"
   ],
   "metadata": {},
   "execution_count": null
  },
  {
   "cell_type": "markdown",
   "source": [
    "## Iterative algorithm"
   ],
   "metadata": {}
  },
  {
   "cell_type": "markdown",
   "source": [
    "Now we can combine our base model with the pricing subproblem in an iterative\n",
    "column generation scheme:"
   ],
   "metadata": {}
  },
  {
   "outputs": [],
   "cell_type": "code",
   "source": [
    "while true\n",
    "    # Solve the linear relaxation\n",
    "    optimize!(model)\n",
    "    # Obtain a new dual vector\n",
    "    π = dual.(demand)\n",
    "    # Solve the pricing problem\n",
    "    new_pattern = solve_pricing(data, π)\n",
    "    # Stop iterating if there is no new pattern\n",
    "    if new_pattern === nothing\n",
    "        @info \"No new patterns, terminating the algorithm.\"\n",
    "        break\n",
    "    end\n",
    "    push!(patterns, new_pattern)\n",
    "    # Create a new column\n",
    "    push!(x, @variable(model, lower_bound = 0))\n",
    "    # Update the objective coefficient of the new column\n",
    "    set_objective_coefficient(model, x[end], 1.0)\n",
    "    # Update the non-zeros in the coefficient matrix\n",
    "    for (i, count) in zip(SparseArrays.findnz(new_pattern)...)\n",
    "        set_normalized_coefficient(demand[i], x[end], count)\n",
    "    end\n",
    "    println(\"Found new pattern. Total patterns = $(length(patterns))\")\n",
    "end"
   ],
   "metadata": {},
   "execution_count": null
  },
  {
   "cell_type": "markdown",
   "source": [
    "We found lots of new patterns. Here's pattern 21:"
   ],
   "metadata": {}
  },
  {
   "outputs": [],
   "cell_type": "code",
   "source": [
    "patterns[21]"
   ],
   "metadata": {},
   "execution_count": null
  },
  {
   "cell_type": "markdown",
   "source": [
    "Let's have a look at the patterns now:"
   ],
   "metadata": {}
  },
  {
   "outputs": [],
   "cell_type": "code",
   "source": [
    "plot_patterns(data, patterns)"
   ],
   "metadata": {},
   "execution_count": null
  },
  {
   "cell_type": "markdown",
   "source": [
    "## Looking at the solution"
   ],
   "metadata": {}
  },
  {
   "cell_type": "markdown",
   "source": [
    "Let's see how many of each column we need:"
   ],
   "metadata": {}
  },
  {
   "outputs": [],
   "cell_type": "code",
   "source": [
    "solution = DataFrames.DataFrame([\n",
    "    (pattern = p, rolls = value(x_p)) for (p, x_p) in enumerate(x)\n",
    "])\n",
    "filter!(row -> row.rolls > 0, solution)"
   ],
   "metadata": {},
   "execution_count": null
  },
  {
   "cell_type": "markdown",
   "source": [
    "Since we solved a linear program, some of our columns have fractional\n",
    "solutions. We can create a integer feasible solution by rounding up the\n",
    "orders. This requires 341 rolls:"
   ],
   "metadata": {}
  },
  {
   "outputs": [],
   "cell_type": "code",
   "source": [
    "sum(ceil.(Int, solution.rolls))"
   ],
   "metadata": {},
   "execution_count": null
  },
  {
   "cell_type": "markdown",
   "source": [
    "Alternatively, we can re-introduce the integrality constraints and resolve the\n",
    "problem:"
   ],
   "metadata": {}
  },
  {
   "outputs": [],
   "cell_type": "code",
   "source": [
    "set_integer.(x)\n",
    "optimize!(model)\n",
    "solution = DataFrames.DataFrame([\n",
    "    (pattern = p, rolls = value(x_p)) for (p, x_p) in enumerate(x)\n",
    "])\n",
    "filter!(row -> row.rolls > 0, solution)"
   ],
   "metadata": {},
   "execution_count": null
  },
  {
   "cell_type": "markdown",
   "source": [
    "This now requires 334 rolls:"
   ],
   "metadata": {}
  },
  {
   "outputs": [],
   "cell_type": "code",
   "source": [
    "sum(solution.rolls)"
   ],
   "metadata": {},
   "execution_count": null
  },
  {
   "cell_type": "markdown",
   "source": [
    "Note that this may not be the global minimum because we are not adding new\n",
    "columns during the solution of the mixed-integer problem `model` (an algorithm\n",
    "known as [branch and price](https://en.wikipedia.org/wiki/Branch_and_price)).\n",
    "Nevertheless, the column generation algorithm typically finds good integer\n",
    "feasible solutions to an otherwise intractable optimization problem."
   ],
   "metadata": {}
  },
  {
   "cell_type": "markdown",
   "source": [
    "## Next steps"
   ],
   "metadata": {}
  },
  {
   "cell_type": "markdown",
   "source": [
    "* Our objective function is to minimize the total number of rolls. What is the\n",
    "  total length of waste? How does that compare to the total demand?\n",
    "* Writing the optimization algorithm is only part of the challenge. Can you\n",
    "  develop a better way to communicate the solution to stakeholders?"
   ],
   "metadata": {}
  }
 ],
 "nbformat_minor": 3,
 "metadata": {
  "language_info": {
   "file_extension": ".jl",
   "mimetype": "application/julia",
   "name": "julia",
   "version": "1.9.2"
  },
  "kernelspec": {
   "name": "julia-1.9",
   "display_name": "Julia 1.9.2",
   "language": "julia"
  }
 },
 "nbformat": 4
}
